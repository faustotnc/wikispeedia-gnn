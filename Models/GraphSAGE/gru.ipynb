{
 "cells": [
  {
   "cell_type": "code",
   "execution_count": 1,
   "metadata": {},
   "outputs": [
    {
     "name": "stderr",
     "output_type": "stream",
     "text": [
      "/Users/faustogerman/miniforge3/envs/geometric/lib/python3.9/site-packages/tqdm/auto.py:21: TqdmWarning: IProgress not found. Please update jupyter and ipywidgets. See https://ipywidgets.readthedocs.io/en/stable/user_install.html\n",
      "  from .autonotebook import tqdm as notebook_tqdm\n"
     ]
    }
   ],
   "source": [
    "import torch\n",
    "import torch_scatter\n",
    "import pickle\n",
    "import random\n",
    "import datetime\n",
    "\n",
    "import numpy as np\n",
    "import pandas as pd\n",
    "import torch.nn as nn\n",
    "import torch.nn.functional as F\n",
    "import lightning as L\n",
    "\n",
    "from urllib.parse import unquote\n",
    "from torch.optim.lr_scheduler import ReduceLROnPlateau\n",
    "from lightning.pytorch.loggers import WandbLogger\n",
    "from torch.utils.data import Dataset, random_split\n",
    "from dataclasses import dataclass\n",
    "from torch_geometric.data import Data\n",
    "from torch_geometric.loader import DataLoader\n",
    "from torch_geometric.nn import global_mean_pool, GraphNorm, LayerNorm\n",
    "from torch_geometric.nn.models import GraphSAGE"
   ]
  },
  {
   "cell_type": "markdown",
   "metadata": {},
   "source": [
    "### Load the text data"
   ]
  },
  {
   "cell_type": "code",
   "execution_count": 2,
   "metadata": {},
   "outputs": [],
   "source": [
    "# Load text data\n",
    "data = pd.read_csv(f\"../../data/full_text_data.csv\")"
   ]
  },
  {
   "cell_type": "markdown",
   "metadata": {},
   "source": [
    "### Load the links"
   ]
  },
  {
   "cell_type": "code",
   "execution_count": 3,
   "metadata": {},
   "outputs": [],
   "source": [
    "# Load links\n",
    "links = pd.read_csv(\"../../data/Wikispeedia/links.tsv\", sep=\"\\t\", names=[\"src\", \"tgt\"], skiprows=12)\n",
    "links[\"src\"] = links[\"src\"].map(lambda x: unquote(x))\n",
    "links[\"tgt\"] = links[\"tgt\"].map(lambda x: unquote(x))\n",
    "\n",
    "# Create adjacency matrix\n",
    "ordered_data_titles = data[\"title\"].tolist()\n",
    "src_indices = links[\"src\"].map(lambda x: ordered_data_titles.index(x))\n",
    "tgt_indices = links[\"tgt\"].map(lambda x: ordered_data_titles.index(x))\n",
    "A = torch.zeros((len(ordered_data_titles), len(ordered_data_titles)))\n",
    "A[src_indices, tgt_indices] = 1"
   ]
  },
  {
   "cell_type": "code",
   "execution_count": 4,
   "metadata": {},
   "outputs": [],
   "source": [
    "# Load coherence graph\n",
    "with open(\"../../data/coherence_graph.pkl\", 'rb') as handle:\n",
    "    coherence_graph = pickle.load(handle)\n",
    "\n",
    "# Combine coherence graph with base links\n",
    "edge_features = A * coherence_graph"
   ]
  },
  {
   "cell_type": "code",
   "execution_count": 5,
   "metadata": {},
   "outputs": [
    {
     "name": "stderr",
     "output_type": "stream",
     "text": [
      "/var/folders/ww/02m6b2_s1bl0sbzz4jq19n500000gn/T/ipykernel_19418/2880839170.py:6: UserWarning: To copy construct from a tensor, it is recommended to use sourceTensor.clone().detach() or sourceTensor.clone().detach().requires_grad_(True), rather than torch.tensor(sourceTensor).\n",
      "  node_static_embeddings = torch.tensor(node_static_embeddings, dtype=torch.float)\n"
     ]
    },
    {
     "data": {
      "text/plain": [
       "tensor([[ 0.0038,  0.0096,  0.0519,  ..., -0.0275,  0.0512, -0.0136],\n",
       "        [-0.0361,  0.0142,  0.0874,  ..., -0.0140, -0.0216,  0.0194],\n",
       "        [ 0.0341,  0.0069,  0.0078,  ...,  0.0070,  0.0373, -0.0153],\n",
       "        ...,\n",
       "        [-0.0165,  0.0102,  0.0054,  ...,  0.0072,  0.0459, -0.0378],\n",
       "        [-0.0212,  0.0331,  0.0266,  ..., -0.0187,  0.0237, -0.0141],\n",
       "        [ 0.0375,  0.0523,  0.0282,  ...,  0.0183, -0.0107, -0.0030]])"
      ]
     },
     "execution_count": 5,
     "metadata": {},
     "output_type": "execute_result"
    }
   ],
   "source": [
    "# Load node embeddings\n",
    "with open(\"../../data/gpt4_embeddings.pkl\", 'rb') as handle:\n",
    "    obj = pickle.load(handle)\n",
    "    node_static_embeddings = obj[\"embeddings\"]\n",
    "    del obj\n",
    "node_static_embeddings = torch.tensor(node_static_embeddings, dtype=torch.float)\n",
    "node_static_embeddings"
   ]
  },
  {
   "cell_type": "markdown",
   "metadata": {},
   "source": [
    "### Load the User-Extracted Paths"
   ]
  },
  {
   "cell_type": "code",
   "execution_count": 6,
   "metadata": {},
   "outputs": [],
   "source": [
    "# Load user-extracted paths\n",
    "paths_data = pd.read_csv(f\"../../data/paths_no_back_links.tsv\", sep=\"\\t\")\n",
    "paths_data = paths_data[~(paths_data[\"rating\"].isna())]\n",
    "\n",
    "# Filter paths with at least four distinct pages\n",
    "# paths_data = paths_data[paths_data[\"path\"].apply(lambda x: len(set(x.split(\";\"))) >= 4)]\n",
    "\n",
    "# Map titles to indices\n",
    "title_to_index = {unquote(title): idx for idx, title in enumerate(data['title'])}\n",
    "paths = paths_data['path'].apply(lambda path: [title_to_index[unquote(title)] for title in path.split(';')]).tolist()\n",
    "ratings = (paths_data['rating'] - 1).tolist()  # 0-indexed ratings"
   ]
  },
  {
   "cell_type": "code",
   "execution_count": 7,
   "metadata": {},
   "outputs": [
    {
     "data": {
      "text/plain": [
       "<Axes: >"
      ]
     },
     "execution_count": 7,
     "metadata": {},
     "output_type": "execute_result"
    },
    {
     "data": {
      "image/png": "[encoded data removed]",
      "text/plain": [
       "<Figure size 640x480 with 1 Axes>"
      ]
     },
     "metadata": {},
     "output_type": "display_data"
    }
   ],
   "source": [
    "paths_data[\"rating\"].hist()"
   ]
  },
  {
   "cell_type": "code",
   "execution_count": 8,
   "metadata": {},
   "outputs": [],
   "source": [
    "class PathDataset(Dataset):\n",
    "    def __init__(self, paths, ratings, node_embeddings, edge_features):\n",
    "        self.paths = paths\n",
    "        self.ratings = ratings\n",
    "        self.node_embeddings = node_embeddings\n",
    "        self.edge_features = edge_features\n",
    "\n",
    "    def __len__(self):\n",
    "        return len(self.paths)\n",
    "\n",
    "    def __getitem__(self, idx):\n",
    "        path = self.paths[idx]\n",
    "        rating = self.ratings[idx]\n",
    "        nodes, edge_index, edge_weight = self.get_subgraph_edges(path)\n",
    "\n",
    "        x = self.node_embeddings[nodes]\n",
    "\n",
    "        data = Data(\n",
    "            x=x,\n",
    "            edge_index=edge_index,\n",
    "            edge_weight=edge_weight,\n",
    "            y=torch.tensor([rating]).to(torch.long)\n",
    "        )\n",
    "        return data\n",
    "\n",
    "    def get_subgraph_edges(self, path):\n",
    "        nodes = list(set(path))\n",
    "        node_to_idx = {node: idx for idx, node in enumerate(nodes)}\n",
    "        edges = []\n",
    "        edge_weights = []\n",
    "        for i in nodes:\n",
    "            for j in nodes:\n",
    "                weight = self.edge_features[i, j]\n",
    "                if weight > 0:\n",
    "                    edges.append([node_to_idx[i], node_to_idx[j]])\n",
    "                    edge_weights.append(weight)\n",
    "        if edges:\n",
    "            edge_index = torch.tensor(edges, dtype=torch.long).t().contiguous()\n",
    "            edge_weight = torch.tensor(edge_weights, dtype=torch.float)\n",
    "        else:\n",
    "            edge_index = torch.empty((2, 0), dtype=torch.long)\n",
    "            edge_weight = torch.tensor([], dtype=torch.float)\n",
    "        return nodes, edge_index, edge_weight\n",
    "\n",
    "# Create dataset\n",
    "dataset = PathDataset(paths, ratings, node_static_embeddings, edge_features)\n",
    "\n",
    "# Split dataset\n",
    "train_ratio = 0.85\n",
    "val_ratio = 0.05\n",
    "test_ratio = 0.1\n",
    "total_size = len(dataset)\n",
    "train_size = int(train_ratio * total_size)\n",
    "val_size = int(val_ratio * total_size)\n",
    "test_size = total_size - train_size - val_size\n",
    "\n",
    "train_dataset, val_dataset, test_dataset = random_split(\n",
    "    dataset, [train_size, val_size, test_size], generator=torch.Generator().manual_seed(42)\n",
    ")\n",
    "\n",
    "# Create data loaders\n",
    "batch_size = 6\n",
    "train_loader = DataLoader(train_dataset, batch_size=batch_size, shuffle=True)\n",
    "val_loader = DataLoader(val_dataset, batch_size=batch_size)\n",
    "test_loader = DataLoader(test_dataset, batch_size=batch_size)"
   ]
  },
  {
   "cell_type": "markdown",
   "metadata": {},
   "source": [
    "#### Map the Path Titles to Node Indices"
   ]
  },
  {
   "cell_type": "code",
   "execution_count": 9,
   "metadata": {},
   "outputs": [
    {
     "data": {
      "text/plain": [
       "tensor([0.3694, 0.3559, 0.4319, 1.1350, 2.7078])"
      ]
     },
     "execution_count": 9,
     "metadata": {},
     "output_type": "execute_result"
    }
   ],
   "source": [
    "# Counts occurrences of each class\n",
    "class_counts = torch.bincount(\n",
    "    torch.tensor(ratings)[train_dataset.indices].to(torch.int64)\n",
    ")\n",
    "\n",
    "# Calculate weights as the inverse of class frequencies\n",
    "class_weights = 1.0 / class_counts.float()\n",
    "\n",
    "# Normalize the weights so that they sum to the number of classes\n",
    "class_weights = class_weights / class_weights.sum() * len(class_counts)\n",
    "\n",
    "class_weights"
   ]
  },
  {
   "cell_type": "markdown",
   "metadata": {},
   "source": [
    "#### Class Weights for Imbalanced Training"
   ]
  },
  {
   "cell_type": "code",
   "execution_count": 10,
   "metadata": {},
   "outputs": [],
   "source": [
    "from sklearn.metrics import confusion_matrix, ConfusionMatrixDisplay\n",
    "import matplotlib.pyplot as plt\n",
    "\n",
    "def conf_matrix(model, dataset_loader):\n",
    "    # Pass the testing loader through the model\n",
    "    all_preds = []\n",
    "    all_labels = []\n",
    "\n",
    "    model.eval()\n",
    "    with torch.no_grad():\n",
    "        for batch in dataset_loader:\n",
    "            logits = model(batch.x, batch.edge_index, batch.batch)\n",
    "            preds = logits.argmax(dim=1).cpu().numpy()\n",
    "            labels = batch.y.cpu().numpy()\n",
    "            \n",
    "            all_preds.extend(preds)\n",
    "            all_labels.extend(labels)\n",
    "\n",
    "    # Compute confusion matrix\n",
    "    cm = confusion_matrix(all_labels, all_preds)\n",
    "    disp = ConfusionMatrixDisplay(confusion_matrix=cm)\n",
    "\n",
    "    # Plot confusion matrix\n",
    "    disp.plot(cmap=plt.cm.Blues)\n",
    "    plt.show()"
   ]
  },
  {
   "cell_type": "markdown",
   "metadata": {},
   "source": [
    "## The Model"
   ]
  },
  {
   "cell_type": "code",
   "execution_count": null,
   "metadata": {},
   "outputs": [],
   "source": [
    "class Model(nn.Module):\n",
    "    def __init__(self, node_in_feats, hidden_feats, num_classes, dropout=0.0, bias=True):\n",
    "        super(Model, self).__init__()\n",
    "        self.sage = GraphSAGE(\n",
    "            in_channels=node_in_feats,\n",
    "            hidden_channels=hidden_feats,\n",
    "            num_layers=1,\n",
    "            dropout=dropout,\n",
    "            bias=bias\n",
    "        )\n",
    "\n",
    "        # GRU for sequence-based aggregation\n",
    "        self.gru = nn.GRU(\n",
    "            input_size=hidden_feats,\n",
    "            hidden_size=hidden_feats,\n",
    "            num_layers=3,\n",
    "            batch_first=True,\n",
    "        )\n",
    "\n",
    "        self.classifier_head = nn.Sequential(\n",
    "            nn.Linear(hidden_feats, hidden_feats),\n",
    "            nn.ReLU(),\n",
    "            nn.Linear(hidden_feats, num_classes)\n",
    "        )\n",
    "\n",
    "    def forward(self, node_features, edge_index, batch_mask):\n",
    "        sage_out = self.sage(node_features, edge_index)\n",
    "\n",
    "        # Use GRU to aggregate node embeddings based on node order\n",
    "        # Group nodes by graph using the batch_mask\n",
    "        unique_graphs = batch_mask.unique()\n",
    "        graphs_embeddings = []\n",
    "        \n",
    "        for graph_id in unique_graphs:\n",
    "            # Shape: [1, num_nodes_in_graph, hidden_channels]\n",
    "            curr_graph_nodes = sage_out[batch_mask == graph_id].unsqueeze(0)\n",
    "            \n",
    "            # Pass through GRU. The GRU processes the nodes in the order\n",
    "            # specified by node_order internally and outputs the last hidden state\n",
    "            _, hidden_state = self.gru(curr_graph_nodes)  # hidden_state: [num_gru_layers, 1, gru_hidden_size]\n",
    "            graphs_embeddings.append(hidden_state[-1, 0])  # Take the last layer's hidden state for this graph\n",
    "\n",
    "        # Stack all graph embeddings\n",
    "        graphs_embeddings = torch.stack(graphs_embeddings)  # Shape: [num_graphs, gru_hidden_size]\n",
    "        \n",
    "        return self.classifier_head(graphs_embeddings)"
   ]
  },
  {
   "cell_type": "code",
   "execution_count": 12,
   "metadata": {},
   "outputs": [],
   "source": [
    "MODEL = Model(\n",
    "    node_static_embeddings.shape[1],\n",
    "    hidden_feats=512,  # Hidden layer size for GraphSAGE\n",
    "    num_classes=5,  # Number of classes\n",
    ")"
   ]
  },
  {
   "cell_type": "code",
   "execution_count": 13,
   "metadata": {},
   "outputs": [
    {
     "data": {
      "image/png": "[encoded data removed]",
      "text/plain": [
       "<Figure size 640x480 with 2 Axes>"
      ]
     },
     "metadata": {},
     "output_type": "display_data"
    }
   ],
   "source": [
    "conf_matrix(MODEL, test_loader)"
   ]
  },
  {
   "cell_type": "markdown",
   "metadata": {},
   "source": [
    "## Training the Model"
   ]
  },
  {
   "cell_type": "code",
   "execution_count": 14,
   "metadata": {},
   "outputs": [],
   "source": [
    "class LitModel(L.LightningModule):\n",
    "    def __init__(self, model, config):\n",
    "        super().__init__()\n",
    "        self.model = model\n",
    "        self.config = config\n",
    "\n",
    "    def training_step(self, batch, batch_idx):\n",
    "        logits = self.do_forward(batch)\n",
    "        loss = self.compute_loss(logits, batch.y)\n",
    "\n",
    "        loss = self.compute_loss(logits, batch.y)\n",
    "        acc = self.compute_accuracy(logits, batch.y)\n",
    "\n",
    "        # Log training loss and accuracy\n",
    "        self.log(\"training_loss\", loss, on_step=True, on_epoch=True, logger=True, batch_size=batch_size)\n",
    "        self.log(\"training_accuracy\", acc, on_step=True, on_epoch=True, logger=True, batch_size=batch_size)\n",
    "\n",
    "        return loss\n",
    "\n",
    "    def test_step(self, batch):\n",
    "        logits = self.do_forward(batch)\n",
    "\n",
    "        loss = self.compute_loss(logits, batch.y)\n",
    "        acc = self.compute_accuracy(logits, batch.y)\n",
    "\n",
    "        self.log(\"test_loss\", loss, on_step=True, on_epoch=True, batch_size=batch_size)\n",
    "        self.log(\"test_accuracy\", acc, on_step=True, on_epoch=True, batch_size=batch_size)\n",
    "\n",
    "    def validation_step(self, batch, batch_idx):\n",
    "        logits = self.do_forward(batch)\n",
    "\n",
    "        loss = self.compute_loss(logits, batch.y)\n",
    "        acc = self.compute_accuracy(logits, batch.y)\n",
    "\n",
    "        # Log validation loss and accuracy\n",
    "        self.log(\"validation_loss\", loss, on_step=True, on_epoch=True, logger=True, batch_size=batch_size)\n",
    "        self.log(\"validation_accuracy\", acc, on_step=True, on_epoch=True, logger=True, batch_size=batch_size)\n",
    "\n",
    "    def configure_optimizers(self):\n",
    "        optimizer = torch.optim.AdamW(\n",
    "            params=self.model.parameters(),\n",
    "            lr=self.config.learning_rate,\n",
    "            weight_decay=self.config.weight_decay,\n",
    "            betas=(self.config.beta1, self.config.beta2),\n",
    "        )\n",
    "\n",
    "        return {\n",
    "            \"optimizer\": optimizer,\n",
    "            \"lr_scheduler\": {\n",
    "                \"scheduler\": ReduceLROnPlateau(optimizer),\n",
    "                \"interval\": \"epoch\",\n",
    "                \"frequency\": 1,\n",
    "                \"monitor\": \"validation_loss\",\n",
    "                \"strict\": True,\n",
    "            }\n",
    "        }\n",
    "\n",
    "    def do_forward(self, batch):\n",
    "        \"\"\"This is a custom method not associated with Lightning\"\"\"\n",
    "        return self.model(\n",
    "            node_features=batch.x,\n",
    "            edge_index=batch.edge_index,\n",
    "            batch_mask=batch.batch\n",
    "        )\n",
    "\n",
    "    def compute_loss(self, logits, targets):\n",
    "        \"\"\"This is a custom method not associated with Lightning\"\"\"\n",
    "        targets = targets.type(torch.long)\n",
    "        return F.cross_entropy(logits, targets, weight=class_weights)\n",
    "\n",
    "    def compute_accuracy(self, logits, targets):\n",
    "        \"\"\"This is a custom method not associated with Lightning\"\"\"\n",
    "        return (logits.argmax(1) == targets).float().mean()"
   ]
  },
  {
   "cell_type": "code",
   "execution_count": null,
   "metadata": {},
   "outputs": [],
   "source": [
    "@dataclass\n",
    "class ModelConfig:\n",
    "    learning_rate: float = 1e-3\n",
    "    weight_decay: float = 5e-4\n",
    "    beta1: float = 0.9\n",
    "    beta2: float = 0.999\n",
    "    grad_clip: float = None\n",
    "    num_epochs: int = 6\n",
    "    log_interval: int = 1\n",
    "    grad_accumulation: int = 1\n",
    "    wandb_project: str = \"wikispeedia_v3\"\n",
    "\n",
    "\n",
    "config = ModelConfig()"
   ]
  },
  {
   "cell_type": "code",
   "execution_count": 16,
   "metadata": {},
   "outputs": [],
   "source": [
    "# model\n",
    "the_model = LitModel(MODEL, config)"
   ]
  },
  {
   "cell_type": "code",
   "execution_count": 17,
   "metadata": {},
   "outputs": [
    {
     "name": "stderr",
     "output_type": "stream",
     "text": [
      "/Users/faustogerman/miniforge3/envs/geometric/lib/python3.9/site-packages/lightning/pytorch/core/module.py:445: You are trying to `self.log()` but the `self.trainer` reference is not registered on the model yet. This is most likely because the model hasn't been passed to the `Trainer`\n"
     ]
    }
   ],
   "source": [
    "# Create the Lightning Model\n",
    "lit_model = LitModel(MODEL, config)\n",
    "\n",
    "# Test the model with one batch\n",
    "# to make sure everything is working\n",
    "it = next(iter(test_loader))\n",
    "lit_model.test_step(it)"
   ]
  },
  {
   "cell_type": "code",
   "execution_count": 18,
   "metadata": {},
   "outputs": [
    {
     "name": "stderr",
     "output_type": "stream",
     "text": [
      "\u001b[34m\u001b[1mwandb\u001b[0m: Using wandb-core as the SDK backend. Please refer to https://wandb.me/wandb-core for more information.\n",
      "\u001b[34m\u001b[1mwandb\u001b[0m: Currently logged in as: \u001b[33mfaustotnc\u001b[0m. Use \u001b[1m`wandb login --relogin`\u001b[0m to force relogin\n"
     ]
    },
    {
     "data": {
      "text/html": [
       "Tracking run with wandb version 0.18.5"
      ],
      "text/plain": [
       "<IPython.core.display.HTML object>"
      ]
     },
     "metadata": {},
     "output_type": "display_data"
    },
    {
     "data": {
      "text/html": [
       "Run data is saved locally in <code>./wandb/run-20241202_123243-pn4ys2rm</code>"
      ],
      "text/plain": [
       "<IPython.core.display.HTML object>"
      ]
     },
     "metadata": {},
     "output_type": "display_data"
    },
    {
     "data": {
      "text/html": [
       "Syncing run <strong><a href='https://wandb.ai/faustotnc/wikispeedia_v3/runs/pn4ys2rm' target=\"_blank\">Dec-02-24 @ 12:32 PM</a></strong> to <a href='https://wandb.ai/faustotnc/wikispeedia_v3' target=\"_blank\">Weights & Biases</a> (<a href='https://wandb.me/run' target=\"_blank\">docs</a>)<br/>"
      ],
      "text/plain": [
       "<IPython.core.display.HTML object>"
      ]
     },
     "metadata": {},
     "output_type": "display_data"
    },
    {
     "data": {
      "text/html": [
       " View project at <a href='https://wandb.ai/faustotnc/wikispeedia_v3' target=\"_blank\">https://wandb.ai/faustotnc/wikispeedia_v3</a>"
      ],
      "text/plain": [
       "<IPython.core.display.HTML object>"
      ]
     },
     "metadata": {},
     "output_type": "display_data"
    },
    {
     "data": {
      "text/html": [
       " View run at <a href='https://wandb.ai/faustotnc/wikispeedia_v3/runs/pn4ys2rm' target=\"_blank\">https://wandb.ai/faustotnc/wikispeedia_v3/runs/pn4ys2rm</a>"
      ],
      "text/plain": [
       "<IPython.core.display.HTML object>"
      ]
     },
     "metadata": {},
     "output_type": "display_data"
    },
    {
     "name": "stderr",
     "output_type": "stream",
     "text": [
      "\u001b[34m\u001b[1mwandb\u001b[0m: logging graph, to disable use `wandb.watch(log_graph=False)`\n",
      "GPU available: True (mps), used: False\n",
      "TPU available: False, using: 0 TPU cores\n",
      "HPU available: False, using: 0 HPUs\n",
      "/Users/faustogerman/miniforge3/envs/geometric/lib/python3.9/site-packages/lightning/pytorch/trainer/setup.py:177: GPU available but not used. You can set it by doing `Trainer(accelerator='gpu')`.\n",
      "\n",
      "  | Name  | Type  | Params | Mode\n",
      "---------------------------------------\n",
      "0 | model | Model | 6.6 M  | eval\n",
      "---------------------------------------\n",
      "6.6 M     Trainable params\n",
      "0         Non-trainable params\n",
      "6.6 M     Total params\n",
      "26.266    Total estimated model params size (MB)\n",
      "0         Modules in train mode\n",
      "17        Modules in eval mode\n"
     ]
    },
    {
     "name": "stdout",
     "output_type": "stream",
     "text": [
      "                                                                           "
     ]
    },
    {
     "name": "stderr",
     "output_type": "stream",
     "text": [
      "/Users/faustogerman/miniforge3/envs/geometric/lib/python3.9/site-packages/lightning/pytorch/trainer/connectors/data_connector.py:424: The 'val_dataloader' does not have many workers which may be a bottleneck. Consider increasing the value of the `num_workers` argument` to `num_workers=9` in the `DataLoader` to improve performance.\n",
      "/Users/faustogerman/miniforge3/envs/geometric/lib/python3.9/site-packages/lightning/pytorch/trainer/connectors/data_connector.py:424: The 'train_dataloader' does not have many workers which may be a bottleneck. Consider increasing the value of the `num_workers` argument` to `num_workers=9` in the `DataLoader` to improve performance.\n"
     ]
    },
    {
     "name": "stdout",
     "output_type": "stream",
     "text": [
      "Epoch 5: 100%|██████████| 4038/4038 [09:06<00:00,  7.39it/s, v_num=s2rm]"
     ]
    },
    {
     "name": "stderr",
     "output_type": "stream",
     "text": [
      "`Trainer.fit` stopped: `max_epochs=6` reached.\n"
     ]
    },
    {
     "name": "stdout",
     "output_type": "stream",
     "text": [
      "Epoch 5: 100%|██████████| 4038/4038 [09:06<00:00,  7.39it/s, v_num=s2rm]"
     ]
    },
    {
     "name": "stderr",
     "output_type": "stream",
     "text": [
      "FIT Profiler Report\n",
      "\n",
      "--------------------------------------------------------------------------------------------------------------------------------------------------------------------------------------------------------------------------------------------------------------------------\n",
      "|  Action                                                                                                                                                         \t|  Mean duration (s)\t|  Num calls      \t|  Total time (s) \t|  Percentage %   \t|\n",
      "--------------------------------------------------------------------------------------------------------------------------------------------------------------------------------------------------------------------------------------------------------------------------\n",
      "|  Total                                                                                                                                                          \t|  -              \t|  912621         \t|  3211.1         \t|  100 %          \t|\n",
      "--------------------------------------------------------------------------------------------------------------------------------------------------------------------------------------------------------------------------------------------------------------------------\n",
      "|  run_training_epoch                                                                                                                                             \t|  535.16         \t|  6              \t|  3211.0         \t|  99.997         \t|\n",
      "|  run_training_batch                                                                                                                                             \t|  0.12299        \t|  24228          \t|  2979.8         \t|  92.797         \t|\n",
      "|  [LightningModule]LitModel.optimizer_step                                                                                                                       \t|  0.12235        \t|  24228          \t|  2964.4         \t|  92.319         \t|\n",
      "|  [Strategy]SingleDeviceStrategy.backward                                                                                                                        \t|  0.09273        \t|  24228          \t|  2246.7         \t|  69.966         \t|\n",
      "|  [Strategy]SingleDeviceStrategy.training_step                                                                                                                   \t|  0.021254       \t|  24228          \t|  514.94         \t|  16.036         \t|\n",
      "|  [_TrainingEpochLoop].train_dataloader_next                                                                                                                     \t|  0.0037809      \t|  24228          \t|  91.604         \t|  2.8528         \t|\n",
      "|  [Strategy]SingleDeviceStrategy.validation_step                                                                                                                 \t|  0.019625       \t|  2858           \t|  56.087         \t|  1.7467         \t|\n",
      "|  [Callback]TQDMProgressBar.on_train_batch_end                                                                                                                   \t|  0.001612       \t|  24228          \t|  39.055         \t|  1.2163         \t|\n",
      "|  [LightningModule]LitModel.optimizer_zero_grad                                                                                                                  \t|  0.0011577      \t|  24228          \t|  28.049         \t|  0.8735         \t|\n",
      "|  [_EvaluationLoop].val_next                                                                                                                                     \t|  0.0037482      \t|  2858           \t|  10.712         \t|  0.33361        \t|\n",
      "|  [Callback]ModelCheckpoint{'monitor': None, 'mode': 'min', 'every_n_train_steps': 0, 'every_n_epochs': 1, 'train_time_interval': None}.on_validation_end        \t|  0.41619        \t|  13             \t|  5.4105         \t|  0.16849        \t|\n",
      "|  [Callback]TQDMProgressBar.on_validation_batch_end                                                                                                              \t|  0.0016224      \t|  2858           \t|  4.6369         \t|  0.1444         \t|\n",
      "|  [Strategy]SingleDeviceStrategy.batch_to_device                                                                                                                 \t|  4.2702e-05     \t|  27086          \t|  1.1566         \t|  0.03602        \t|\n",
      "|  [LightningModule]LitModel.transfer_batch_to_device                                                                                                             \t|  2.3175e-05     \t|  27086          \t|  0.62771        \t|  0.019548       \t|\n",
      "|  [Callback]ModelCheckpoint{'monitor': None, 'mode': 'min', 'every_n_train_steps': 0, 'every_n_epochs': 1, 'train_time_interval': None}.on_train_batch_end       \t|  1.8627e-05     \t|  24228          \t|  0.45129        \t|  0.014054       \t|\n",
      "|  [LightningModule]LitModel.configure_gradient_clipping                                                                                                          \t|  1.859e-05      \t|  24228          \t|  0.45041        \t|  0.014027       \t|\n",
      "|  [Callback]TQDMProgressBar.on_after_backward                                                                                                                    \t|  4.5059e-06     \t|  24228          \t|  0.10917        \t|  0.0033997      \t|\n",
      "|  [Callback]ModelSummary.on_train_batch_end                                                                                                                      \t|  3.8988e-06     \t|  24228          \t|  0.09446        \t|  0.0029417      \t|\n",
      "|  [Callback]TQDMProgressBar.on_before_optimizer_step                                                                                                             \t|  2.271e-06      \t|  24228          \t|  0.055021       \t|  0.0017135      \t|\n",
      "|  [Callback]TQDMProgressBar.on_before_zero_grad                                                                                                                  \t|  1.7552e-06     \t|  24228          \t|  0.042525       \t|  0.0013243      \t|\n",
      "|  [Callback]TQDMProgressBar.on_validation_batch_start                                                                                                            \t|  1.4041e-05     \t|  2858           \t|  0.040128       \t|  0.0012497      \t|\n",
      "|  [LightningModule]LitModel.on_before_batch_transfer                                                                                                             \t|  1.3974e-06     \t|  27086          \t|  0.037849       \t|  0.0011787      \t|\n",
      "|  [Callback]TQDMProgressBar.on_before_backward                                                                                                                   \t|  1.3138e-06     \t|  24228          \t|  0.031831       \t|  0.0009913      \t|\n",
      "|  [Callback]TQDMProgressBar.on_train_batch_start                                                                                                                 \t|  1.2347e-06     \t|  24228          \t|  0.029915       \t|  0.00093161     \t|\n",
      "|  [Callback]TQDMProgressBar.on_validation_end                                                                                                                    \t|  0.0019278      \t|  13             \t|  0.025062       \t|  0.00078048     \t|\n",
      "|  [LightningModule]LitModel.on_train_batch_end                                                                                                                   \t|  9.3318e-07     \t|  24228          \t|  0.022609       \t|  0.0007041      \t|\n",
      "|  [Callback]ModelCheckpoint{'monitor': None, 'mode': 'min', 'every_n_train_steps': 0, 'every_n_epochs': 1, 'train_time_interval': None}.on_before_backward       \t|  8.9341e-07     \t|  24228          \t|  0.021645       \t|  0.00067409     \t|\n",
      "|  [Callback]ModelSummary.on_before_zero_grad                                                                                                                     \t|  8.7905e-07     \t|  24228          \t|  0.021298       \t|  0.00066326     \t|\n",
      "|  [LightningModule]LitModel.on_before_zero_grad                                                                                                                  \t|  8.7754e-07     \t|  24228          \t|  0.021261       \t|  0.00066211     \t|\n",
      "|  [LightningModule]LitModel.on_after_backward                                                                                                                    \t|  8.7737e-07     \t|  24228          \t|  0.021257       \t|  0.00066199     \t|\n",
      "|  [LightningModule]LitModel.on_before_backward                                                                                                                   \t|  8.5981e-07     \t|  24228          \t|  0.020831       \t|  0.00064874     \t|\n",
      "|  [Callback]TQDMProgressBar.on_validation_start                                                                                                                  \t|  0.0015974      \t|  13             \t|  0.020766       \t|  0.00064669     \t|\n",
      "|  [Callback]ModelSummary.on_after_backward                                                                                                                       \t|  7.8899e-07     \t|  24228          \t|  0.019116       \t|  0.00059531     \t|\n",
      "|  [Callback]ModelSummary.on_train_batch_start                                                                                                                    \t|  7.6147e-07     \t|  24228          \t|  0.018449       \t|  0.00057454     \t|\n",
      "|  [Callback]TQDMProgressBar.on_sanity_check_start                                                                                                                \t|  0.018341       \t|  1              \t|  0.018341       \t|  0.00057117     \t|\n",
      "|  [Callback]ModelCheckpoint{'monitor': None, 'mode': 'min', 'every_n_train_steps': 0, 'every_n_epochs': 1, 'train_time_interval': None}.on_after_backward        \t|  7.5065e-07     \t|  24228          \t|  0.018187       \t|  0.00056638     \t|\n",
      "|  [Callback]ModelCheckpoint{'monitor': None, 'mode': 'min', 'every_n_train_steps': 0, 'every_n_epochs': 1, 'train_time_interval': None}.on_before_zero_grad      \t|  7.4919e-07     \t|  24228          \t|  0.018151       \t|  0.00056527     \t|\n",
      "|  [Callback]ModelCheckpoint{'monitor': None, 'mode': 'min', 'every_n_train_steps': 0, 'every_n_epochs': 1, 'train_time_interval': None}.on_before_optimizer_step \t|  6.9411e-07     \t|  24228          \t|  0.016817       \t|  0.00052371     \t|\n",
      "|  [Callback]ModelSummary.on_before_optimizer_step                                                                                                                \t|  6.8119e-07     \t|  24228          \t|  0.016504       \t|  0.00051397     \t|\n",
      "|  [Callback]ModelCheckpoint{'monitor': None, 'mode': 'min', 'every_n_train_steps': 0, 'every_n_epochs': 1, 'train_time_interval': None}.on_train_batch_start     \t|  6.7588e-07     \t|  24228          \t|  0.016375       \t|  0.00050996     \t|\n",
      "|  [Callback]ModelSummary.on_before_backward                                                                                                                      \t|  6.6804e-07     \t|  24228          \t|  0.016185       \t|  0.00050405     \t|\n",
      "|  [LightningModule]LitModel.on_validation_model_zero_grad                                                                                                        \t|  0.0012824      \t|  12             \t|  0.015389       \t|  0.00047926     \t|\n",
      "|  [Strategy]SingleDeviceStrategy.on_train_batch_start                                                                                                            \t|  6.1359e-07     \t|  24228          \t|  0.014866       \t|  0.00046296     \t|\n",
      "|  [LightningModule]LitModel.on_before_optimizer_step                                                                                                             \t|  6.0872e-07     \t|  24228          \t|  0.014748       \t|  0.00045929     \t|\n",
      "|  [LightningModule]LitModel.on_train_batch_start                                                                                                                 \t|  6.0166e-07     \t|  24228          \t|  0.014577       \t|  0.00045396     \t|\n",
      "|  [LightningModule]LitModel.on_after_batch_transfer                                                                                                              \t|  5.2127e-07     \t|  27086          \t|  0.014119       \t|  0.00043971     \t|\n",
      "|  [Callback]ModelSummary.on_validation_batch_end                                                                                                                 \t|  4.509e-06      \t|  2858           \t|  0.012887       \t|  0.00040132     \t|\n",
      "|  [Callback]TQDMProgressBar.on_train_epoch_end                                                                                                                   \t|  0.0011272      \t|  6              \t|  0.0067632      \t|  0.00021062     \t|\n",
      "|  [Callback]TQDMProgressBar.on_train_epoch_start                                                                                                                 \t|  0.0009332      \t|  6              \t|  0.0055992      \t|  0.00017437     \t|\n",
      "|  [Callback]ModelSummary.on_validation_batch_start                                                                                                               \t|  1.1111e-06     \t|  2858           \t|  0.0031756      \t|  9.8896e-05     \t|\n",
      "|  [LightningModule]LitModel.on_validation_batch_end                                                                                                              \t|  9.9742e-07     \t|  2858           \t|  0.0028506      \t|  8.8775e-05     \t|\n",
      "|  [Callback]ModelCheckpoint{'monitor': None, 'mode': 'min', 'every_n_train_steps': 0, 'every_n_epochs': 1, 'train_time_interval': None}.on_validation_batch_end  \t|  9.5552e-07     \t|  2858           \t|  0.0027309      \t|  8.5045e-05     \t|\n",
      "|  [LightningModule]LitModel.on_validation_batch_start                                                                                                            \t|  7.1771e-07     \t|  2858           \t|  0.0020512      \t|  6.3879e-05     \t|\n",
      "|  [Callback]ModelCheckpoint{'monitor': None, 'mode': 'min', 'every_n_train_steps': 0, 'every_n_epochs': 1, 'train_time_interval': None}.on_validation_batch_start\t|  7.0916e-07     \t|  2858           \t|  0.0020268      \t|  6.3119e-05     \t|\n",
      "|  [LightningModule]LitModel.on_validation_model_eval                                                                                                             \t|  8.7865e-05     \t|  13             \t|  0.0011423      \t|  3.5572e-05     \t|\n",
      "|  [Callback]TQDMProgressBar.on_train_start                                                                                                                       \t|  0.00090425     \t|  1              \t|  0.00090425     \t|  2.816e-05      \t|\n",
      "|  [Callback]ModelSummary.on_fit_start                                                                                                                            \t|  0.00085567     \t|  1              \t|  0.00085567     \t|  2.6647e-05     \t|\n",
      "|  [Callback]TQDMProgressBar.on_train_end                                                                                                                         \t|  0.00062179     \t|  1              \t|  0.00062179     \t|  1.9364e-05     \t|\n",
      "|  [Callback]ModelCheckpoint{'monitor': None, 'mode': 'min', 'every_n_train_steps': 0, 'every_n_epochs': 1, 'train_time_interval': None}.setup                    \t|  0.00048362     \t|  1              \t|  0.00048362     \t|  1.5061e-05     \t|\n",
      "|  [LightningModule]LitModel.lr_scheduler_step                                                                                                                    \t|  7.5972e-05     \t|  6              \t|  0.00045583     \t|  1.4196e-05     \t|\n",
      "|  [LightningModule]LitModel.configure_optimizers                                                                                                                 \t|  0.00025375     \t|  1              \t|  0.00025375     \t|  7.9024e-06     \t|\n",
      "|  [Callback]ModelCheckpoint{'monitor': None, 'mode': 'min', 'every_n_train_steps': 0, 'every_n_epochs': 1, 'train_time_interval': None}.on_train_epoch_end       \t|  1.7118e-05     \t|  6              \t|  0.00010271     \t|  3.1986e-06     \t|\n",
      "|  [Callback]TQDMProgressBar.on_save_checkpoint                                                                                                                   \t|  8.1737e-06     \t|  12             \t|  9.8084e-05     \t|  3.0546e-06     \t|\n",
      "|  [Callback]TQDMProgressBar.on_validation_epoch_end                                                                                                              \t|  4.5258e-06     \t|  13             \t|  5.8835e-05     \t|  1.8323e-06     \t|\n",
      "|  [Callback]ModelCheckpoint{'monitor': None, 'mode': 'min', 'every_n_train_steps': 0, 'every_n_epochs': 1, 'train_time_interval': None}.on_save_checkpoint       \t|  4.4966e-06     \t|  12             \t|  5.3959e-05     \t|  1.6804e-06     \t|\n",
      "|  [Callback]ModelSummary.on_sanity_check_start                                                                                                                   \t|  4.4708e-05     \t|  1              \t|  4.4708e-05     \t|  1.3923e-06     \t|\n",
      "|  [Callback]ModelSummary.on_validation_end                                                                                                                       \t|  2.8718e-06     \t|  13             \t|  3.7333e-05     \t|  1.1626e-06     \t|\n",
      "|  [Callback]ModelSummary.on_validation_start                                                                                                                     \t|  2.7083e-06     \t|  13             \t|  3.5208e-05     \t|  1.0965e-06     \t|\n",
      "|  [LightningModule]LitModel.on_validation_end                                                                                                                    \t|  2.6154e-06     \t|  13             \t|  3.4e-05        \t|  1.0588e-06     \t|\n",
      "|  [Callback]ModelSummary.on_train_epoch_end                                                                                                                      \t|  3.7015e-06     \t|  6              \t|  2.2209e-05     \t|  6.9164e-07     \t|\n",
      "|  [Callback]ModelSummary.on_train_epoch_start                                                                                                                    \t|  3.2988e-06     \t|  6              \t|  1.9793e-05     \t|  6.164e-07      \t|\n",
      "|  [Strategy]SingleDeviceStrategy.on_validation_end                                                                                                               \t|  1.3205e-06     \t|  13             \t|  1.7166e-05     \t|  5.3459e-07     \t|\n",
      "|  [Callback]TQDMProgressBar.on_validation_epoch_start                                                                                                            \t|  1.0321e-06     \t|  13             \t|  1.3417e-05     \t|  4.1784e-07     \t|\n",
      "|  [Callback]TQDMProgressBar.teardown                                                                                                                             \t|  1.25e-05       \t|  1              \t|  1.25e-05       \t|  3.8928e-07     \t|\n",
      "|  [Callback]ModelSummary.on_save_checkpoint                                                                                                                      \t|  1.0069e-06     \t|  12             \t|  1.2083e-05     \t|  3.7629e-07     \t|\n",
      "|  [Callback]ModelSummary.on_validation_epoch_end                                                                                                                 \t|  8.9738e-07     \t|  13             \t|  1.1666e-05     \t|  3.6331e-07     \t|\n",
      "|  [LightningModule]LitModel.on_validation_epoch_end                                                                                                              \t|  8.3969e-07     \t|  13             \t|  1.0916e-05     \t|  3.3995e-07     \t|\n",
      "|  [LightningModule]LitModel.on_validation_epoch_start                                                                                                            \t|  7.9492e-07     \t|  13             \t|  1.0334e-05     \t|  3.2182e-07     \t|\n",
      "|  [Callback]ModelCheckpoint{'monitor': None, 'mode': 'min', 'every_n_train_steps': 0, 'every_n_epochs': 1, 'train_time_interval': None}.on_validation_start      \t|  7.7246e-07     \t|  13             \t|  1.0042e-05     \t|  3.1273e-07     \t|\n",
      "|  [LightningModule]LitModel.on_validation_start                                                                                                                  \t|  7.5654e-07     \t|  13             \t|  9.835e-06      \t|  3.0628e-07     \t|\n",
      "|  [Callback]ModelCheckpoint{'monitor': None, 'mode': 'min', 'every_n_train_steps': 0, 'every_n_epochs': 1, 'train_time_interval': None}.on_validation_epoch_end  \t|  7.5e-07        \t|  13             \t|  9.75e-06       \t|  3.0364e-07     \t|\n",
      "|  [LightningModule]LitModel.on_train_epoch_end                                                                                                                   \t|  1.5973e-06     \t|  6              \t|  9.584e-06      \t|  2.9847e-07     \t|\n",
      "|  [Strategy]SingleDeviceStrategy.on_validation_start                                                                                                             \t|  6.6346e-07     \t|  13             \t|  8.625e-06      \t|  2.686e-07      \t|\n",
      "|  [Callback]ModelCheckpoint{'monitor': None, 'mode': 'min', 'every_n_train_steps': 0, 'every_n_epochs': 1, 'train_time_interval': None}.on_validation_epoch_start\t|  6.2177e-07     \t|  13             \t|  8.083e-06      \t|  2.5172e-07     \t|\n",
      "|  [Callback]ModelSummary.on_validation_epoch_start                                                                                                               \t|  6.1238e-07     \t|  13             \t|  7.961e-06      \t|  2.4792e-07     \t|\n",
      "|  [LightningModule]LitModel.on_save_checkpoint                                                                                                                   \t|  6.3542e-07     \t|  12             \t|  7.625e-06      \t|  2.3746e-07     \t|\n",
      "|  [LightningModule]LitModel.on_train_epoch_start                                                                                                                 \t|  1.1527e-06     \t|  6              \t|  6.916e-06      \t|  2.1538e-07     \t|\n",
      "|  [Callback]ModelCheckpoint{'monitor': None, 'mode': 'min', 'every_n_train_steps': 0, 'every_n_epochs': 1, 'train_time_interval': None}.on_train_epoch_start     \t|  1.0277e-06     \t|  6              \t|  6.166e-06      \t|  1.9202e-07     \t|\n",
      "|  [Callback]ModelCheckpoint{'monitor': None, 'mode': 'min', 'every_n_train_steps': 0, 'every_n_epochs': 1, 'train_time_interval': None}.on_fit_start             \t|  3.958e-06      \t|  1              \t|  3.958e-06      \t|  1.2326e-07     \t|\n",
      "|  [Callback]TQDMProgressBar.on_sanity_check_end                                                                                                                  \t|  3.75e-06       \t|  1              \t|  3.75e-06       \t|  1.1678e-07     \t|\n",
      "|  [Callback]ModelSummary.on_train_start                                                                                                                          \t|  3.459e-06      \t|  1              \t|  3.459e-06      \t|  1.0772e-07     \t|\n",
      "|  [Callback]TQDMProgressBar.setup                                                                                                                                \t|  2.75e-06       \t|  1              \t|  2.75e-06       \t|  8.5641e-08     \t|\n",
      "|  [Callback]ModelSummary.on_train_end                                                                                                                            \t|  2.541e-06      \t|  1              \t|  2.541e-06      \t|  7.9133e-08     \t|\n",
      "|  [Callback]TQDMProgressBar.on_fit_end                                                                                                                           \t|  2e-06          \t|  1              \t|  2e-06          \t|  6.2285e-08     \t|\n",
      "|  [Callback]ModelSummary.on_sanity_check_end                                                                                                                     \t|  1.666e-06      \t|  1              \t|  1.666e-06      \t|  5.1883e-08     \t|\n",
      "|  [LightningModule]LitModel.configure_callbacks                                                                                                                  \t|  1.584e-06      \t|  1              \t|  1.584e-06      \t|  4.9329e-08     \t|\n",
      "|  [Callback]TQDMProgressBar.on_fit_start                                                                                                                         \t|  1.292e-06      \t|  1              \t|  1.292e-06      \t|  4.0236e-08     \t|\n",
      "|  [Callback]ModelCheckpoint{'monitor': None, 'mode': 'min', 'every_n_train_steps': 0, 'every_n_epochs': 1, 'train_time_interval': None}.on_train_start           \t|  1.208e-06      \t|  1              \t|  1.208e-06      \t|  3.762e-08      \t|\n",
      "|  [LightningModule]LitModel.teardown                                                                                                                             \t|  1.042e-06      \t|  1              \t|  1.042e-06      \t|  3.245e-08      \t|\n",
      "|  [Callback]ModelSummary.setup                                                                                                                                   \t|  9.58e-07       \t|  1              \t|  9.58e-07       \t|  2.9834e-08     \t|\n",
      "|  [LightningModule]LitModel.setup                                                                                                                                \t|  9.58e-07       \t|  1              \t|  9.58e-07       \t|  2.9834e-08     \t|\n",
      "|  [Callback]ModelCheckpoint{'monitor': None, 'mode': 'min', 'every_n_train_steps': 0, 'every_n_epochs': 1, 'train_time_interval': None}.on_sanity_check_start    \t|  9.17e-07       \t|  1              \t|  9.17e-07       \t|  2.8557e-08     \t|\n",
      "|  [Callback]ModelCheckpoint{'monitor': None, 'mode': 'min', 'every_n_train_steps': 0, 'every_n_epochs': 1, 'train_time_interval': None}.on_train_end             \t|  8.75e-07       \t|  1              \t|  8.75e-07       \t|  2.7249e-08     \t|\n",
      "|  [LightningModule]LitModel.on_train_start                                                                                                                       \t|  8.33e-07       \t|  1              \t|  8.33e-07       \t|  2.5942e-08     \t|\n",
      "|  [LightningModule]LitModel.on_fit_end                                                                                                                           \t|  7.92e-07       \t|  1              \t|  7.92e-07       \t|  2.4665e-08     \t|\n",
      "|  [Callback]ModelCheckpoint{'monitor': None, 'mode': 'min', 'every_n_train_steps': 0, 'every_n_epochs': 1, 'train_time_interval': None}.on_fit_end               \t|  7.5e-07        \t|  1              \t|  7.5e-07        \t|  2.3357e-08     \t|\n",
      "|  [LightningModule]LitModel.on_fit_start                                                                                                                         \t|  7.5e-07        \t|  1              \t|  7.5e-07        \t|  2.3357e-08     \t|\n",
      "|  [LightningModule]LitModel.on_train_end                                                                                                                         \t|  7.5e-07        \t|  1              \t|  7.5e-07        \t|  2.3357e-08     \t|\n",
      "|  [Callback]ModelCheckpoint{'monitor': None, 'mode': 'min', 'every_n_train_steps': 0, 'every_n_epochs': 1, 'train_time_interval': None}.teardown                 \t|  7.09e-07       \t|  1              \t|  7.09e-07       \t|  2.208e-08      \t|\n",
      "|  [Callback]ModelSummary.teardown                                                                                                                                \t|  7.08e-07       \t|  1              \t|  7.08e-07       \t|  2.2049e-08     \t|\n",
      "|  [Callback]ModelSummary.on_fit_end                                                                                                                              \t|  7.08e-07       \t|  1              \t|  7.08e-07       \t|  2.2049e-08     \t|\n",
      "|  [Callback]ModelCheckpoint{'monitor': None, 'mode': 'min', 'every_n_train_steps': 0, 'every_n_epochs': 1, 'train_time_interval': None}.on_sanity_check_end      \t|  6.67e-07       \t|  1              \t|  6.67e-07       \t|  2.0772e-08     \t|\n",
      "|  [Strategy]SingleDeviceStrategy.on_train_start                                                                                                                  \t|  6.67e-07       \t|  1              \t|  6.67e-07       \t|  2.0772e-08     \t|\n",
      "|  [Strategy]SingleDeviceStrategy.on_train_end                                                                                                                    \t|  6.66e-07       \t|  1              \t|  6.66e-07       \t|  2.0741e-08     \t|\n",
      "--------------------------------------------------------------------------------------------------------------------------------------------------------------------------------------------------------------------------------------------------------------------------\n",
      "\n"
     ]
    },
    {
     "name": "stdout",
     "output_type": "stream",
     "text": [
      "\n"
     ]
    }
   ],
   "source": [
    "# logging\n",
    "wandb_logger = WandbLogger(\n",
    "    project=config.wandb_project,\n",
    "    name=datetime.datetime.now().strftime(\"%b-%d-%y @ %I:%M %p\"),\n",
    "    log_model=\"all\",\n",
    "    config=config\n",
    ")\n",
    "\n",
    "wandb_logger.watch(MODEL, log=\"all\")\n",
    "\n",
    "# Define the trainer\n",
    "trainer = L.Trainer(\n",
    "    default_root_dir=\"some/path/\",\n",
    "    max_epochs=config.num_epochs,\n",
    "    val_check_interval=0.5,\n",
    "    log_every_n_steps=config.log_interval,\n",
    "    accumulate_grad_batches=config.grad_accumulation,\n",
    "    gradient_clip_val=config.grad_clip,\n",
    "    profiler=\"simple\",\n",
    "    logger=wandb_logger,\n",
    "    # NOTE: Should be commented out if using GPU. There may be bugs related\n",
    "    # to tensor device placements, since I have not tested this on GPU.\n",
    "    accelerator=\"cpu\",\n",
    ")\n",
    "\n",
    "# train model\n",
    "trainer.fit(\n",
    "    model=the_model,\n",
    "    train_dataloaders=train_loader,\n",
    "    val_dataloaders=val_loader\n",
    ")"
   ]
  },
  {
   "cell_type": "code",
   "execution_count": 19,
   "metadata": {},
   "outputs": [
    {
     "data": {
      "image/png": "[encoded data removed]",
      "text/plain": [
       "<Figure size 640x480 with 2 Axes>"
      ]
     },
     "metadata": {},
     "output_type": "display_data"
    }
   ],
   "source": [
    "conf_matrix(MODEL, test_loader)"
   ]
  },
  {
   "cell_type": "code",
   "execution_count": null,
   "metadata": {},
   "outputs": [],
   "source": []
  }
 ],
 "metadata": {
  "kernelspec": {
   "display_name": "geometric",
   "language": "python",
   "name": "python3"
  },
  "language_info": {
   "codemirror_mode": {
    "name": "ipython",
    "version": 3
   },
   "file_extension": ".py",
   "mimetype": "text/x-python",
   "name": "python",
   "nbconvert_exporter": "python",
   "pygments_lexer": "ipython3",
   "version": "3.9.20"
  }
 },
 "nbformat": 4,
 "nbformat_minor": 2
}
