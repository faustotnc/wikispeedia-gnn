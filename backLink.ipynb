{
 "cells": [
  {
   "cell_type": "code",
   "execution_count": 31,
   "metadata": {},
   "outputs": [],
   "source": [
    "import pandas as pd"
   ]
  },
  {
   "cell_type": "code",
   "execution_count": 32,
   "metadata": {},
   "outputs": [],
   "source": [
    "# Read the data from the TSV file\n",
    "pathDf = pd.read_csv('paths_finished2.tsv', sep='\\t')\n",
    "\n",
    "# Define a function to process each path\n",
    "def process_path(path):\n",
    "    splitedPath = path.split(';')\n",
    "    history = []\n",
    "    result = []\n",
    "    for page in splitedPath:\n",
    "        if page != '<':\n",
    "            # Move forward: add the page to history and result\n",
    "            history.append(page)\n",
    "            result.append(page)\n",
    "        else:\n",
    "            # Move back: remove the last page from history if possible\n",
    "            if history:\n",
    "                history.pop()\n",
    "            # After moving back, get the current page\n",
    "            if history:\n",
    "                current_page = history[-1]\n",
    "            else:\n",
    "                current_page = ''  # Handle empty history as needed\n",
    "            result.append(current_page)\n",
    "    return ';'.join(result)"
   ]
  },
  {
   "cell_type": "code",
   "execution_count": 33,
   "metadata": {},
   "outputs": [],
   "source": [
    "pathDf['path'] = pathDf['path'].apply(process_path)\n",
    "\n",
    "pathDf.to_csv('paths_modified.tsv', sep='\\t', index=False)"
   ]
  }
 ],
 "metadata": {
  "kernelspec": {
   "display_name": "base",
   "language": "python",
   "name": "python3"
  },
  "language_info": {
   "codemirror_mode": {
    "name": "ipython",
    "version": 3
   },
   "file_extension": ".py",
   "mimetype": "text/x-python",
   "name": "python",
   "nbconvert_exporter": "python",
   "pygments_lexer": "ipython3",
   "version": "3.12.4"
  }
 },
 "nbformat": 4,
 "nbformat_minor": 2
}
