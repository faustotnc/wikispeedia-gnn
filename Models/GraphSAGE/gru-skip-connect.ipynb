{
 "cells": [
  {
   "cell_type": "code",
   "execution_count": 1,
   "metadata": {},
   "outputs": [
    {
     "name": "stderr",
     "output_type": "stream",
     "text": [
      "/Users/faustogerman/miniforge3/envs/geometric/lib/python3.9/site-packages/tqdm/auto.py:21: TqdmWarning: IProgress not found. Please update jupyter and ipywidgets. See https://ipywidgets.readthedocs.io/en/stable/user_install.html\n",
      "  from .autonotebook import tqdm as notebook_tqdm\n"
     ]
    }
   ],
   "source": [
    "import torch\n",
    "import torch_scatter\n",
    "import pickle\n",
    "import random\n",
    "import datetime\n",
    "\n",
    "import numpy as np\n",
    "import pandas as pd\n",
    "import torch.nn as nn\n",
    "import torch.nn.functional as F\n",
    "import lightning as L\n",
    "\n",
    "from urllib.parse import unquote\n",
    "from torch.optim.lr_scheduler import ReduceLROnPlateau\n",
    "from lightning.pytorch.loggers import WandbLogger\n",
    "from torch.utils.data import Dataset, random_split\n",
    "from dataclasses import dataclass\n",
    "from torch_geometric.data import Data\n",
    "from torch_geometric.loader import DataLoader\n",
    "from torch_geometric.nn import global_mean_pool, GraphNorm, LayerNorm\n",
    "from torch_geometric.nn.models import GraphSAGE"
   ]
  },
  {
   "cell_type": "markdown",
   "metadata": {},
   "source": [
    "### Load the text data"
   ]
  },
  {
   "cell_type": "code",
   "execution_count": 2,
   "metadata": {},
   "outputs": [],
   "source": [
    "# Load text data\n",
    "data = pd.read_csv(f\"../../data/full_text_data.csv\")"
   ]
  },
  {
   "cell_type": "markdown",
   "metadata": {},
   "source": [
    "### Load the links"
   ]
  },
  {
   "cell_type": "code",
   "execution_count": 3,
   "metadata": {},
   "outputs": [],
   "source": [
    "# Load links\n",
    "links = pd.read_csv(\"../../data/Wikispeedia/links.tsv\", sep=\"\\t\", names=[\"src\", \"tgt\"], skiprows=12)\n",
    "links[\"src\"] = links[\"src\"].map(lambda x: unquote(x))\n",
    "links[\"tgt\"] = links[\"tgt\"].map(lambda x: unquote(x))\n",
    "\n",
    "# Create adjacency matrix\n",
    "ordered_data_titles = data[\"title\"].tolist()\n",
    "src_indices = links[\"src\"].map(lambda x: ordered_data_titles.index(x))\n",
    "tgt_indices = links[\"tgt\"].map(lambda x: ordered_data_titles.index(x))\n",
    "A = torch.zeros((len(ordered_data_titles), len(ordered_data_titles)))\n",
    "A[src_indices, tgt_indices] = 1"
   ]
  },
  {
   "cell_type": "code",
   "execution_count": 4,
   "metadata": {},
   "outputs": [],
   "source": [
    "# Load coherence graph\n",
    "with open(\"../../data/coherence_graph.pkl\", 'rb') as handle:\n",
    "    coherence_graph = pickle.load(handle)\n",
    "\n",
    "# Combine coherence graph with base links\n",
    "edge_features = A * coherence_graph"
   ]
  },
  {
   "cell_type": "code",
   "execution_count": 5,
   "metadata": {},
   "outputs": [
    {
     "name": "stderr",
     "output_type": "stream",
     "text": [
      "/var/folders/ww/02m6b2_s1bl0sbzz4jq19n500000gn/T/ipykernel_20887/2880839170.py:6: UserWarning: To copy construct from a tensor, it is recommended to use sourceTensor.clone().detach() or sourceTensor.clone().detach().requires_grad_(True), rather than torch.tensor(sourceTensor).\n",
      "  node_static_embeddings = torch.tensor(node_static_embeddings, dtype=torch.float)\n"
     ]
    },
    {
     "data": {
      "text/plain": [
       "tensor([[ 0.0038,  0.0096,  0.0519,  ..., -0.0275,  0.0512, -0.0136],\n",
       "        [-0.0361,  0.0142,  0.0874,  ..., -0.0140, -0.0216,  0.0194],\n",
       "        [ 0.0341,  0.0069,  0.0078,  ...,  0.0070,  0.0373, -0.0153],\n",
       "        ...,\n",
       "        [-0.0165,  0.0102,  0.0054,  ...,  0.0072,  0.0459, -0.0378],\n",
       "        [-0.0212,  0.0331,  0.0266,  ..., -0.0187,  0.0237, -0.0141],\n",
       "        [ 0.0375,  0.0523,  0.0282,  ...,  0.0183, -0.0107, -0.0030]])"
      ]
     },
     "execution_count": 5,
     "metadata": {},
     "output_type": "execute_result"
    }
   ],
   "source": [
    "# Load node embeddings\n",
    "with open(\"../../data/gpt4_embeddings.pkl\", 'rb') as handle:\n",
    "    obj = pickle.load(handle)\n",
    "    node_static_embeddings = obj[\"embeddings\"]\n",
    "    del obj\n",
    "node_static_embeddings = torch.tensor(node_static_embeddings, dtype=torch.float)\n",
    "node_static_embeddings"
   ]
  },
  {
   "cell_type": "markdown",
   "metadata": {},
   "source": [
    "### Load the User-Extracted Paths"
   ]
  },
  {
   "cell_type": "code",
   "execution_count": 6,
   "metadata": {},
   "outputs": [],
   "source": [
    "# Load user-extracted paths\n",
    "paths_data = pd.read_csv(f\"../../data/paths_no_back_links.tsv\", sep=\"\\t\")\n",
    "paths_data = paths_data[~(paths_data[\"rating\"].isna())]\n",
    "\n",
    "# Filter paths with at least four distinct pages\n",
    "# paths_data = paths_data[paths_data[\"path\"].apply(lambda x: len(set(x.split(\";\"))) >= 4)]\n",
    "\n",
    "# Map titles to indices\n",
    "title_to_index = {unquote(title): idx for idx, title in enumerate(data['title'])}\n",
    "paths = paths_data['path'].apply(lambda path: [title_to_index[unquote(title)] for title in path.split(';')]).tolist()\n",
    "ratings = (paths_data['rating'] - 1).tolist()  # 0-indexed ratings"
   ]
  },
  {
   "cell_type": "code",
   "execution_count": 7,
   "metadata": {},
   "outputs": [
    {
     "data": {
      "text/plain": [
       "<Axes: >"
      ]
     },
     "execution_count": 7,
     "metadata": {},
     "output_type": "execute_result"
    },
    {
     "data": {
      "image/png": "[encoded data removed]",
      "text/plain": [
       "<Figure size 640x480 with 1 Axes>"
      ]
     },
     "metadata": {},
     "output_type": "display_data"
    }
   ],
   "source": [
    "paths_data[\"rating\"].hist()"
   ]
  },
  {
   "cell_type": "code",
   "execution_count": 8,
   "metadata": {},
   "outputs": [],
   "source": [
    "class PathDataset(Dataset):\n",
    "    def __init__(self, paths, ratings, node_embeddings, edge_features):\n",
    "        self.paths = paths\n",
    "        self.ratings = ratings\n",
    "        self.node_embeddings = node_embeddings\n",
    "        self.edge_features = edge_features\n",
    "\n",
    "    def __len__(self):\n",
    "        return len(self.paths)\n",
    "\n",
    "    def __getitem__(self, idx):\n",
    "        path = self.paths[idx]\n",
    "        rating = self.ratings[idx]\n",
    "        nodes, edge_index, edge_weight = self.get_subgraph_edges(path)\n",
    "\n",
    "        x = self.node_embeddings[nodes]\n",
    "\n",
    "        data = Data(\n",
    "            x=x,\n",
    "            edge_index=edge_index,\n",
    "            edge_weight=edge_weight,\n",
    "            y=torch.tensor([rating]).to(torch.long)\n",
    "        )\n",
    "        return data\n",
    "\n",
    "    def get_subgraph_edges(self, path):\n",
    "        nodes = list(set(path))\n",
    "        node_to_idx = {node: idx for idx, node in enumerate(nodes)}\n",
    "        edges = []\n",
    "        edge_weights = []\n",
    "        for i in nodes:\n",
    "            for j in nodes:\n",
    "                weight = self.edge_features[i, j]\n",
    "                if weight > 0:\n",
    "                    edges.append([node_to_idx[i], node_to_idx[j]])\n",
    "                    edge_weights.append(weight)\n",
    "        if edges:\n",
    "            edge_index = torch.tensor(edges, dtype=torch.long).t().contiguous()\n",
    "            edge_weight = torch.tensor(edge_weights, dtype=torch.float)\n",
    "        else:\n",
    "            edge_index = torch.empty((2, 0), dtype=torch.long)\n",
    "            edge_weight = torch.tensor([], dtype=torch.float)\n",
    "        return nodes, edge_index, edge_weight\n",
    "\n",
    "# Create dataset\n",
    "dataset = PathDataset(paths, ratings, node_static_embeddings, edge_features)\n",
    "\n",
    "# Split dataset\n",
    "train_ratio = 0.85\n",
    "val_ratio = 0.05\n",
    "test_ratio = 0.1\n",
    "total_size = len(dataset)\n",
    "train_size = int(train_ratio * total_size)\n",
    "val_size = int(val_ratio * total_size)\n",
    "test_size = total_size - train_size - val_size\n",
    "\n",
    "train_dataset, val_dataset, test_dataset = random_split(\n",
    "    dataset, [train_size, val_size, test_size], generator=torch.Generator().manual_seed(42)\n",
    ")\n",
    "\n",
    "# Create data loaders\n",
    "batch_size = 6\n",
    "train_loader = DataLoader(train_dataset, batch_size=batch_size, shuffle=True)\n",
    "val_loader = DataLoader(val_dataset, batch_size=batch_size)\n",
    "test_loader = DataLoader(test_dataset, batch_size=batch_size)"
   ]
  },
  {
   "cell_type": "markdown",
   "metadata": {},
   "source": [
    "#### Map the Path Titles to Node Indices"
   ]
  },
  {
   "cell_type": "code",
   "execution_count": 9,
   "metadata": {},
   "outputs": [
    {
     "data": {
      "text/plain": [
       "tensor([0.3694, 0.3559, 0.4319, 1.1350, 2.7078])"
      ]
     },
     "execution_count": 9,
     "metadata": {},
     "output_type": "execute_result"
    }
   ],
   "source": [
    "# Counts occurrences of each class\n",
    "class_counts = torch.bincount(\n",
    "    torch.tensor(ratings)[train_dataset.indices].to(torch.int64)\n",
    ")\n",
    "\n",
    "# Calculate weights as the inverse of class frequencies\n",
    "class_weights = 1.0 / class_counts.float()\n",
    "\n",
    "# Normalize the weights so that they sum to the number of classes\n",
    "class_weights = class_weights / class_weights.sum() * len(class_counts)\n",
    "\n",
    "class_weights"
   ]
  },
  {
   "cell_type": "markdown",
   "metadata": {},
   "source": [
    "#### Class Weights for Imbalanced Training"
   ]
  },
  {
   "cell_type": "code",
   "execution_count": 10,
   "metadata": {},
   "outputs": [],
   "source": [
    "from sklearn.metrics import confusion_matrix, ConfusionMatrixDisplay\n",
    "import matplotlib.pyplot as plt\n",
    "\n",
    "def conf_matrix(model, dataset_loader):\n",
    "    # Pass the testing loader through the model\n",
    "    all_preds = []\n",
    "    all_labels = []\n",
    "\n",
    "    model.eval()\n",
    "    with torch.no_grad():\n",
    "        for batch in dataset_loader:\n",
    "            logits = model(batch.x, batch.edge_index, batch.batch)\n",
    "            preds = logits.argmax(dim=1).cpu().numpy()\n",
    "            labels = batch.y.cpu().numpy()\n",
    "            \n",
    "            all_preds.extend(preds)\n",
    "            all_labels.extend(labels)\n",
    "\n",
    "    # Compute confusion matrix\n",
    "    cm = confusion_matrix(all_labels, all_preds)\n",
    "    disp = ConfusionMatrixDisplay(confusion_matrix=cm)\n",
    "\n",
    "    # Plot confusion matrix\n",
    "    disp.plot(cmap=plt.cm.Blues)\n",
    "    plt.show()"
   ]
  },
  {
   "cell_type": "markdown",
   "metadata": {},
   "source": [
    "## The Model"
   ]
  },
  {
   "cell_type": "code",
   "execution_count": 11,
   "metadata": {},
   "outputs": [],
   "source": [
    "class Model(nn.Module):\n",
    "    def __init__(self, node_in_feats, hidden_feats, num_classes, dropout=0.0, bias=True):\n",
    "        super(Model, self).__init__()\n",
    "        self.sage = GraphSAGE(\n",
    "            in_channels=node_in_feats,\n",
    "            hidden_channels=hidden_feats,\n",
    "            num_layers=1,\n",
    "            dropout=dropout,\n",
    "            bias=bias\n",
    "        )\n",
    "\n",
    "        # GRU for sequence-based aggregation\n",
    "        self.gru = nn.GRU(\n",
    "            input_size=hidden_feats,\n",
    "            hidden_size=hidden_feats,\n",
    "            num_layers=3,\n",
    "            batch_first=True,\n",
    "        )\n",
    "\n",
    "        self.norm = nn.LayerNorm(hidden_feats)\n",
    "\n",
    "        # Classifier head\n",
    "        self.classifier_head = nn.Sequential(\n",
    "            nn.Linear(hidden_feats, hidden_feats),\n",
    "            nn.LeakyReLU(),\n",
    "            nn.Linear(hidden_feats, num_classes)\n",
    "        )\n",
    "\n",
    "    def forward(self, node_features, edge_index, batch_mask):\n",
    "        sage_out = self.sage(node_features, edge_index)\n",
    "\n",
    "        # Use GRU to aggregate node embeddings based on node order\n",
    "        # Group nodes by graph using the batch_mask\n",
    "        unique_graphs = batch_mask.unique()\n",
    "        graphs_embeddings = []\n",
    "        \n",
    "        for graph_id in unique_graphs:\n",
    "            # Shape: [1, num_nodes_in_graph, hidden_channels]\n",
    "            curr_graph_nodes = sage_out[batch_mask == graph_id].unsqueeze(0)\n",
    "            \n",
    "            # Pass through GRU. The GRU processes the nodes in the order\n",
    "            # specified by node_order internally and outputs the last hidden state\n",
    "            _, hidden_state = self.gru(curr_graph_nodes)  # hidden_state: [num_gru_layers, 1, gru_hidden_size]\n",
    "            graphs_embeddings.append(hidden_state[-1, 0])  # Take the last layer's hidden state for this graph\n",
    "\n",
    "        # Stack all graph embeddings\n",
    "        graphs_embeddings = torch.stack(graphs_embeddings)  # Shape: [num_graphs, gru_hidden_size]\n",
    "\n",
    "        skip_conn = global_mean_pool(sage_out, batch_mask)\n",
    "        graphs_embeddings = self.norm(graphs_embeddings + skip_conn)\n",
    "\n",
    "        return self.classifier_head(graphs_embeddings)"
   ]
  },
  {
   "cell_type": "code",
   "execution_count": 12,
   "metadata": {},
   "outputs": [],
   "source": [
    "MODEL = Model(\n",
    "    node_static_embeddings.shape[1],\n",
    "    hidden_feats=512,  # Hidden layer size for GraphSAGE\n",
    "    num_classes=5,  # Number of classes\n",
    ")"
   ]
  },
  {
   "cell_type": "code",
   "execution_count": 13,
   "metadata": {},
   "outputs": [
    {
     "data": {
      "image/png": "[encoded data removed]",
      "text/plain": [
       "<Figure size 640x480 with 2 Axes>"
      ]
     },
     "metadata": {},
     "output_type": "display_data"
    }
   ],
   "source": [
    "conf_matrix(MODEL, test_loader)"
   ]
  },
  {
   "cell_type": "markdown",
   "metadata": {},
   "source": [
    "## Training the Model"
   ]
  },
  {
   "cell_type": "code",
   "execution_count": 14,
   "metadata": {},
   "outputs": [],
   "source": [
    "class LitModel(L.LightningModule):\n",
    "    def __init__(self, model, config):\n",
    "        super().__init__()\n",
    "        self.model = model\n",
    "        self.config = config\n",
    "\n",
    "    def training_step(self, batch, batch_idx):\n",
    "        logits = self.do_forward(batch)\n",
    "        loss = self.compute_loss(logits, batch.y)\n",
    "\n",
    "        loss = self.compute_loss(logits, batch.y)\n",
    "        acc = self.compute_accuracy(logits, batch.y)\n",
    "\n",
    "        # Log training loss and accuracy\n",
    "        self.log(\"training_loss\", loss, on_step=True, on_epoch=True, logger=True, batch_size=batch_size)\n",
    "        self.log(\"training_accuracy\", acc, on_step=True, on_epoch=True, logger=True, batch_size=batch_size)\n",
    "\n",
    "        return loss\n",
    "\n",
    "    def test_step(self, batch):\n",
    "        logits = self.do_forward(batch)\n",
    "\n",
    "        loss = self.compute_loss(logits, batch.y)\n",
    "        acc = self.compute_accuracy(logits, batch.y)\n",
    "\n",
    "        self.log(\"test_loss\", loss, on_step=True, on_epoch=True, batch_size=batch_size)\n",
    "        self.log(\"test_accuracy\", acc, on_step=True, on_epoch=True, batch_size=batch_size)\n",
    "\n",
    "    def validation_step(self, batch, batch_idx):\n",
    "        logits = self.do_forward(batch)\n",
    "\n",
    "        loss = self.compute_loss(logits, batch.y)\n",
    "        acc = self.compute_accuracy(logits, batch.y)\n",
    "\n",
    "        # Log validation loss and accuracy\n",
    "        self.log(\"validation_loss\", loss, on_step=True, on_epoch=True, logger=True, batch_size=batch_size)\n",
    "        self.log(\"validation_accuracy\", acc, on_step=True, on_epoch=True, logger=True, batch_size=batch_size)\n",
    "\n",
    "    def configure_optimizers(self):\n",
    "        optimizer = torch.optim.AdamW(\n",
    "            params=self.model.parameters(),\n",
    "            lr=self.config.learning_rate,\n",
    "            weight_decay=self.config.weight_decay,\n",
    "            betas=(self.config.beta1, self.config.beta2),\n",
    "        )\n",
    "\n",
    "        return {\n",
    "            \"optimizer\": optimizer,\n",
    "            \"lr_scheduler\": {\n",
    "                \"scheduler\": ReduceLROnPlateau(optimizer),\n",
    "                \"interval\": \"epoch\",\n",
    "                \"frequency\": 1,\n",
    "                \"monitor\": \"validation_loss\",\n",
    "                \"strict\": True,\n",
    "            }\n",
    "        }\n",
    "\n",
    "    def do_forward(self, batch):\n",
    "        \"\"\"This is a custom method not associated with Lightning\"\"\"\n",
    "        return self.model(\n",
    "            node_features=batch.x,\n",
    "            edge_index=batch.edge_index,\n",
    "            batch_mask=batch.batch\n",
    "        )\n",
    "\n",
    "    def compute_loss(self, logits, targets):\n",
    "        \"\"\"This is a custom method not associated with Lightning\"\"\"\n",
    "        targets = targets.type(torch.long)\n",
    "        return F.cross_entropy(logits, targets, weight=class_weights)\n",
    "\n",
    "    def compute_accuracy(self, logits, targets):\n",
    "        \"\"\"This is a custom method not associated with Lightning\"\"\"\n",
    "        return (logits.argmax(1) == targets).float().mean()"
   ]
  },
  {
   "cell_type": "code",
   "execution_count": 15,
   "metadata": {},
   "outputs": [],
   "source": [
    "@dataclass\n",
    "class ModelConfig:\n",
    "    learning_rate: float = 1e-3\n",
    "    weight_decay: float = 1e-5\n",
    "    beta1: float = 0.9\n",
    "    beta2: float = 0.999\n",
    "    grad_clip: float = None\n",
    "    num_epochs: int = 6\n",
    "    log_interval: int = 1\n",
    "    grad_accumulation: int = 1\n",
    "    wandb_project: str = \"wikispeedia_v3\"\n",
    "\n",
    "\n",
    "config = ModelConfig()"
   ]
  },
  {
   "cell_type": "code",
   "execution_count": 16,
   "metadata": {},
   "outputs": [],
   "source": [
    "# model\n",
    "the_model = LitModel(MODEL, config)"
   ]
  },
  {
   "cell_type": "code",
   "execution_count": 17,
   "metadata": {},
   "outputs": [
    {
     "name": "stderr",
     "output_type": "stream",
     "text": [
      "/Users/faustogerman/miniforge3/envs/geometric/lib/python3.9/site-packages/lightning/pytorch/core/module.py:445: You are trying to `self.log()` but the `self.trainer` reference is not registered on the model yet. This is most likely because the model hasn't been passed to the `Trainer`\n"
     ]
    }
   ],
   "source": [
    "# Create the Lightning Model\n",
    "lit_model = LitModel(MODEL, config)\n",
    "\n",
    "# Test the model with one batch\n",
    "# to make sure everything is working\n",
    "it = next(iter(test_loader))\n",
    "lit_model.test_step(it)"
   ]
  },
  {
   "cell_type": "code",
   "execution_count": 18,
   "metadata": {},
   "outputs": [
    {
     "name": "stderr",
     "output_type": "stream",
     "text": [
      "\u001b[34m\u001b[1mwandb\u001b[0m: Using wandb-core as the SDK backend. Please refer to https://wandb.me/wandb-core for more information.\n",
      "\u001b[34m\u001b[1mwandb\u001b[0m: Currently logged in as: \u001b[33mfaustotnc\u001b[0m. Use \u001b[1m`wandb login --relogin`\u001b[0m to force relogin\n"
     ]
    },
    {
     "data": {
      "text/html": [
       "Tracking run with wandb version 0.18.5"
      ],
      "text/plain": [
       "<IPython.core.display.HTML object>"
      ]
     },
     "metadata": {},
     "output_type": "display_data"
    },
    {
     "data": {
      "text/html": [
       "Run data is saved locally in <code>./wandb/run-20241202_132952-calwqzsi</code>"
      ],
      "text/plain": [
       "<IPython.core.display.HTML object>"
      ]
     },
     "metadata": {},
     "output_type": "display_data"
    },
    {
     "data": {
      "text/html": [
       "Syncing run <strong><a href='https://wandb.ai/faustotnc/wikispeedia_v3/runs/calwqzsi' target=\"_blank\">Dec-02-24 @ 01:29 PM</a></strong> to <a href='https://wandb.ai/faustotnc/wikispeedia_v3' target=\"_blank\">Weights & Biases</a> (<a href='https://wandb.me/run' target=\"_blank\">docs</a>)<br/>"
      ],
      "text/plain": [
       "<IPython.core.display.HTML object>"
      ]
     },
     "metadata": {},
     "output_type": "display_data"
    },
    {
     "data": {
      "text/html": [
       " View project at <a href='https://wandb.ai/faustotnc/wikispeedia_v3' target=\"_blank\">https://wandb.ai/faustotnc/wikispeedia_v3</a>"
      ],
      "text/plain": [
       "<IPython.core.display.HTML object>"
      ]
     },
     "metadata": {},
     "output_type": "display_data"
    },
    {
     "data": {
      "text/html": [
       " View run at <a href='https://wandb.ai/faustotnc/wikispeedia_v3/runs/calwqzsi' target=\"_blank\">https://wandb.ai/faustotnc/wikispeedia_v3/runs/calwqzsi</a>"
      ],
      "text/plain": [
       "<IPython.core.display.HTML object>"
      ]
     },
     "metadata": {},
     "output_type": "display_data"
    },
    {
     "name": "stderr",
     "output_type": "stream",
     "text": [
      "\u001b[34m\u001b[1mwandb\u001b[0m: logging graph, to disable use `wandb.watch(log_graph=False)`\n",
      "GPU available: True (mps), used: False\n",
      "TPU available: False, using: 0 TPU cores\n",
      "HPU available: False, using: 0 HPUs\n",
      "/Users/faustogerman/miniforge3/envs/geometric/lib/python3.9/site-packages/lightning/pytorch/trainer/setup.py:177: GPU available but not used. You can set it by doing `Trainer(accelerator='gpu')`.\n",
      "\n",
      "  | Name  | Type  | Params | Mode\n",
      "---------------------------------------\n",
      "0 | model | Model | 6.6 M  | eval\n",
      "---------------------------------------\n",
      "6.6 M     Trainable params\n",
      "0         Non-trainable params\n",
      "6.6 M     Total params\n",
      "26.270    Total estimated model params size (MB)\n",
      "0         Modules in train mode\n",
      "18        Modules in eval mode\n"
     ]
    },
    {
     "name": "stdout",
     "output_type": "stream",
     "text": [
      "                                                                           "
     ]
    },
    {
     "name": "stderr",
     "output_type": "stream",
     "text": [
      "/Users/faustogerman/miniforge3/envs/geometric/lib/python3.9/site-packages/lightning/pytorch/trainer/connectors/data_connector.py:424: The 'val_dataloader' does not have many workers which may be a bottleneck. Consider increasing the value of the `num_workers` argument` to `num_workers=9` in the `DataLoader` to improve performance.\n",
      "/Users/faustogerman/miniforge3/envs/geometric/lib/python3.9/site-packages/lightning/pytorch/trainer/connectors/data_connector.py:424: The 'train_dataloader' does not have many workers which may be a bottleneck. Consider increasing the value of the `num_workers` argument` to `num_workers=9` in the `DataLoader` to improve performance.\n"
     ]
    },
    {
     "name": "stdout",
     "output_type": "stream",
     "text": [
      "Epoch 5: 100%|██████████| 4038/4038 [09:23<00:00,  7.16it/s, v_num=qzsi]"
     ]
    },
    {
     "name": "stderr",
     "output_type": "stream",
     "text": [
      "`Trainer.fit` stopped: `max_epochs=6` reached.\n"
     ]
    },
    {
     "name": "stdout",
     "output_type": "stream",
     "text": [
      "Epoch 5: 100%|██████████| 4038/4038 [09:23<00:00,  7.16it/s, v_num=qzsi]"
     ]
    },
    {
     "name": "stderr",
     "output_type": "stream",
     "text": [
      "FIT Profiler Report\n",
      "\n",
      "--------------------------------------------------------------------------------------------------------------------------------------------------------------------------------------------------------------------------------------------------------------------------\n",
      "|  Action                                                                                                                                                         \t|  Mean duration (s)\t|  Num calls      \t|  Total time (s) \t|  Percentage %   \t|\n",
      "--------------------------------------------------------------------------------------------------------------------------------------------------------------------------------------------------------------------------------------------------------------------------\n",
      "|  Total                                                                                                                                                          \t|  -              \t|  912621         \t|  3336.2         \t|  100 %          \t|\n",
      "--------------------------------------------------------------------------------------------------------------------------------------------------------------------------------------------------------------------------------------------------------------------------\n",
      "|  run_training_epoch                                                                                                                                             \t|  556.02         \t|  6              \t|  3336.1         \t|  99.996         \t|\n",
      "|  run_training_batch                                                                                                                                             \t|  0.12824        \t|  24228          \t|  3106.9         \t|  93.126         \t|\n",
      "|  [LightningModule]LitModel.optimizer_step                                                                                                                       \t|  0.12762        \t|  24228          \t|  3091.9         \t|  92.677         \t|\n",
      "|  [Strategy]SingleDeviceStrategy.backward                                                                                                                        \t|  0.096854       \t|  24228          \t|  2346.6         \t|  70.336         \t|\n",
      "|  [Strategy]SingleDeviceStrategy.training_step                                                                                                                   \t|  0.021634       \t|  24228          \t|  524.15         \t|  15.711         \t|\n",
      "|  [_TrainingEpochLoop].train_dataloader_next                                                                                                                     \t|  0.0036739      \t|  24228          \t|  89.011         \t|  2.668          \t|\n",
      "|  [Strategy]SingleDeviceStrategy.validation_step                                                                                                                 \t|  0.020027       \t|  2858           \t|  57.236         \t|  1.7156         \t|\n",
      "|  [Callback]TQDMProgressBar.on_train_batch_end                                                                                                                   \t|  0.0015892      \t|  24228          \t|  38.503         \t|  1.1541         \t|\n",
      "|  [LightningModule]LitModel.optimizer_zero_grad                                                                                                                  \t|  0.0013315      \t|  24228          \t|  32.259         \t|  0.96692        \t|\n",
      "|  [_EvaluationLoop].val_next                                                                                                                                     \t|  0.0037531      \t|  2858           \t|  10.726         \t|  0.32151        \t|\n",
      "|  [Callback]ModelCheckpoint{'monitor': None, 'mode': 'min', 'every_n_train_steps': 0, 'every_n_epochs': 1, 'train_time_interval': None}.on_validation_end        \t|  0.4318         \t|  13             \t|  5.6134         \t|  0.16826        \t|\n",
      "|  [Callback]TQDMProgressBar.on_validation_batch_end                                                                                                              \t|  0.0015738      \t|  2858           \t|  4.4978         \t|  0.13482        \t|\n",
      "|  [Strategy]SingleDeviceStrategy.batch_to_device                                                                                                                 \t|  4.0727e-05     \t|  27086          \t|  1.1031         \t|  0.033066       \t|\n",
      "|  [LightningModule]LitModel.transfer_batch_to_device                                                                                                             \t|  2.238e-05      \t|  27086          \t|  0.60618        \t|  0.01817        \t|\n",
      "|  [LightningModule]LitModel.configure_gradient_clipping                                                                                                          \t|  1.841e-05      \t|  24228          \t|  0.44604        \t|  0.013369       \t|\n",
      "|  [Callback]ModelCheckpoint{'monitor': None, 'mode': 'min', 'every_n_train_steps': 0, 'every_n_epochs': 1, 'train_time_interval': None}.on_train_batch_end       \t|  1.6471e-05     \t|  24228          \t|  0.39905        \t|  0.011961       \t|\n",
      "|  [Callback]TQDMProgressBar.on_after_backward                                                                                                                    \t|  4.0628e-06     \t|  24228          \t|  0.098434       \t|  0.0029505      \t|\n",
      "|  [Callback]ModelSummary.on_train_batch_end                                                                                                                      \t|  3.4878e-06     \t|  24228          \t|  0.084503       \t|  0.0025329      \t|\n",
      "|  [Callback]TQDMProgressBar.on_before_zero_grad                                                                                                                  \t|  1.8087e-06     \t|  24228          \t|  0.043822       \t|  0.0013135      \t|\n",
      "|  [Callback]TQDMProgressBar.on_validation_batch_start                                                                                                            \t|  1.4e-05        \t|  2858           \t|  0.040012       \t|  0.0011993      \t|\n",
      "|  [Callback]TQDMProgressBar.on_before_optimizer_step                                                                                                             \t|  1.4517e-06     \t|  24228          \t|  0.035172       \t|  0.0010542      \t|\n",
      "|  [Callback]TQDMProgressBar.on_before_backward                                                                                                                   \t|  1.3034e-06     \t|  24228          \t|  0.031578       \t|  0.00094651     \t|\n",
      "|  [LightningModule]LitModel.on_before_batch_transfer                                                                                                             \t|  1.1464e-06     \t|  27086          \t|  0.031051       \t|  0.00093072     \t|\n",
      "|  [Callback]TQDMProgressBar.on_validation_end                                                                                                                    \t|  0.0021647      \t|  13             \t|  0.028141       \t|  0.00084349     \t|\n",
      "|  [Callback]TQDMProgressBar.on_train_batch_start                                                                                                                 \t|  1.1338e-06     \t|  24228          \t|  0.02747        \t|  0.00082337     \t|\n",
      "|  [LightningModule]LitModel.on_train_batch_end                                                                                                                   \t|  9.8436e-07     \t|  24228          \t|  0.023849       \t|  0.00071485     \t|\n",
      "|  [Callback]ModelSummary.on_before_zero_grad                                                                                                                     \t|  8.9365e-07     \t|  24228          \t|  0.021651       \t|  0.00064897     \t|\n",
      "|  [LightningModule]LitModel.on_after_backward                                                                                                                    \t|  8.5492e-07     \t|  24228          \t|  0.020713       \t|  0.00062085     \t|\n",
      "|  [Callback]TQDMProgressBar.on_validation_start                                                                                                                  \t|  0.0015837      \t|  13             \t|  0.020588       \t|  0.0006171      \t|\n",
      "|  [Callback]ModelCheckpoint{'monitor': None, 'mode': 'min', 'every_n_train_steps': 0, 'every_n_epochs': 1, 'train_time_interval': None}.on_before_backward       \t|  8.3458e-07     \t|  24228          \t|  0.02022        \t|  0.00060608     \t|\n",
      "|  [Callback]ModelSummary.on_after_backward                                                                                                                       \t|  7.7446e-07     \t|  24228          \t|  0.018764       \t|  0.00056242     \t|\n",
      "|  [LightningModule]LitModel.on_before_zero_grad                                                                                                                  \t|  7.73e-07       \t|  24228          \t|  0.018728       \t|  0.00056136     \t|\n",
      "|  [LightningModule]LitModel.on_validation_model_zero_grad                                                                                                        \t|  0.0014948      \t|  12             \t|  0.017938       \t|  0.00053766     \t|\n",
      "|  [Callback]ModelCheckpoint{'monitor': None, 'mode': 'min', 'every_n_train_steps': 0, 'every_n_epochs': 1, 'train_time_interval': None}.on_before_zero_grad      \t|  7.1943e-07     \t|  24228          \t|  0.01743        \t|  0.00052246     \t|\n",
      "|  [LightningModule]LitModel.on_before_backward                                                                                                                   \t|  7.126e-07      \t|  24228          \t|  0.017265       \t|  0.0005175      \t|\n",
      "|  [Callback]TQDMProgressBar.on_sanity_check_start                                                                                                                \t|  0.016549       \t|  1              \t|  0.016549       \t|  0.00049604     \t|\n",
      "|  [Callback]ModelCheckpoint{'monitor': None, 'mode': 'min', 'every_n_train_steps': 0, 'every_n_epochs': 1, 'train_time_interval': None}.on_train_batch_start     \t|  6.7874e-07     \t|  24228          \t|  0.016444       \t|  0.0004929      \t|\n",
      "|  [Callback]ModelCheckpoint{'monitor': None, 'mode': 'min', 'every_n_train_steps': 0, 'every_n_epochs': 1, 'train_time_interval': None}.on_after_backward        \t|  6.7697e-07     \t|  24228          \t|  0.016402       \t|  0.00049162     \t|\n",
      "|  [Callback]ModelSummary.on_train_batch_start                                                                                                                    \t|  6.6466e-07     \t|  24228          \t|  0.016103       \t|  0.00048268     \t|\n",
      "|  [Callback]ModelCheckpoint{'monitor': None, 'mode': 'min', 'every_n_train_steps': 0, 'every_n_epochs': 1, 'train_time_interval': None}.on_before_optimizer_step \t|  6.6098e-07     \t|  24228          \t|  0.016014       \t|  0.00048001     \t|\n",
      "|  [Strategy]SingleDeviceStrategy.on_train_batch_start                                                                                                            \t|  6.4994e-07     \t|  24228          \t|  0.015747       \t|  0.00047199     \t|\n",
      "|  [LightningModule]LitModel.on_after_batch_transfer                                                                                                              \t|  5.6369e-07     \t|  27086          \t|  0.015268       \t|  0.00045765     \t|\n",
      "|  [Callback]ModelSummary.on_before_optimizer_step                                                                                                                \t|  6.2814e-07     \t|  24228          \t|  0.015219       \t|  0.00045616     \t|\n",
      "|  [Callback]ModelSummary.on_before_backward                                                                                                                      \t|  6.1827e-07     \t|  24228          \t|  0.01498        \t|  0.00044899     \t|\n",
      "|  [LightningModule]LitModel.on_train_batch_start                                                                                                                 \t|  6.123e-07      \t|  24228          \t|  0.014835       \t|  0.00044465     \t|\n",
      "|  [LightningModule]LitModel.on_before_optimizer_step                                                                                                             \t|  5.9542e-07     \t|  24228          \t|  0.014426       \t|  0.0004324      \t|\n",
      "|  [Callback]ModelSummary.on_validation_batch_end                                                                                                                 \t|  3.2162e-06     \t|  2858           \t|  0.0091919      \t|  0.00027552     \t|\n",
      "|  [Callback]TQDMProgressBar.on_train_epoch_start                                                                                                                 \t|  0.001106       \t|  6              \t|  0.0066361      \t|  0.00019891     \t|\n",
      "|  [Callback]TQDMProgressBar.on_train_epoch_end                                                                                                                   \t|  0.0010912      \t|  6              \t|  0.0065469      \t|  0.00019624     \t|\n",
      "|  [Callback]ModelSummary.on_validation_batch_start                                                                                                               \t|  1.0522e-06     \t|  2858           \t|  0.0030071      \t|  9.0135e-05     \t|\n",
      "|  [LightningModule]LitModel.on_validation_batch_end                                                                                                              \t|  9.4043e-07     \t|  2858           \t|  0.0026877      \t|  8.0562e-05     \t|\n",
      "|  [Callback]ModelCheckpoint{'monitor': None, 'mode': 'min', 'every_n_train_steps': 0, 'every_n_epochs': 1, 'train_time_interval': None}.on_validation_batch_end  \t|  9.1711e-07     \t|  2858           \t|  0.0026211      \t|  7.8564e-05     \t|\n",
      "|  [LightningModule]LitModel.on_validation_batch_start                                                                                                            \t|  6.7269e-07     \t|  2858           \t|  0.0019226      \t|  5.7626e-05     \t|\n",
      "|  [Callback]ModelCheckpoint{'monitor': None, 'mode': 'min', 'every_n_train_steps': 0, 'every_n_epochs': 1, 'train_time_interval': None}.on_validation_batch_start\t|  6.7009e-07     \t|  2858           \t|  0.0019151      \t|  5.7404e-05     \t|\n",
      "|  [LightningModule]LitModel.on_validation_model_eval                                                                                                             \t|  0.00012804     \t|  13             \t|  0.0016645      \t|  4.9891e-05     \t|\n",
      "|  [Callback]TQDMProgressBar.on_train_start                                                                                                                       \t|  0.0010621      \t|  1              \t|  0.0010621      \t|  3.1836e-05     \t|\n",
      "|  [Callback]TQDMProgressBar.on_train_end                                                                                                                         \t|  0.00092754     \t|  1              \t|  0.00092754     \t|  2.7802e-05     \t|\n",
      "|  [Callback]ModelSummary.on_fit_start                                                                                                                            \t|  0.00076858     \t|  1              \t|  0.00076858     \t|  2.3037e-05     \t|\n",
      "|  [LightningModule]LitModel.lr_scheduler_step                                                                                                                    \t|  8.4695e-05     \t|  6              \t|  0.00050817     \t|  1.5232e-05     \t|\n",
      "|  [Callback]ModelCheckpoint{'monitor': None, 'mode': 'min', 'every_n_train_steps': 0, 'every_n_epochs': 1, 'train_time_interval': None}.setup                    \t|  0.000332       \t|  1              \t|  0.000332       \t|  9.9513e-06     \t|\n",
      "|  [Callback]TQDMProgressBar.on_save_checkpoint                                                                                                                   \t|  2.6191e-05     \t|  12             \t|  0.00031429     \t|  9.4205e-06     \t|\n",
      "|  [LightningModule]LitModel.configure_optimizers                                                                                                                 \t|  0.00022771     \t|  1              \t|  0.00022771     \t|  6.8253e-06     \t|\n",
      "|  [Callback]ModelCheckpoint{'monitor': None, 'mode': 'min', 'every_n_train_steps': 0, 'every_n_epochs': 1, 'train_time_interval': None}.on_train_epoch_end       \t|  2.5917e-05     \t|  6              \t|  0.0001555      \t|  4.6609e-06     \t|\n",
      "|  [Callback]TQDMProgressBar.on_validation_epoch_end                                                                                                              \t|  9.1314e-06     \t|  13             \t|  0.00011871     \t|  3.5581e-06     \t|\n",
      "|  [Callback]ModelSummary.on_validation_end                                                                                                                       \t|  3.7565e-06     \t|  13             \t|  4.8834e-05     \t|  1.4637e-06     \t|\n",
      "|  [Callback]ModelSummary.on_sanity_check_start                                                                                                                   \t|  3.6542e-05     \t|  1              \t|  3.6542e-05     \t|  1.0953e-06     \t|\n",
      "|  [Callback]ModelSummary.on_train_epoch_end                                                                                                                      \t|  6.0627e-06     \t|  6              \t|  3.6376e-05     \t|  1.0903e-06     \t|\n",
      "|  [Callback]ModelSummary.on_validation_start                                                                                                                     \t|  2.375e-06      \t|  13             \t|  3.0875e-05     \t|  9.2544e-07     \t|\n",
      "|  [LightningModule]LitModel.on_validation_end                                                                                                                    \t|  1.9455e-06     \t|  13             \t|  2.5291e-05     \t|  7.5807e-07     \t|\n",
      "|  [Callback]ModelSummary.on_train_epoch_start                                                                                                                    \t|  3.4098e-06     \t|  6              \t|  2.0459e-05     \t|  6.1324e-07     \t|\n",
      "|  [Strategy]SingleDeviceStrategy.on_validation_end                                                                                                               \t|  1.4328e-06     \t|  13             \t|  1.8626e-05     \t|  5.5829e-07     \t|\n",
      "|  [Callback]TQDMProgressBar.on_validation_epoch_start                                                                                                            \t|  1.08e-06       \t|  13             \t|  1.404e-05      \t|  4.2083e-07     \t|\n",
      "|  [Strategy]SingleDeviceStrategy.on_validation_start                                                                                                             \t|  1.0065e-06     \t|  13             \t|  1.3084e-05     \t|  3.9218e-07     \t|\n",
      "|  [Callback]ModelSummary.on_save_checkpoint                                                                                                                      \t|  1.0138e-06     \t|  12             \t|  1.2166e-05     \t|  3.6466e-07     \t|\n",
      "|  [Callback]ModelSummary.on_validation_epoch_end                                                                                                                 \t|  9.07e-07       \t|  13             \t|  1.1791e-05     \t|  3.5342e-07     \t|\n",
      "|  [LightningModule]LitModel.on_validation_epoch_end                                                                                                              \t|  8.9131e-07     \t|  13             \t|  1.1587e-05     \t|  3.4731e-07     \t|\n",
      "|  [LightningModule]LitModel.on_validation_start                                                                                                                  \t|  7.6608e-07     \t|  13             \t|  9.959e-06      \t|  2.9851e-07     \t|\n",
      "|  [Callback]ModelCheckpoint{'monitor': None, 'mode': 'min', 'every_n_train_steps': 0, 'every_n_epochs': 1, 'train_time_interval': None}.on_validation_start      \t|  7.3408e-07     \t|  13             \t|  9.543e-06      \t|  2.8604e-07     \t|\n",
      "|  [Callback]ModelSummary.on_validation_epoch_start                                                                                                               \t|  7.1808e-07     \t|  13             \t|  9.335e-06      \t|  2.7981e-07     \t|\n",
      "|  [LightningModule]LitModel.on_train_epoch_end                                                                                                                   \t|  1.4372e-06     \t|  6              \t|  8.623e-06      \t|  2.5846e-07     \t|\n",
      "|  [Callback]ModelCheckpoint{'monitor': None, 'mode': 'min', 'every_n_train_steps': 0, 'every_n_epochs': 1, 'train_time_interval': None}.on_validation_epoch_end  \t|  6.4115e-07     \t|  13             \t|  8.335e-06      \t|  2.4983e-07     \t|\n",
      "|  [Callback]ModelCheckpoint{'monitor': None, 'mode': 'min', 'every_n_train_steps': 0, 'every_n_epochs': 1, 'train_time_interval': None}.on_save_checkpoint       \t|  6.875e-07      \t|  12             \t|  8.25e-06       \t|  2.4728e-07     \t|\n",
      "|  [LightningModule]LitModel.on_validation_epoch_start                                                                                                            \t|  6.0892e-07     \t|  13             \t|  7.916e-06      \t|  2.3727e-07     \t|\n",
      "|  [Callback]ModelCheckpoint{'monitor': None, 'mode': 'min', 'every_n_train_steps': 0, 'every_n_epochs': 1, 'train_time_interval': None}.on_validation_epoch_start\t|  5.9938e-07     \t|  13             \t|  7.792e-06      \t|  2.3356e-07     \t|\n",
      "|  [Callback]ModelCheckpoint{'monitor': None, 'mode': 'min', 'every_n_train_steps': 0, 'every_n_epochs': 1, 'train_time_interval': None}.on_train_epoch_start     \t|  1.271e-06      \t|  6              \t|  7.626e-06      \t|  2.2858e-07     \t|\n",
      "|  [Callback]TQDMProgressBar.teardown                                                                                                                             \t|  6.708e-06      \t|  1              \t|  6.708e-06      \t|  2.0106e-07     \t|\n",
      "|  [LightningModule]LitModel.on_save_checkpoint                                                                                                                   \t|  5.3475e-07     \t|  12             \t|  6.417e-06      \t|  1.9234e-07     \t|\n",
      "|  [LightningModule]LitModel.on_train_epoch_start                                                                                                                 \t|  9.8583e-07     \t|  6              \t|  5.915e-06      \t|  1.773e-07      \t|\n",
      "|  [Callback]TQDMProgressBar.on_fit_start                                                                                                                         \t|  4.375e-06      \t|  1              \t|  4.375e-06      \t|  1.3114e-07     \t|\n",
      "|  [Callback]TQDMProgressBar.setup                                                                                                                                \t|  4.083e-06      \t|  1              \t|  4.083e-06      \t|  1.2238e-07     \t|\n",
      "|  [Callback]ModelSummary.on_train_start                                                                                                                          \t|  3.042e-06      \t|  1              \t|  3.042e-06      \t|  9.118e-08      \t|\n",
      "|  [Callback]TQDMProgressBar.on_sanity_check_end                                                                                                                  \t|  2.958e-06      \t|  1              \t|  2.958e-06      \t|  8.8663e-08     \t|\n",
      "|  [Callback]ModelSummary.on_train_end                                                                                                                            \t|  2.708e-06      \t|  1              \t|  2.708e-06      \t|  8.1169e-08     \t|\n",
      "|  [Callback]TQDMProgressBar.on_fit_end                                                                                                                           \t|  2.333e-06      \t|  1              \t|  2.333e-06      \t|  6.9929e-08     \t|\n",
      "|  [LightningModule]LitModel.on_train_end                                                                                                                         \t|  2.167e-06      \t|  1              \t|  2.167e-06      \t|  6.4953e-08     \t|\n",
      "|  [Callback]ModelCheckpoint{'monitor': None, 'mode': 'min', 'every_n_train_steps': 0, 'every_n_epochs': 1, 'train_time_interval': None}.on_fit_start             \t|  1.959e-06      \t|  1              \t|  1.959e-06      \t|  5.8719e-08     \t|\n",
      "|  [LightningModule]LitModel.teardown                                                                                                                             \t|  1.5e-06        \t|  1              \t|  1.5e-06        \t|  4.4961e-08     \t|\n",
      "|  [Strategy]SingleDeviceStrategy.on_train_end                                                                                                                    \t|  1.375e-06      \t|  1              \t|  1.375e-06      \t|  4.1214e-08     \t|\n",
      "|  [Callback]ModelCheckpoint{'monitor': None, 'mode': 'min', 'every_n_train_steps': 0, 'every_n_epochs': 1, 'train_time_interval': None}.on_train_end             \t|  1.208e-06      \t|  1              \t|  1.208e-06      \t|  3.6208e-08     \t|\n",
      "|  [LightningModule]LitModel.on_fit_end                                                                                                                           \t|  1.208e-06      \t|  1              \t|  1.208e-06      \t|  3.6208e-08     \t|\n",
      "|  [Callback]ModelCheckpoint{'monitor': None, 'mode': 'min', 'every_n_train_steps': 0, 'every_n_epochs': 1, 'train_time_interval': None}.on_fit_end               \t|  1.083e-06      \t|  1              \t|  1.083e-06      \t|  3.2462e-08     \t|\n",
      "|  [Callback]ModelSummary.on_fit_end                                                                                                                              \t|  1.083e-06      \t|  1              \t|  1.083e-06      \t|  3.2462e-08     \t|\n",
      "|  [Callback]ModelCheckpoint{'monitor': None, 'mode': 'min', 'every_n_train_steps': 0, 'every_n_epochs': 1, 'train_time_interval': None}.on_train_start           \t|  1e-06          \t|  1              \t|  1e-06          \t|  2.9974e-08     \t|\n",
      "|  [Callback]ModelSummary.on_sanity_check_end                                                                                                                     \t|  9.59e-07       \t|  1              \t|  9.59e-07       \t|  2.8745e-08     \t|\n",
      "|  [Callback]ModelSummary.teardown                                                                                                                                \t|  9.58e-07       \t|  1              \t|  9.58e-07       \t|  2.8715e-08     \t|\n",
      "|  [Callback]ModelSummary.setup                                                                                                                                   \t|  9.58e-07       \t|  1              \t|  9.58e-07       \t|  2.8715e-08     \t|\n",
      "|  [LightningModule]LitModel.configure_callbacks                                                                                                                  \t|  9.17e-07       \t|  1              \t|  9.17e-07       \t|  2.7486e-08     \t|\n",
      "|  [LightningModule]LitModel.setup                                                                                                                                \t|  9.17e-07       \t|  1              \t|  9.17e-07       \t|  2.7486e-08     \t|\n",
      "|  [Callback]ModelCheckpoint{'monitor': None, 'mode': 'min', 'every_n_train_steps': 0, 'every_n_epochs': 1, 'train_time_interval': None}.on_sanity_check_start    \t|  9.17e-07       \t|  1              \t|  9.17e-07       \t|  2.7486e-08     \t|\n",
      "|  [Callback]ModelCheckpoint{'monitor': None, 'mode': 'min', 'every_n_train_steps': 0, 'every_n_epochs': 1, 'train_time_interval': None}.teardown                 \t|  8.75e-07       \t|  1              \t|  8.75e-07       \t|  2.6227e-08     \t|\n",
      "|  [LightningModule]LitModel.on_train_start                                                                                                                       \t|  8.33e-07       \t|  1              \t|  8.33e-07       \t|  2.4968e-08     \t|\n",
      "|  [LightningModule]LitModel.on_fit_start                                                                                                                         \t|  7.08e-07       \t|  1              \t|  7.08e-07       \t|  2.1221e-08     \t|\n",
      "|  [Callback]ModelCheckpoint{'monitor': None, 'mode': 'min', 'every_n_train_steps': 0, 'every_n_epochs': 1, 'train_time_interval': None}.on_sanity_check_end      \t|  5.83e-07       \t|  1              \t|  5.83e-07       \t|  1.7475e-08     \t|\n",
      "|  [Strategy]SingleDeviceStrategy.on_train_start                                                                                                                  \t|  5.83e-07       \t|  1              \t|  5.83e-07       \t|  1.7475e-08     \t|\n",
      "--------------------------------------------------------------------------------------------------------------------------------------------------------------------------------------------------------------------------------------------------------------------------\n",
      "\n"
     ]
    },
    {
     "name": "stdout",
     "output_type": "stream",
     "text": [
      "\n"
     ]
    }
   ],
   "source": [
    "# logging\n",
    "wandb_logger = WandbLogger(\n",
    "    project=config.wandb_project,\n",
    "    name=datetime.datetime.now().strftime(\"%b-%d-%y @ %I:%M %p\"),\n",
    "    log_model=\"all\",\n",
    "    config=config\n",
    ")\n",
    "\n",
    "wandb_logger.watch(MODEL, log=\"all\")\n",
    "\n",
    "# Define the trainer\n",
    "trainer = L.Trainer(\n",
    "    default_root_dir=\"some/path/\",\n",
    "    max_epochs=config.num_epochs,\n",
    "    val_check_interval=0.5,\n",
    "    log_every_n_steps=config.log_interval,\n",
    "    accumulate_grad_batches=config.grad_accumulation,\n",
    "    gradient_clip_val=config.grad_clip,\n",
    "    profiler=\"simple\",\n",
    "    logger=wandb_logger,\n",
    "    # NOTE: Should be commented out if using GPU. There may be bugs related\n",
    "    # to tensor device placements, since I have not tested this on GPU.\n",
    "    accelerator=\"cpu\",\n",
    ")\n",
    "\n",
    "# train model\n",
    "trainer.fit(\n",
    "    model=the_model,\n",
    "    train_dataloaders=train_loader,\n",
    "    val_dataloaders=val_loader\n",
    ")"
   ]
  },
  {
   "cell_type": "code",
   "execution_count": 19,
   "metadata": {},
   "outputs": [
    {
     "data": {
      "image/png": "[encoded data removed]",
      "text/plain": [
       "<Figure size 640x480 with 2 Axes>"
      ]
     },
     "metadata": {},
     "output_type": "display_data"
    }
   ],
   "source": [
    "conf_matrix(MODEL, test_loader)"
   ]
  },
  {
   "cell_type": "code",
   "execution_count": null,
   "metadata": {},
   "outputs": [],
   "source": []
  }
 ],
 "metadata": {
  "kernelspec": {
   "display_name": "geometric",
   "language": "python",
   "name": "python3"
  },
  "language_info": {
   "codemirror_mode": {
    "name": "ipython",
    "version": 3
   },
   "file_extension": ".py",
   "mimetype": "text/x-python",
   "name": "python",
   "nbconvert_exporter": "python",
   "pygments_lexer": "ipython3",
   "version": "3.9.20"
  }
 },
 "nbformat": 4,
 "nbformat_minor": 2
}
