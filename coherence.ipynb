{
 "cells": [
  {
   "cell_type": "code",
   "execution_count": 1,
   "metadata": {},
   "outputs": [
    {
     "name": "stderr",
     "output_type": "stream",
     "text": [
      "/Users/faustogerman/miniforge3/envs/narrative-trails/lib/python3.9/site-packages/tqdm/auto.py:21: TqdmWarning: IProgress not found. Please update jupyter and ipywidgets. See https://ipywidgets.readthedocs.io/en/stable/user_install.html\n",
      "  from .autonotebook import tqdm as notebook_tqdm\n"
     ]
    }
   ],
   "source": [
    "import umap\n",
    "import hdbscan\n",
    "\n",
    "import pandas as pd\n",
    "import numpy as np\n",
    "import pandas as pd\n",
    "\n",
    "from tqdm import tqdm\n",
    "from urllib.parse import unquote\n",
    "from embedding_extraction import extract_embeddings\n",
    "from scipy.spatial import distance"
   ]
  },
  {
   "cell_type": "code",
   "execution_count": 2,
   "metadata": {},
   "outputs": [
    {
     "name": "stderr",
     "output_type": "stream",
     "text": [
      "100%|██████████| 4604/4604 [00:02<00:00, 1572.42it/s]\n"
     ]
    }
   ],
   "source": [
    "pages = pd.read_csv(\"./articles.tsv\", sep=\"\\t\", skiprows=12, names=[\"name\"])\n",
    "\n",
    "processed_docs = []\n",
    "for doc in tqdm(pages[\"name\"]):\n",
    "    with open(f\"./data/plaintext_articles/{doc}.txt\", \"r\") as fp:\n",
    "        processed_docs.append({\n",
    "            \"title\": unquote(doc),\n",
    "            \"plain_text\": \" \".join(fp.read().replace(\"#copyright\\n\\n\", '').split(\" \")[:4000]).strip()\n",
    "        })"
   ]
  },
  {
   "cell_type": "code",
   "execution_count": 3,
   "metadata": {},
   "outputs": [
    {
     "data": {
      "text/html": [
       "<div>\n",
       "<style scoped>\n",
       "    .dataframe tbody tr th:only-of-type {\n",
       "        vertical-align: middle;\n",
       "    }\n",
       "\n",
       "    .dataframe tbody tr th {\n",
       "        vertical-align: top;\n",
       "    }\n",
       "\n",
       "    .dataframe thead th {\n",
       "        text-align: right;\n",
       "    }\n",
       "</style>\n",
       "<table border=\"1\" class=\"dataframe\">\n",
       "  <thead>\n",
       "    <tr style=\"text-align: right;\">\n",
       "      <th></th>\n",
       "      <th>title</th>\n",
       "      <th>plain_text</th>\n",
       "    </tr>\n",
       "  </thead>\n",
       "  <tbody>\n",
       "    <tr>\n",
       "      <th>0</th>\n",
       "      <td>Áedán_mac_Gabráin</td>\n",
       "      <td>Áedán mac Gabráin\\n\\n2007 Schools Wikipedia Se...</td>\n",
       "    </tr>\n",
       "    <tr>\n",
       "      <th>1</th>\n",
       "      <td>Åland</td>\n",
       "      <td>Åland\\n\\n2007 Schools Wikipedia Selection. Rel...</td>\n",
       "    </tr>\n",
       "    <tr>\n",
       "      <th>2</th>\n",
       "      <td>Édouard_Manet</td>\n",
       "      <td>Édouard Manet\\n\\n2007 Schools Wikipedia Select...</td>\n",
       "    </tr>\n",
       "    <tr>\n",
       "      <th>3</th>\n",
       "      <td>Éire</td>\n",
       "      <td>Éire\\n\\n2007 Schools Wikipedia Selection. Rela...</td>\n",
       "    </tr>\n",
       "    <tr>\n",
       "      <th>4</th>\n",
       "      <td>Óengus_I_of_the_Picts</td>\n",
       "      <td>Óengus I of the Picts\\n\\n2007 Schools Wikipedi...</td>\n",
       "    </tr>\n",
       "    <tr>\n",
       "      <th>...</th>\n",
       "      <td>...</td>\n",
       "      <td>...</td>\n",
       "    </tr>\n",
       "    <tr>\n",
       "      <th>4599</th>\n",
       "      <td>Zionism</td>\n",
       "      <td>Zionism\\n\\n2007 Schools Wikipedia Selection. R...</td>\n",
       "    </tr>\n",
       "    <tr>\n",
       "      <th>4600</th>\n",
       "      <td>Zirconium</td>\n",
       "      <td>Zirconium\\n\\n2007 Schools Wikipedia Selection....</td>\n",
       "    </tr>\n",
       "    <tr>\n",
       "      <th>4601</th>\n",
       "      <td>Zoroaster</td>\n",
       "      <td>Zoroaster\\n\\n2007 Schools Wikipedia Selection....</td>\n",
       "    </tr>\n",
       "    <tr>\n",
       "      <th>4602</th>\n",
       "      <td>Zuid-Gelders</td>\n",
       "      <td>Zuid-Gelders\\n\\n2007 Schools Wikipedia Selecti...</td>\n",
       "    </tr>\n",
       "    <tr>\n",
       "      <th>4603</th>\n",
       "      <td>Zulu</td>\n",
       "      <td>Zulu\\n\\n2007 Schools Wikipedia Selection. Rela...</td>\n",
       "    </tr>\n",
       "  </tbody>\n",
       "</table>\n",
       "<p>4604 rows × 2 columns</p>\n",
       "</div>"
      ],
      "text/plain": [
       "                      title                                         plain_text\n",
       "0         Áedán_mac_Gabráin  Áedán mac Gabráin\\n\\n2007 Schools Wikipedia Se...\n",
       "1                     Åland  Åland\\n\\n2007 Schools Wikipedia Selection. Rel...\n",
       "2             Édouard_Manet  Édouard Manet\\n\\n2007 Schools Wikipedia Select...\n",
       "3                      Éire  Éire\\n\\n2007 Schools Wikipedia Selection. Rela...\n",
       "4     Óengus_I_of_the_Picts  Óengus I of the Picts\\n\\n2007 Schools Wikipedi...\n",
       "...                     ...                                                ...\n",
       "4599                Zionism  Zionism\\n\\n2007 Schools Wikipedia Selection. R...\n",
       "4600              Zirconium  Zirconium\\n\\n2007 Schools Wikipedia Selection....\n",
       "4601              Zoroaster  Zoroaster\\n\\n2007 Schools Wikipedia Selection....\n",
       "4602           Zuid-Gelders  Zuid-Gelders\\n\\n2007 Schools Wikipedia Selecti...\n",
       "4603                   Zulu  Zulu\\n\\n2007 Schools Wikipedia Selection. Rela...\n",
       "\n",
       "[4604 rows x 2 columns]"
      ]
     },
     "execution_count": 3,
     "metadata": {},
     "output_type": "execute_result"
    }
   ],
   "source": [
    "dataset = pd.DataFrame(processed_docs)\n",
    "dataset.to_csv(\"./data/full_data.csv\")\n",
    "\n",
    "dataset"
   ]
  },
  {
   "cell_type": "code",
   "execution_count": 4,
   "metadata": {},
   "outputs": [
    {
     "name": "stdout",
     "output_type": "stream",
     "text": [
      "Could not find file './data/embed_data-gpt4.pickle'.Regenerating the embeddings.\n"
     ]
    },
    {
     "name": "stderr",
     "output_type": "stream",
     "text": [
      "100%|██████████| 288/288 [15:51<00:00,  3.30s/it]\n"
     ]
    }
   ],
   "source": [
    "embeddings = extract_embeddings(\n",
    "    text=dataset[\"plain_text\"].tolist(),\n",
    "    foldername=f\"./data\",\n",
    ")"
   ]
  },
  {
   "cell_type": "code",
   "execution_count": 5,
   "metadata": {},
   "outputs": [],
   "source": [
    "umap_model = umap.UMAP(\n",
    "    n_neighbors=32,\n",
    "    n_components=48,\n",
    "    min_dist=0,\n",
    "    metric=\"cosine\",\n",
    "    random_state=42,\n",
    "    n_jobs=1,\n",
    "    low_memory=True\n",
    ")\n",
    "\n",
    "low_dim_mapper = umap_model.fit(embeddings)\n",
    "low_dim_embeds = low_dim_mapper.embedding_\n",
    "\n",
    "# Center the embeddings around the mean\n",
    "low_dim_embeds = low_dim_embeds - np.mean(low_dim_embeds, axis=0)\n",
    "\n",
    "\n",
    "hdbscan_model = hdbscan.HDBSCAN(\n",
    "    min_cluster_size=8,\n",
    "    cluster_selection_method=\"eom\",\n",
    "    prediction_data=True,\n",
    ").fit(low_dim_embeds)\n",
    "\n",
    "cluster_label_probs = hdbscan.prediction.all_points_membership_vectors(\n",
    "    hdbscan_model\n",
    ")\n",
    "\n",
    "cluster_labels = cluster_label_probs.argmax(1)"
   ]
  },
  {
   "cell_type": "code",
   "execution_count": 6,
   "metadata": {},
   "outputs": [],
   "source": [
    "def compute_base_coherence_matrix(embeds, cluster_probs: np.ndarray):\n",
    "    # Compute cosine similarity and fix rounding errors\n",
    "    # Here we use the dot product, since the high-dimensional embeddings are normalized\n",
    "    cos_sim = np.clip(embeds @ embeds.T, -1, 1)\n",
    "\n",
    "    # Compute angular similarity\n",
    "    ang_sim = 1 - np.arccos(cos_sim) / np.pi\n",
    "\n",
    "    # Diagonals may sometimes be NaN. Probably from rounding errors\n",
    "    # We set them to 0 here since we're not interested in self-loops.\n",
    "    np.fill_diagonal(ang_sim, 0)\n",
    "\n",
    "    # Compute topic similarity\n",
    "    topic_sim = 1 - distance.cdist(\n",
    "        XA=cluster_probs,\n",
    "        XB=cluster_probs,\n",
    "        metric='jensenshannon'\n",
    "    )\n",
    "\n",
    "    coherence_matrix = (ang_sim * topic_sim) ** 2\n",
    "\n",
    "    # Warn user about NaN values.\n",
    "    if np.isnan(cos_sim).any():\n",
    "        print(\"WARNING: Cosine Similarity matrix contains NaN values.\")\n",
    "    if np.isnan(ang_sim).any():\n",
    "        print(\"WARNING: Angular Similarity matrix contains NaN values.\")\n",
    "    if np.isnan(topic_sim).any():\n",
    "        print(\"WARNING: Topic Similarity matrix contains NaN values.\")\n",
    "    if np.isnan(coherence_matrix).any():\n",
    "        print(\"WARNING: Coherence matrix contains NaN values.\")\n",
    "\n",
    "    return coherence_matrix, ang_sim, topic_sim"
   ]
  },
  {
   "cell_type": "code",
   "execution_count": 7,
   "metadata": {},
   "outputs": [],
   "source": [
    "coherence_matrix, ang_sim, topic_sim = compute_base_coherence_matrix(\n",
    "    embeddings.numpy(),\n",
    "    cluster_label_probs\n",
    ")"
   ]
  },
  {
   "cell_type": "code",
   "execution_count": 12,
   "metadata": {},
   "outputs": [
    {
     "data": {
      "text/plain": [
       "array([[0.        , 0.01205888, 0.01020721, ..., 0.01246944, 0.00919119,\n",
       "        0.012418  ],\n",
       "       [0.01205888, 0.        , 0.01024107, ..., 0.12595476, 0.01456592,\n",
       "        0.19447013],\n",
       "       [0.01020721, 0.01024107, 0.        , ..., 0.01112479, 0.00839769,\n",
       "        0.01056464],\n",
       "       ...,\n",
       "       [0.01246944, 0.12595476, 0.01112479, ..., 0.        , 0.01020719,\n",
       "        0.20622464],\n",
       "       [0.00919119, 0.01456592, 0.00839769, ..., 0.01020719, 0.        ,\n",
       "        0.01235051],\n",
       "       [0.012418  , 0.19447013, 0.01056464, ..., 0.20622464, 0.01235051,\n",
       "        0.        ]])"
      ]
     },
     "execution_count": 12,
     "metadata": {},
     "output_type": "execute_result"
    }
   ],
   "source": [
    "coherence_matrix"
   ]
  },
  {
   "cell_type": "markdown",
   "metadata": {},
   "source": []
  }
 ],
 "metadata": {
  "kernelspec": {
   "display_name": "narrative-trails",
   "language": "python",
   "name": "python3"
  },
  "language_info": {
   "codemirror_mode": {
    "name": "ipython",
    "version": 3
   },
   "file_extension": ".py",
   "mimetype": "text/x-python",
   "name": "python",
   "nbconvert_exporter": "python",
   "pygments_lexer": "ipython3",
   "version": "3.9.18"
  }
 },
 "nbformat": 4,
 "nbformat_minor": 2
}
