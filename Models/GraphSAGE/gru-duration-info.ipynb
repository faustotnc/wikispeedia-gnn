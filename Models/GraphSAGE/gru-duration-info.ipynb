{
 "cells": [
  {
   "cell_type": "code",
   "execution_count": 1,
   "metadata": {},
   "outputs": [
    {
     "name": "stderr",
     "output_type": "stream",
     "text": [
      "/Users/faustogerman/miniforge3/envs/geometric/lib/python3.9/site-packages/tqdm/auto.py:21: TqdmWarning: IProgress not found. Please update jupyter and ipywidgets. See https://ipywidgets.readthedocs.io/en/stable/user_install.html\n",
      "  from .autonotebook import tqdm as notebook_tqdm\n"
     ]
    }
   ],
   "source": [
    "import torch\n",
    "import torch_scatter\n",
    "import pickle\n",
    "import random\n",
    "import datetime\n",
    "\n",
    "import numpy as np\n",
    "import pandas as pd\n",
    "import torch.nn as nn\n",
    "import torch.nn.functional as F\n",
    "import lightning as L\n",
    "\n",
    "from urllib.parse import unquote\n",
    "from torch.optim.lr_scheduler import ReduceLROnPlateau\n",
    "from lightning.pytorch.loggers import WandbLogger\n",
    "from torch.utils.data import Dataset, random_split\n",
    "from dataclasses import dataclass\n",
    "from torch_geometric.data import Data\n",
    "from torch_geometric.loader import DataLoader\n",
    "from torch_geometric.nn import global_mean_pool, GraphNorm, LayerNorm\n",
    "from torch_geometric.nn.models import GraphSAGE"
   ]
  },
  {
   "cell_type": "markdown",
   "metadata": {},
   "source": [
    "### Load the text data"
   ]
  },
  {
   "cell_type": "code",
   "execution_count": 2,
   "metadata": {},
   "outputs": [],
   "source": [
    "# Load text data\n",
    "data = pd.read_csv(f\"../../data/full_text_data.csv\")"
   ]
  },
  {
   "cell_type": "markdown",
   "metadata": {},
   "source": [
    "### Load the links"
   ]
  },
  {
   "cell_type": "code",
   "execution_count": 3,
   "metadata": {},
   "outputs": [],
   "source": [
    "# Load links\n",
    "links = pd.read_csv(\"../../data/Wikispeedia/links.tsv\", sep=\"\\t\", names=[\"src\", \"tgt\"], skiprows=12)\n",
    "links[\"src\"] = links[\"src\"].map(lambda x: unquote(x))\n",
    "links[\"tgt\"] = links[\"tgt\"].map(lambda x: unquote(x))\n",
    "\n",
    "# Create adjacency matrix\n",
    "ordered_data_titles = data[\"title\"].tolist()\n",
    "src_indices = links[\"src\"].map(lambda x: ordered_data_titles.index(x))\n",
    "tgt_indices = links[\"tgt\"].map(lambda x: ordered_data_titles.index(x))\n",
    "A = torch.zeros((len(ordered_data_titles), len(ordered_data_titles)))\n",
    "A[src_indices, tgt_indices] = 1"
   ]
  },
  {
   "cell_type": "code",
   "execution_count": 4,
   "metadata": {},
   "outputs": [],
   "source": [
    "# Load coherence graph\n",
    "with open(\"../../data/coherence_graph.pkl\", 'rb') as handle:\n",
    "    coherence_graph = pickle.load(handle)\n",
    "\n",
    "# Combine coherence graph with base links\n",
    "edge_features = A * coherence_graph"
   ]
  },
  {
   "cell_type": "code",
   "execution_count": 5,
   "metadata": {},
   "outputs": [
    {
     "name": "stderr",
     "output_type": "stream",
     "text": [
      "/var/folders/ww/02m6b2_s1bl0sbzz4jq19n500000gn/T/ipykernel_23043/2880839170.py:6: UserWarning: To copy construct from a tensor, it is recommended to use sourceTensor.clone().detach() or sourceTensor.clone().detach().requires_grad_(True), rather than torch.tensor(sourceTensor).\n",
      "  node_static_embeddings = torch.tensor(node_static_embeddings, dtype=torch.float)\n"
     ]
    },
    {
     "data": {
      "text/plain": [
       "tensor([[ 0.0038,  0.0096,  0.0519,  ..., -0.0275,  0.0512, -0.0136],\n",
       "        [-0.0361,  0.0142,  0.0874,  ..., -0.0140, -0.0216,  0.0194],\n",
       "        [ 0.0341,  0.0069,  0.0078,  ...,  0.0070,  0.0373, -0.0153],\n",
       "        ...,\n",
       "        [-0.0165,  0.0102,  0.0054,  ...,  0.0072,  0.0459, -0.0378],\n",
       "        [-0.0212,  0.0331,  0.0266,  ..., -0.0187,  0.0237, -0.0141],\n",
       "        [ 0.0375,  0.0523,  0.0282,  ...,  0.0183, -0.0107, -0.0030]])"
      ]
     },
     "execution_count": 5,
     "metadata": {},
     "output_type": "execute_result"
    }
   ],
   "source": [
    "# Load node embeddings\n",
    "with open(\"../../data/gpt4_embeddings.pkl\", 'rb') as handle:\n",
    "    obj = pickle.load(handle)\n",
    "    node_static_embeddings = obj[\"embeddings\"]\n",
    "    del obj\n",
    "node_static_embeddings = torch.tensor(node_static_embeddings, dtype=torch.float)\n",
    "node_static_embeddings"
   ]
  },
  {
   "cell_type": "markdown",
   "metadata": {},
   "source": [
    "### Load the User-Extracted Paths"
   ]
  },
  {
   "cell_type": "code",
   "execution_count": 8,
   "metadata": {},
   "outputs": [],
   "source": [
    "# Load user-extracted paths\n",
    "paths_data = pd.read_csv(f\"../../data/paths_no_back_links.tsv\", sep=\"\\t\")\n",
    "paths_data = paths_data[~(paths_data[\"rating\"].isna())]\n",
    "\n",
    "# Filter paths with at least four distinct pages\n",
    "# paths_data = paths_data[paths_data[\"path\"].apply(lambda x: len(set(x.split(\";\"))) >= 4)]\n",
    "\n",
    "# Map titles to indices\n",
    "title_to_index = {unquote(title): idx for idx, title in enumerate(data['title'])}\n",
    "paths = paths_data['path'].apply(lambda path: [title_to_index[unquote(title)] for title in path.split(';')]).tolist()\n",
    "ratings = (paths_data['rating'] - 1).tolist()  # 0-indexed ratings\n",
    "durations = paths_data['durationInSec'].tolist()"
   ]
  },
  {
   "cell_type": "code",
   "execution_count": 9,
   "metadata": {},
   "outputs": [
    {
     "data": {
      "text/plain": [
       "<Axes: >"
      ]
     },
     "execution_count": 9,
     "metadata": {},
     "output_type": "execute_result"
    },
    {
     "data": {
      "image/png": "[encoded data removed]",
      "text/plain": [
       "<Figure size 640x480 with 1 Axes>"
      ]
     },
     "metadata": {},
     "output_type": "display_data"
    }
   ],
   "source": [
    "paths_data[\"rating\"].hist()"
   ]
  },
  {
   "cell_type": "code",
   "execution_count": 18,
   "metadata": {},
   "outputs": [],
   "source": [
    "class PathDataset(Dataset):\n",
    "    def __init__(self, paths, ratings, durations, node_embeddings, edge_features):\n",
    "        self.paths = paths\n",
    "        self.ratings = ratings\n",
    "        self.durations = durations\n",
    "        self.node_embeddings = node_embeddings\n",
    "        self.edge_features = edge_features\n",
    "\n",
    "    def __len__(self):\n",
    "        return len(self.paths)\n",
    "\n",
    "    def __getitem__(self, idx):\n",
    "        path = self.paths[idx]\n",
    "        rating = int(self.ratings[idx])\n",
    "        duration = self.durations[idx]\n",
    "        nodes, edge_index, edge_weight = self.get_subgraph_edges(path)\n",
    "\n",
    "        x = self.node_embeddings[nodes]\n",
    "\n",
    "        data = Data(\n",
    "            x=x,\n",
    "            durations=duration,\n",
    "            edge_index=edge_index,\n",
    "            edge_weight=edge_weight,\n",
    "            y=rating\n",
    "        )\n",
    "        return data\n",
    "\n",
    "    def get_subgraph_edges(self, path):\n",
    "        nodes = list(set(path))\n",
    "        node_to_idx = {node: idx for idx, node in enumerate(nodes)}\n",
    "        edges = []\n",
    "        edge_weights = []\n",
    "        for i in nodes:\n",
    "            for j in nodes:\n",
    "                weight = self.edge_features[i, j]\n",
    "                if weight > 0:\n",
    "                    edges.append([node_to_idx[i], node_to_idx[j]])\n",
    "                    edge_weights.append(weight)\n",
    "        if edges:\n",
    "            edge_index = torch.tensor(edges, dtype=torch.long).t().contiguous()\n",
    "            edge_weight = torch.tensor(edge_weights, dtype=torch.float)\n",
    "        else:\n",
    "            edge_index = torch.empty((2, 0), dtype=torch.long)\n",
    "            edge_weight = torch.tensor([], dtype=torch.float)\n",
    "        return nodes, edge_index, edge_weight\n",
    "\n",
    "# Create dataset\n",
    "dataset = PathDataset(paths, ratings, durations, node_static_embeddings, edge_features)\n",
    "\n",
    "# Split dataset\n",
    "train_ratio = 0.85\n",
    "val_ratio = 0.05\n",
    "test_ratio = 0.1\n",
    "total_size = len(dataset)\n",
    "train_size = int(train_ratio * total_size)\n",
    "val_size = int(val_ratio * total_size)\n",
    "test_size = total_size - train_size - val_size\n",
    "\n",
    "train_dataset, val_dataset, test_dataset = random_split(\n",
    "    dataset, [train_size, val_size, test_size], generator=torch.Generator().manual_seed(42)\n",
    ")\n",
    "\n",
    "# Create data loaders\n",
    "batch_size = 6\n",
    "train_loader = DataLoader(train_dataset, batch_size=batch_size, shuffle=True)\n",
    "val_loader = DataLoader(val_dataset, batch_size=batch_size)\n",
    "test_loader = DataLoader(test_dataset, batch_size=batch_size)"
   ]
  },
  {
   "cell_type": "markdown",
   "metadata": {},
   "source": [
    "#### Map the Path Titles to Node Indices"
   ]
  },
  {
   "cell_type": "code",
   "execution_count": 20,
   "metadata": {},
   "outputs": [
    {
     "data": {
      "text/plain": [
       "tensor([0.3694, 0.3559, 0.4319, 1.1350, 2.7078])"
      ]
     },
     "execution_count": 20,
     "metadata": {},
     "output_type": "execute_result"
    }
   ],
   "source": [
    "# Counts occurrences of each class\n",
    "class_counts = torch.bincount(\n",
    "    torch.tensor(ratings)[train_dataset.indices].to(torch.int64)\n",
    ")\n",
    "\n",
    "# Calculate weights as the inverse of class frequencies\n",
    "class_weights = 1.0 / class_counts.float()\n",
    "\n",
    "# Normalize the weights so that they sum to the number of classes\n",
    "class_weights = class_weights / class_weights.sum() * len(class_counts)\n",
    "\n",
    "class_weights"
   ]
  },
  {
   "cell_type": "markdown",
   "metadata": {},
   "source": [
    "#### Class Weights for Imbalanced Training"
   ]
  },
  {
   "cell_type": "code",
   "execution_count": 25,
   "metadata": {},
   "outputs": [],
   "source": [
    "from sklearn.metrics import confusion_matrix, ConfusionMatrixDisplay\n",
    "import matplotlib.pyplot as plt\n",
    "\n",
    "def conf_matrix(model, dataset_loader):\n",
    "    # Pass the testing loader through the model\n",
    "    all_preds = []\n",
    "    all_labels = []\n",
    "\n",
    "    model.eval()\n",
    "    with torch.no_grad():\n",
    "        for batch in dataset_loader:\n",
    "            logits = model(batch.x, batch.edge_index, batch.durations, batch.batch)\n",
    "            preds = logits.argmax(dim=1).cpu().numpy()\n",
    "            labels = batch.y.cpu().numpy()\n",
    "            \n",
    "            all_preds.extend(preds)\n",
    "            all_labels.extend(labels)\n",
    "\n",
    "    # Compute confusion matrix\n",
    "    cm = confusion_matrix(all_labels, all_preds)\n",
    "    disp = ConfusionMatrixDisplay(confusion_matrix=cm)\n",
    "\n",
    "    # Plot confusion matrix\n",
    "    disp.plot(cmap=plt.cm.Blues)\n",
    "    plt.show()"
   ]
  },
  {
   "cell_type": "markdown",
   "metadata": {},
   "source": [
    "## The Model"
   ]
  },
  {
   "cell_type": "code",
   "execution_count": 26,
   "metadata": {},
   "outputs": [],
   "source": [
    "class Model(nn.Module):\n",
    "    def __init__(self, node_in_feats, hidden_feats, num_classes, dropout=0.0, bias=True):\n",
    "        super(Model, self).__init__()\n",
    "        self.sage = GraphSAGE(\n",
    "            in_channels=node_in_feats,\n",
    "            hidden_channels=hidden_feats,\n",
    "            num_layers=1,\n",
    "            dropout=dropout,\n",
    "            bias=bias\n",
    "        )\n",
    "\n",
    "        # GRU for sequence-based aggregation\n",
    "        self.gru = nn.GRU(\n",
    "            input_size=hidden_feats,\n",
    "            hidden_size=hidden_feats,\n",
    "            num_layers=3,\n",
    "            batch_first=True,\n",
    "        )\n",
    "\n",
    "        # Classifier head\n",
    "        self.classifier_head = nn.Sequential(\n",
    "            nn.Linear(hidden_feats + 1, hidden_feats),\n",
    "            nn.LeakyReLU(),\n",
    "            nn.Linear(hidden_feats, num_classes)\n",
    "        )\n",
    "\n",
    "    def forward(self, node_features, edge_index, durations, batch_mask):\n",
    "        sage_out = self.sage(node_features, edge_index)\n",
    "\n",
    "        # Use GRU to aggregate node embeddings based on node order\n",
    "        # Group nodes by graph using the batch_mask\n",
    "        unique_graphs = batch_mask.unique()\n",
    "        graphs_embeddings = []\n",
    "        \n",
    "        for graph_id in unique_graphs:\n",
    "            # Shape: [1, num_nodes_in_graph, hidden_channels]\n",
    "            curr_graph_nodes = sage_out[batch_mask == graph_id].unsqueeze(0)\n",
    "            \n",
    "            # Pass through GRU. The GRU processes the nodes in the order\n",
    "            # specified by node_order internally and outputs the last hidden state\n",
    "            _, hidden_state = self.gru(curr_graph_nodes)  # hidden_state: [num_gru_layers, 1, gru_hidden_size]\n",
    "            graphs_embeddings.append(hidden_state[-1, 0])  # Take the last layer's hidden state for this graph\n",
    "\n",
    "        # Stack all graph embeddings\n",
    "        graphs_embeddings = torch.stack(graphs_embeddings)  # Shape: [num_graphs, gru_hidden_size]\n",
    "        graphs_embeddings = torch.cat([graphs_embeddings, durations.unsqueeze(1)], dim=1)\n",
    "\n",
    "        return self.classifier_head(graphs_embeddings)"
   ]
  },
  {
   "cell_type": "code",
   "execution_count": 27,
   "metadata": {},
   "outputs": [],
   "source": [
    "MODEL = Model(\n",
    "    node_static_embeddings.shape[1],\n",
    "    hidden_feats=512,  # Hidden layer size for GraphSAGE\n",
    "    num_classes=5,  # Number of classes\n",
    ")"
   ]
  },
  {
   "cell_type": "code",
   "execution_count": 28,
   "metadata": {},
   "outputs": [
    {
     "data": {
      "image/png": "[encoded data removed]",
      "text/plain": [
       "<Figure size 640x480 with 2 Axes>"
      ]
     },
     "metadata": {},
     "output_type": "display_data"
    }
   ],
   "source": [
    "conf_matrix(MODEL, test_loader)"
   ]
  },
  {
   "cell_type": "markdown",
   "metadata": {},
   "source": [
    "## Training the Model"
   ]
  },
  {
   "cell_type": "code",
   "execution_count": 33,
   "metadata": {},
   "outputs": [],
   "source": [
    "class LitModel(L.LightningModule):\n",
    "    def __init__(self, model, config):\n",
    "        super().__init__()\n",
    "        self.model = model\n",
    "        self.config = config\n",
    "\n",
    "    def training_step(self, batch, batch_idx):\n",
    "        logits = self.do_forward(batch)\n",
    "        loss = self.compute_loss(logits, batch.y)\n",
    "\n",
    "        loss = self.compute_loss(logits, batch.y)\n",
    "        acc = self.compute_accuracy(logits, batch.y)\n",
    "\n",
    "        # Log training loss and accuracy\n",
    "        self.log(\"training_loss\", loss, on_step=True, on_epoch=True, logger=True, batch_size=batch_size)\n",
    "        self.log(\"training_accuracy\", acc, on_step=True, on_epoch=True, logger=True, batch_size=batch_size)\n",
    "\n",
    "        return loss\n",
    "\n",
    "    def test_step(self, batch):\n",
    "        logits = self.do_forward(batch)\n",
    "\n",
    "        loss = self.compute_loss(logits, batch.y)\n",
    "        acc = self.compute_accuracy(logits, batch.y)\n",
    "\n",
    "        self.log(\"test_loss\", loss, on_step=True, on_epoch=True, batch_size=batch_size)\n",
    "        self.log(\"test_accuracy\", acc, on_step=True, on_epoch=True, batch_size=batch_size)\n",
    "\n",
    "    def validation_step(self, batch, batch_idx):\n",
    "        logits = self.do_forward(batch)\n",
    "\n",
    "        loss = self.compute_loss(logits, batch.y)\n",
    "        acc = self.compute_accuracy(logits, batch.y)\n",
    "\n",
    "        # Log validation loss and accuracy\n",
    "        self.log(\"validation_loss\", loss, on_step=True, on_epoch=True, logger=True, batch_size=batch_size)\n",
    "        self.log(\"validation_accuracy\", acc, on_step=True, on_epoch=True, logger=True, batch_size=batch_size)\n",
    "\n",
    "    def configure_optimizers(self):\n",
    "        optimizer = torch.optim.AdamW(\n",
    "            params=self.model.parameters(),\n",
    "            lr=self.config.learning_rate,\n",
    "            weight_decay=self.config.weight_decay,\n",
    "            betas=(self.config.beta1, self.config.beta2),\n",
    "        )\n",
    "\n",
    "        return {\n",
    "            \"optimizer\": optimizer,\n",
    "            \"lr_scheduler\": {\n",
    "                \"scheduler\": ReduceLROnPlateau(optimizer),\n",
    "                \"interval\": \"epoch\",\n",
    "                \"frequency\": 1,\n",
    "                \"monitor\": \"validation_loss\",\n",
    "                \"strict\": True,\n",
    "            }\n",
    "        }\n",
    "\n",
    "    def do_forward(self, batch):\n",
    "        \"\"\"This is a custom method not associated with Lightning\"\"\"\n",
    "        return self.model(\n",
    "            node_features=batch.x,\n",
    "            edge_index=batch.edge_index,\n",
    "            durations=batch.durations,\n",
    "            batch_mask=batch.batch\n",
    "        )\n",
    "\n",
    "    def compute_loss(self, logits, targets):\n",
    "        \"\"\"This is a custom method not associated with Lightning\"\"\"\n",
    "        targets = targets.type(torch.long)\n",
    "        return F.cross_entropy(logits, targets, weight=class_weights)\n",
    "\n",
    "    def compute_accuracy(self, logits, targets):\n",
    "        \"\"\"This is a custom method not associated with Lightning\"\"\"\n",
    "        return (logits.argmax(1) == targets).float().mean()"
   ]
  },
  {
   "cell_type": "code",
   "execution_count": 34,
   "metadata": {},
   "outputs": [],
   "source": [
    "@dataclass\n",
    "class ModelConfig:\n",
    "    learning_rate: float = 1e-3\n",
    "    weight_decay: float = 1e-5\n",
    "    beta1: float = 0.9\n",
    "    beta2: float = 0.999\n",
    "    grad_clip: float = None\n",
    "    num_epochs: int = 6\n",
    "    log_interval: int = 1\n",
    "    grad_accumulation: int = 1\n",
    "    wandb_project: str = \"wikispeedia_v3\"\n",
    "\n",
    "\n",
    "config = ModelConfig()"
   ]
  },
  {
   "cell_type": "code",
   "execution_count": 35,
   "metadata": {},
   "outputs": [],
   "source": [
    "# model\n",
    "the_model = LitModel(MODEL, config)"
   ]
  },
  {
   "cell_type": "code",
   "execution_count": 36,
   "metadata": {},
   "outputs": [
    {
     "name": "stderr",
     "output_type": "stream",
     "text": [
      "/Users/faustogerman/miniforge3/envs/geometric/lib/python3.9/site-packages/lightning/pytorch/core/module.py:445: You are trying to `self.log()` but the `self.trainer` reference is not registered on the model yet. This is most likely because the model hasn't been passed to the `Trainer`\n"
     ]
    }
   ],
   "source": [
    "# Create the Lightning Model\n",
    "lit_model = LitModel(MODEL, config)\n",
    "\n",
    "# Test the model with one batch\n",
    "# to make sure everything is working\n",
    "it = next(iter(test_loader))\n",
    "lit_model.test_step(it)"
   ]
  },
  {
   "cell_type": "code",
   "execution_count": 37,
   "metadata": {},
   "outputs": [
    {
     "name": "stderr",
     "output_type": "stream",
     "text": [
      "\u001b[34m\u001b[1mwandb\u001b[0m: Using wandb-core as the SDK backend. Please refer to https://wandb.me/wandb-core for more information.\n",
      "\u001b[34m\u001b[1mwandb\u001b[0m: Currently logged in as: \u001b[33mfaustotnc\u001b[0m. Use \u001b[1m`wandb login --relogin`\u001b[0m to force relogin\n"
     ]
    },
    {
     "data": {
      "text/html": [
       "Tracking run with wandb version 0.18.5"
      ],
      "text/plain": [
       "<IPython.core.display.HTML object>"
      ]
     },
     "metadata": {},
     "output_type": "display_data"
    },
    {
     "data": {
      "text/html": [
       "Run data is saved locally in <code>./wandb/run-20241202_152419-m5wc1nhh</code>"
      ],
      "text/plain": [
       "<IPython.core.display.HTML object>"
      ]
     },
     "metadata": {},
     "output_type": "display_data"
    },
    {
     "data": {
      "text/html": [
       "Syncing run <strong><a href='https://wandb.ai/faustotnc/wikispeedia_v3/runs/m5wc1nhh' target=\"_blank\">Dec-02-24 @ 03:24 PM</a></strong> to <a href='https://wandb.ai/faustotnc/wikispeedia_v3' target=\"_blank\">Weights & Biases</a> (<a href='https://wandb.me/run' target=\"_blank\">docs</a>)<br/>"
      ],
      "text/plain": [
       "<IPython.core.display.HTML object>"
      ]
     },
     "metadata": {},
     "output_type": "display_data"
    },
    {
     "data": {
      "text/html": [
       " View project at <a href='https://wandb.ai/faustotnc/wikispeedia_v3' target=\"_blank\">https://wandb.ai/faustotnc/wikispeedia_v3</a>"
      ],
      "text/plain": [
       "<IPython.core.display.HTML object>"
      ]
     },
     "metadata": {},
     "output_type": "display_data"
    },
    {
     "data": {
      "text/html": [
       " View run at <a href='https://wandb.ai/faustotnc/wikispeedia_v3/runs/m5wc1nhh' target=\"_blank\">https://wandb.ai/faustotnc/wikispeedia_v3/runs/m5wc1nhh</a>"
      ],
      "text/plain": [
       "<IPython.core.display.HTML object>"
      ]
     },
     "metadata": {},
     "output_type": "display_data"
    },
    {
     "name": "stderr",
     "output_type": "stream",
     "text": [
      "\u001b[34m\u001b[1mwandb\u001b[0m: logging graph, to disable use `wandb.watch(log_graph=False)`\n",
      "GPU available: True (mps), used: False\n",
      "TPU available: False, using: 0 TPU cores\n",
      "HPU available: False, using: 0 HPUs\n",
      "/Users/faustogerman/miniforge3/envs/geometric/lib/python3.9/site-packages/lightning/pytorch/trainer/setup.py:177: GPU available but not used. You can set it by doing `Trainer(accelerator='gpu')`.\n",
      "\n",
      "  | Name  | Type  | Params | Mode\n",
      "---------------------------------------\n",
      "0 | model | Model | 6.6 M  | eval\n",
      "---------------------------------------\n",
      "6.6 M     Trainable params\n",
      "0         Non-trainable params\n",
      "6.6 M     Total params\n",
      "26.268    Total estimated model params size (MB)\n",
      "0         Modules in train mode\n",
      "17        Modules in eval mode\n"
     ]
    },
    {
     "name": "stdout",
     "output_type": "stream",
     "text": [
      "                                                                           "
     ]
    },
    {
     "name": "stderr",
     "output_type": "stream",
     "text": [
      "/Users/faustogerman/miniforge3/envs/geometric/lib/python3.9/site-packages/lightning/pytorch/trainer/connectors/data_connector.py:424: The 'val_dataloader' does not have many workers which may be a bottleneck. Consider increasing the value of the `num_workers` argument` to `num_workers=9` in the `DataLoader` to improve performance.\n",
      "/Users/faustogerman/miniforge3/envs/geometric/lib/python3.9/site-packages/lightning/pytorch/trainer/connectors/data_connector.py:424: The 'train_dataloader' does not have many workers which may be a bottleneck. Consider increasing the value of the `num_workers` argument` to `num_workers=9` in the `DataLoader` to improve performance.\n"
     ]
    },
    {
     "name": "stdout",
     "output_type": "stream",
     "text": [
      "Epoch 5: 100%|██████████| 4038/4038 [08:18<00:00,  8.10it/s, v_num=1nhh]"
     ]
    },
    {
     "name": "stderr",
     "output_type": "stream",
     "text": [
      "`Trainer.fit` stopped: `max_epochs=6` reached.\n"
     ]
    },
    {
     "name": "stdout",
     "output_type": "stream",
     "text": [
      "Epoch 5: 100%|██████████| 4038/4038 [08:18<00:00,  8.10it/s, v_num=1nhh]"
     ]
    },
    {
     "name": "stderr",
     "output_type": "stream",
     "text": [
      "FIT Profiler Report\n",
      "\n",
      "--------------------------------------------------------------------------------------------------------------------------------------------------------------------------------------------------------------------------------------------------------------------------\n",
      "|  Action                                                                                                                                                         \t|  Mean duration (s)\t|  Num calls      \t|  Total time (s) \t|  Percentage %   \t|\n",
      "--------------------------------------------------------------------------------------------------------------------------------------------------------------------------------------------------------------------------------------------------------------------------\n",
      "|  Total                                                                                                                                                          \t|  -              \t|  912621         \t|  3037.3         \t|  100 %          \t|\n",
      "--------------------------------------------------------------------------------------------------------------------------------------------------------------------------------------------------------------------------------------------------------------------------\n",
      "|  run_training_epoch                                                                                                                                             \t|  506.19         \t|  6              \t|  3037.2         \t|  99.996         \t|\n",
      "|  run_training_batch                                                                                                                                             \t|  0.11587        \t|  24228          \t|  2807.4         \t|  92.431         \t|\n",
      "|  [LightningModule]LitModel.optimizer_step                                                                                                                       \t|  0.11525        \t|  24228          \t|  2792.2         \t|  91.931         \t|\n",
      "|  [Strategy]SingleDeviceStrategy.backward                                                                                                                        \t|  0.084714       \t|  24228          \t|  2052.5         \t|  67.575         \t|\n",
      "|  [Strategy]SingleDeviceStrategy.training_step                                                                                                                   \t|  0.021586       \t|  24228          \t|  522.98         \t|  17.219         \t|\n",
      "|  [_TrainingEpochLoop].train_dataloader_next                                                                                                                     \t|  0.0036829      \t|  24228          \t|  89.23          \t|  2.9378         \t|\n",
      "|  [Strategy]SingleDeviceStrategy.validation_step                                                                                                                 \t|  0.0193         \t|  2858           \t|  55.158         \t|  1.816          \t|\n",
      "|  [Callback]TQDMProgressBar.on_train_batch_end                                                                                                                   \t|  0.0016213      \t|  24228          \t|  39.282         \t|  1.2933         \t|\n",
      "|  [LightningModule]LitModel.optimizer_zero_grad                                                                                                                  \t|  0.0012235      \t|  24228          \t|  29.642         \t|  0.97594        \t|\n",
      "|  [_EvaluationLoop].val_next                                                                                                                                     \t|  0.0039383      \t|  2858           \t|  11.256         \t|  0.37059        \t|\n",
      "|  [Callback]ModelCheckpoint{'monitor': None, 'mode': 'min', 'every_n_train_steps': 0, 'every_n_epochs': 1, 'train_time_interval': None}.on_validation_end        \t|  0.41145        \t|  13             \t|  5.3488         \t|  0.1761         \t|\n",
      "|  [Callback]TQDMProgressBar.on_validation_batch_end                                                                                                              \t|  0.0018425      \t|  2858           \t|  5.2659         \t|  0.17338        \t|\n",
      "|  [Strategy]SingleDeviceStrategy.batch_to_device                                                                                                                 \t|  4.2158e-05     \t|  27086          \t|  1.1419         \t|  0.037596       \t|\n",
      "|  [LightningModule]LitModel.transfer_batch_to_device                                                                                                             \t|  2.3648e-05     \t|  27086          \t|  0.64053        \t|  0.021089       \t|\n",
      "|  [LightningModule]LitModel.configure_gradient_clipping                                                                                                          \t|  1.974e-05      \t|  24228          \t|  0.47826        \t|  0.015746       \t|\n",
      "|  [Callback]ModelCheckpoint{'monitor': None, 'mode': 'min', 'every_n_train_steps': 0, 'every_n_epochs': 1, 'train_time_interval': None}.on_train_batch_end       \t|  1.8522e-05     \t|  24228          \t|  0.44876        \t|  0.014775       \t|\n",
      "|  [Callback]TQDMProgressBar.on_after_backward                                                                                                                    \t|  4.6755e-06     \t|  24228          \t|  0.11328        \t|  0.0037296      \t|\n",
      "|  [Callback]ModelSummary.on_train_batch_end                                                                                                                      \t|  3.6279e-06     \t|  24228          \t|  0.087896       \t|  0.0028939      \t|\n",
      "|  [Callback]TQDMProgressBar.on_validation_batch_start                                                                                                            \t|  2.1096e-05     \t|  2858           \t|  0.060293       \t|  0.0019851      \t|\n",
      "|  [Callback]TQDMProgressBar.on_before_zero_grad                                                                                                                  \t|  1.6938e-06     \t|  24228          \t|  0.041037       \t|  0.0013511      \t|\n",
      "|  [Callback]TQDMProgressBar.on_before_optimizer_step                                                                                                             \t|  1.5929e-06     \t|  24228          \t|  0.038592       \t|  0.0012706      \t|\n",
      "|  [LightningModule]LitModel.on_before_batch_transfer                                                                                                             \t|  1.2321e-06     \t|  27086          \t|  0.033372       \t|  0.0010987      \t|\n",
      "|  [Callback]TQDMProgressBar.on_before_backward                                                                                                                   \t|  1.3529e-06     \t|  24228          \t|  0.032779       \t|  0.0010792      \t|\n",
      "|  [Callback]TQDMProgressBar.on_train_batch_start                                                                                                                 \t|  1.2955e-06     \t|  24228          \t|  0.031387       \t|  0.0010334      \t|\n",
      "|  [LightningModule]LitModel.on_after_backward                                                                                                                    \t|  1.0122e-06     \t|  24228          \t|  0.024525       \t|  0.00080746     \t|\n",
      "|  [Callback]TQDMProgressBar.on_validation_end                                                                                                                    \t|  0.0018595      \t|  13             \t|  0.024173       \t|  0.00079588     \t|\n",
      "|  [LightningModule]LitModel.on_train_batch_end                                                                                                                   \t|  9.743e-07      \t|  24228          \t|  0.023605       \t|  0.00077719     \t|\n",
      "|  [Callback]TQDMProgressBar.on_validation_start                                                                                                                  \t|  0.0017668      \t|  13             \t|  0.022969       \t|  0.00075623     \t|\n",
      "|  [LightningModule]LitModel.on_validation_model_zero_grad                                                                                                        \t|  0.0018002      \t|  12             \t|  0.021603       \t|  0.00071125     \t|\n",
      "|  [Callback]ModelCheckpoint{'monitor': None, 'mode': 'min', 'every_n_train_steps': 0, 'every_n_epochs': 1, 'train_time_interval': None}.on_before_backward       \t|  8.6741e-07     \t|  24228          \t|  0.021016       \t|  0.00069192     \t|\n",
      "|  [Callback]ModelSummary.on_after_backward                                                                                                                       \t|  8.5906e-07     \t|  24228          \t|  0.020813       \t|  0.00068526     \t|\n",
      "|  [Callback]ModelSummary.on_before_zero_grad                                                                                                                     \t|  8.2986e-07     \t|  24228          \t|  0.020106       \t|  0.00066197     \t|\n",
      "|  [LightningModule]LitModel.on_before_zero_grad                                                                                                                  \t|  7.7914e-07     \t|  24228          \t|  0.018877       \t|  0.00062151     \t|\n",
      "|  [Callback]ModelCheckpoint{'monitor': None, 'mode': 'min', 'every_n_train_steps': 0, 'every_n_epochs': 1, 'train_time_interval': None}.on_before_zero_grad      \t|  7.5565e-07     \t|  24228          \t|  0.018308       \t|  0.00060277     \t|\n",
      "|  [Callback]TQDMProgressBar.on_sanity_check_start                                                                                                                \t|  0.017867       \t|  1              \t|  0.017867       \t|  0.00058825     \t|\n",
      "|  [Callback]ModelCheckpoint{'monitor': None, 'mode': 'min', 'every_n_train_steps': 0, 'every_n_epochs': 1, 'train_time_interval': None}.on_after_backward        \t|  7.2814e-07     \t|  24228          \t|  0.017641       \t|  0.00058083     \t|\n",
      "|  [Callback]ModelSummary.on_train_batch_start                                                                                                                    \t|  7.0229e-07     \t|  24228          \t|  0.017015       \t|  0.00056021     \t|\n",
      "|  [LightningModule]LitModel.on_before_backward                                                                                                                   \t|  7.0219e-07     \t|  24228          \t|  0.017013       \t|  0.00056013     \t|\n",
      "|  [LightningModule]LitModel.on_train_batch_start                                                                                                                 \t|  6.8667e-07     \t|  24228          \t|  0.016637       \t|  0.00054775     \t|\n",
      "|  [Callback]ModelSummary.on_before_backward                                                                                                                      \t|  6.6611e-07     \t|  24228          \t|  0.016138       \t|  0.00053135     \t|\n",
      "|  [Callback]ModelCheckpoint{'monitor': None, 'mode': 'min', 'every_n_train_steps': 0, 'every_n_epochs': 1, 'train_time_interval': None}.on_train_batch_start     \t|  6.5963e-07     \t|  24228          \t|  0.015982       \t|  0.00052618     \t|\n",
      "|  [Callback]ModelSummary.on_before_optimizer_step                                                                                                                \t|  6.2272e-07     \t|  24228          \t|  0.015087       \t|  0.00049674     \t|\n",
      "|  [Callback]ModelCheckpoint{'monitor': None, 'mode': 'min', 'every_n_train_steps': 0, 'every_n_epochs': 1, 'train_time_interval': None}.on_before_optimizer_step \t|  6.197e-07      \t|  24228          \t|  0.015014       \t|  0.00049433     \t|\n",
      "|  [LightningModule]LitModel.on_after_batch_transfer                                                                                                              \t|  4.8286e-07     \t|  27086          \t|  0.013079       \t|  0.00043061     \t|\n",
      "|  [Strategy]SingleDeviceStrategy.on_train_batch_start                                                                                                            \t|  5.3165e-07     \t|  24228          \t|  0.012881       \t|  0.00042409     \t|\n",
      "|  [Callback]ModelSummary.on_validation_batch_end                                                                                                                 \t|  4.2093e-06     \t|  2858           \t|  0.01203        \t|  0.00039608     \t|\n",
      "|  [LightningModule]LitModel.on_before_optimizer_step                                                                                                             \t|  4.474e-07      \t|  24228          \t|  0.01084        \t|  0.00035688     \t|\n",
      "|  [Callback]TQDMProgressBar.on_train_epoch_end                                                                                                                   \t|  0.0011991      \t|  6              \t|  0.0071945      \t|  0.00023687     \t|\n",
      "|  [Callback]TQDMProgressBar.on_train_epoch_start                                                                                                                 \t|  0.00097848     \t|  6              \t|  0.0058709      \t|  0.00019329     \t|\n",
      "|  [Callback]ModelSummary.on_validation_batch_start                                                                                                               \t|  1.1581e-06     \t|  2858           \t|  0.0033098      \t|  0.00010897     \t|\n",
      "|  [LightningModule]LitModel.on_validation_batch_end                                                                                                              \t|  1.0611e-06     \t|  2858           \t|  0.0030327      \t|  9.985e-05      \t|\n",
      "|  [Callback]ModelCheckpoint{'monitor': None, 'mode': 'min', 'every_n_train_steps': 0, 'every_n_epochs': 1, 'train_time_interval': None}.on_validation_batch_end  \t|  9.3313e-07     \t|  2858           \t|  0.0026669      \t|  8.7805e-05     \t|\n",
      "|  [Callback]ModelCheckpoint{'monitor': None, 'mode': 'min', 'every_n_train_steps': 0, 'every_n_epochs': 1, 'train_time_interval': None}.on_validation_batch_start\t|  7.5755e-07     \t|  2858           \t|  0.0021651      \t|  7.1283e-05     \t|\n",
      "|  [LightningModule]LitModel.on_validation_batch_start                                                                                                            \t|  7.3863e-07     \t|  2858           \t|  0.002111       \t|  6.9504e-05     \t|\n",
      "|  [LightningModule]LitModel.on_validation_model_eval                                                                                                             \t|  9.1019e-05     \t|  13             \t|  0.0011832      \t|  3.8958e-05     \t|\n",
      "|  [Callback]TQDMProgressBar.on_train_start                                                                                                                       \t|  0.0010596      \t|  1              \t|  0.0010596      \t|  3.4887e-05     \t|\n",
      "|  [Callback]ModelSummary.on_fit_start                                                                                                                            \t|  0.00098833     \t|  1              \t|  0.00098833     \t|  3.254e-05      \t|\n",
      "|  [Callback]TQDMProgressBar.on_train_end                                                                                                                         \t|  0.00096433     \t|  1              \t|  0.00096433     \t|  3.175e-05      \t|\n",
      "|  [LightningModule]LitModel.lr_scheduler_step                                                                                                                    \t|  6.7646e-05     \t|  6              \t|  0.00040588     \t|  1.3363e-05     \t|\n",
      "|  [LightningModule]LitModel.configure_optimizers                                                                                                                 \t|  0.000365       \t|  1              \t|  0.000365       \t|  1.2017e-05     \t|\n",
      "|  [Callback]ModelCheckpoint{'monitor': None, 'mode': 'min', 'every_n_train_steps': 0, 'every_n_epochs': 1, 'train_time_interval': None}.setup                    \t|  0.00031808     \t|  1              \t|  0.00031808     \t|  1.0473e-05     \t|\n",
      "|  [Callback]ModelSummary.on_validation_end                                                                                                                       \t|  1.1112e-05     \t|  13             \t|  0.00014446     \t|  4.7562e-06     \t|\n",
      "|  [Callback]ModelCheckpoint{'monitor': None, 'mode': 'min', 'every_n_train_steps': 0, 'every_n_epochs': 1, 'train_time_interval': None}.on_train_epoch_end       \t|  1.9326e-05     \t|  6              \t|  0.00011596     \t|  3.8178e-06     \t|\n",
      "|  [Callback]TQDMProgressBar.on_save_checkpoint                                                                                                                   \t|  7.1527e-06     \t|  12             \t|  8.5832e-05     \t|  2.826e-06      \t|\n",
      "|  [Callback]ModelSummary.on_train_epoch_end                                                                                                                      \t|  1.3778e-05     \t|  6              \t|  8.2666e-05     \t|  2.7217e-06     \t|\n",
      "|  [Callback]TQDMProgressBar.on_validation_epoch_end                                                                                                              \t|  5.5736e-06     \t|  13             \t|  7.2457e-05     \t|  2.3856e-06     \t|\n",
      "|  [LightningModule]LitModel.on_validation_end                                                                                                                    \t|  2.5832e-06     \t|  13             \t|  3.3582e-05     \t|  1.1057e-06     \t|\n",
      "|  [Callback]ModelSummary.on_validation_start                                                                                                                     \t|  2.5705e-06     \t|  13             \t|  3.3417e-05     \t|  1.1002e-06     \t|\n",
      "|  [Callback]ModelSummary.on_train_epoch_start                                                                                                                    \t|  4.0142e-06     \t|  6              \t|  2.4085e-05     \t|  7.9298e-07     \t|\n",
      "|  [Callback]TQDMProgressBar.on_validation_epoch_start                                                                                                            \t|  1.2852e-06     \t|  13             \t|  1.6708e-05     \t|  5.501e-07      \t|\n",
      "|  [Callback]ModelSummary.on_sanity_check_start                                                                                                                   \t|  1.5166e-05     \t|  1              \t|  1.5166e-05     \t|  4.9933e-07     \t|\n",
      "|  [Callback]ModelCheckpoint{'monitor': None, 'mode': 'min', 'every_n_train_steps': 0, 'every_n_epochs': 1, 'train_time_interval': None}.on_validation_epoch_start\t|  1.1314e-06     \t|  13             \t|  1.4708e-05     \t|  4.8425e-07     \t|\n",
      "|  [Strategy]SingleDeviceStrategy.on_validation_end                                                                                                               \t|  1.0705e-06     \t|  13             \t|  1.3917e-05     \t|  4.5821e-07     \t|\n",
      "|  [Callback]ModelSummary.on_train_end                                                                                                                            \t|  1.1792e-05     \t|  1              \t|  1.1792e-05     \t|  3.8824e-07     \t|\n",
      "|  [Callback]ModelSummary.on_save_checkpoint                                                                                                                      \t|  9.585e-07      \t|  12             \t|  1.1502e-05     \t|  3.7869e-07     \t|\n",
      "|  [LightningModule]LitModel.on_validation_epoch_end                                                                                                              \t|  8.8462e-07     \t|  13             \t|  1.15e-05       \t|  3.7863e-07     \t|\n",
      "|  [Callback]ModelSummary.on_validation_epoch_end                                                                                                                 \t|  8.4308e-07     \t|  13             \t|  1.096e-05      \t|  3.6085e-07     \t|\n",
      "|  [LightningModule]LitModel.on_validation_start                                                                                                                  \t|  8.3654e-07     \t|  13             \t|  1.0875e-05     \t|  3.5805e-07     \t|\n",
      "|  [LightningModule]LitModel.on_train_epoch_end                                                                                                                   \t|  1.7082e-06     \t|  6              \t|  1.0249e-05     \t|  3.3744e-07     \t|\n",
      "|  [LightningModule]LitModel.on_validation_epoch_start                                                                                                            \t|  7.4654e-07     \t|  13             \t|  9.705e-06      \t|  3.1953e-07     \t|\n",
      "|  [Callback]ModelCheckpoint{'monitor': None, 'mode': 'min', 'every_n_train_steps': 0, 'every_n_epochs': 1, 'train_time_interval': None}.on_validation_start      \t|  7.2115e-07     \t|  13             \t|  9.375e-06      \t|  3.0866e-07     \t|\n",
      "|  [Strategy]SingleDeviceStrategy.on_validation_start                                                                                                             \t|  7.0523e-07     \t|  13             \t|  9.168e-06      \t|  3.0185e-07     \t|\n",
      "|  [LightningModule]LitModel.configure_callbacks                                                                                                                  \t|  9.167e-06      \t|  1              \t|  9.167e-06      \t|  3.0182e-07     \t|\n",
      "|  [Callback]ModelCheckpoint{'monitor': None, 'mode': 'min', 'every_n_train_steps': 0, 'every_n_epochs': 1, 'train_time_interval': None}.on_validation_epoch_end  \t|  6.89e-07       \t|  13             \t|  8.957e-06      \t|  2.949e-07      \t|\n",
      "|  [Callback]ModelCheckpoint{'monitor': None, 'mode': 'min', 'every_n_train_steps': 0, 'every_n_epochs': 1, 'train_time_interval': None}.on_save_checkpoint       \t|  7.3633e-07     \t|  12             \t|  8.836e-06      \t|  2.9092e-07     \t|\n",
      "|  [Callback]ModelSummary.on_validation_epoch_start                                                                                                               \t|  6.0569e-07     \t|  13             \t|  7.874e-06      \t|  2.5925e-07     \t|\n",
      "|  [LightningModule]LitModel.on_train_end                                                                                                                         \t|  7.125e-06      \t|  1              \t|  7.125e-06      \t|  2.3459e-07     \t|\n",
      "|  [Callback]ModelCheckpoint{'monitor': None, 'mode': 'min', 'every_n_train_steps': 0, 'every_n_epochs': 1, 'train_time_interval': None}.on_train_epoch_start     \t|  1.0833e-06     \t|  6              \t|  6.5e-06        \t|  2.1401e-07     \t|\n",
      "|  [LightningModule]LitModel.on_save_checkpoint                                                                                                                   \t|  5.0683e-07     \t|  12             \t|  6.082e-06      \t|  2.0025e-07     \t|\n",
      "|  [LightningModule]LitModel.on_train_epoch_start                                                                                                                 \t|  9.9983e-07     \t|  6              \t|  5.999e-06      \t|  1.9751e-07     \t|\n",
      "|  [Callback]TQDMProgressBar.teardown                                                                                                                             \t|  5.584e-06      \t|  1              \t|  5.584e-06      \t|  1.8385e-07     \t|\n",
      "|  [Callback]TQDMProgressBar.setup                                                                                                                                \t|  4.209e-06      \t|  1              \t|  4.209e-06      \t|  1.3858e-07     \t|\n",
      "|  [Callback]TQDMProgressBar.on_sanity_check_end                                                                                                                  \t|  4.083e-06      \t|  1              \t|  4.083e-06      \t|  1.3443e-07     \t|\n",
      "|  [Callback]ModelCheckpoint{'monitor': None, 'mode': 'min', 'every_n_train_steps': 0, 'every_n_epochs': 1, 'train_time_interval': None}.on_fit_start             \t|  4.041e-06      \t|  1              \t|  4.041e-06      \t|  1.3305e-07     \t|\n",
      "|  [LightningModule]LitModel.on_train_start                                                                                                                       \t|  2.792e-06      \t|  1              \t|  2.792e-06      \t|  9.1924e-08     \t|\n",
      "|  [Callback]TQDMProgressBar.on_fit_end                                                                                                                           \t|  2.542e-06      \t|  1              \t|  2.542e-06      \t|  8.3693e-08     \t|\n",
      "|  [Callback]ModelSummary.on_train_start                                                                                                                          \t|  2.084e-06      \t|  1              \t|  2.084e-06      \t|  6.8614e-08     \t|\n",
      "|  [Callback]TQDMProgressBar.on_fit_start                                                                                                                         \t|  1.542e-06      \t|  1              \t|  1.542e-06      \t|  5.0769e-08     \t|\n",
      "|  [Callback]ModelCheckpoint{'monitor': None, 'mode': 'min', 'every_n_train_steps': 0, 'every_n_epochs': 1, 'train_time_interval': None}.on_train_end             \t|  1.292e-06      \t|  1              \t|  1.292e-06      \t|  4.2538e-08     \t|\n",
      "|  [Callback]ModelCheckpoint{'monitor': None, 'mode': 'min', 'every_n_train_steps': 0, 'every_n_epochs': 1, 'train_time_interval': None}.on_train_start           \t|  1.25e-06       \t|  1              \t|  1.25e-06       \t|  4.1155e-08     \t|\n",
      "|  [LightningModule]LitModel.teardown                                                                                                                             \t|  1.083e-06      \t|  1              \t|  1.083e-06      \t|  3.5657e-08     \t|\n",
      "|  [Callback]ModelSummary.setup                                                                                                                                   \t|  1.042e-06      \t|  1              \t|  1.042e-06      \t|  3.4307e-08     \t|\n",
      "|  [Callback]ModelSummary.on_sanity_check_end                                                                                                                     \t|  1.042e-06      \t|  1              \t|  1.042e-06      \t|  3.4307e-08     \t|\n",
      "|  [LightningModule]LitModel.setup                                                                                                                                \t|  1e-06          \t|  1              \t|  1e-06          \t|  3.2924e-08     \t|\n",
      "|  [Strategy]SingleDeviceStrategy.on_train_end                                                                                                                    \t|  9.59e-07       \t|  1              \t|  9.59e-07       \t|  3.1574e-08     \t|\n",
      "|  [LightningModule]LitModel.on_fit_end                                                                                                                           \t|  9.17e-07       \t|  1              \t|  9.17e-07       \t|  3.0192e-08     \t|\n",
      "|  [Callback]ModelCheckpoint{'monitor': None, 'mode': 'min', 'every_n_train_steps': 0, 'every_n_epochs': 1, 'train_time_interval': None}.teardown                 \t|  9.17e-07       \t|  1              \t|  9.17e-07       \t|  3.0192e-08     \t|\n",
      "|  [Callback]ModelCheckpoint{'monitor': None, 'mode': 'min', 'every_n_train_steps': 0, 'every_n_epochs': 1, 'train_time_interval': None}.on_fit_end               \t|  9.16e-07       \t|  1              \t|  9.16e-07       \t|  3.0159e-08     \t|\n",
      "|  [Callback]ModelSummary.teardown                                                                                                                                \t|  9.16e-07       \t|  1              \t|  9.16e-07       \t|  3.0159e-08     \t|\n",
      "|  [Callback]ModelCheckpoint{'monitor': None, 'mode': 'min', 'every_n_train_steps': 0, 'every_n_epochs': 1, 'train_time_interval': None}.on_sanity_check_start    \t|  8.75e-07       \t|  1              \t|  8.75e-07       \t|  2.8809e-08     \t|\n",
      "|  [Strategy]SingleDeviceStrategy.on_train_start                                                                                                                  \t|  8.75e-07       \t|  1              \t|  8.75e-07       \t|  2.8809e-08     \t|\n",
      "|  [Callback]ModelSummary.on_fit_end                                                                                                                              \t|  8.33e-07       \t|  1              \t|  8.33e-07       \t|  2.7426e-08     \t|\n",
      "|  [LightningModule]LitModel.on_fit_start                                                                                                                         \t|  7.09e-07       \t|  1              \t|  7.09e-07       \t|  2.3343e-08     \t|\n",
      "|  [Callback]ModelCheckpoint{'monitor': None, 'mode': 'min', 'every_n_train_steps': 0, 'every_n_epochs': 1, 'train_time_interval': None}.on_sanity_check_end      \t|  6.25e-07       \t|  1              \t|  6.25e-07       \t|  2.0578e-08     \t|\n",
      "--------------------------------------------------------------------------------------------------------------------------------------------------------------------------------------------------------------------------------------------------------------------------\n",
      "\n"
     ]
    },
    {
     "name": "stdout",
     "output_type": "stream",
     "text": [
      "\n"
     ]
    }
   ],
   "source": [
    "# logging\n",
    "wandb_logger = WandbLogger(\n",
    "    project=config.wandb_project,\n",
    "    name=datetime.datetime.now().strftime(\"%b-%d-%y @ %I:%M %p\"),\n",
    "    log_model=\"all\",\n",
    "    config=config\n",
    ")\n",
    "\n",
    "wandb_logger.watch(MODEL, log=\"all\")\n",
    "\n",
    "# Define the trainer\n",
    "trainer = L.Trainer(\n",
    "    default_root_dir=\"some/path/\",\n",
    "    max_epochs=config.num_epochs,\n",
    "    val_check_interval=0.5,\n",
    "    log_every_n_steps=config.log_interval,\n",
    "    accumulate_grad_batches=config.grad_accumulation,\n",
    "    gradient_clip_val=config.grad_clip,\n",
    "    profiler=\"simple\",\n",
    "    logger=wandb_logger,\n",
    "    # NOTE: Should be commented out if using GPU. There may be bugs related\n",
    "    # to tensor device placements, since I have not tested this on GPU.\n",
    "    accelerator=\"cpu\",\n",
    ")\n",
    "\n",
    "# train model\n",
    "trainer.fit(\n",
    "    model=the_model,\n",
    "    train_dataloaders=train_loader,\n",
    "    val_dataloaders=val_loader\n",
    ")"
   ]
  },
  {
   "cell_type": "code",
   "execution_count": 19,
   "metadata": {},
   "outputs": [
    {
     "data": {
      "image/png": "[encoded data removed]",
      "text/plain": [
       "<Figure size 640x480 with 2 Axes>"
      ]
     },
     "metadata": {},
     "output_type": "display_data"
    }
   ],
   "source": [
    "conf_matrix(MODEL, test_loader)"
   ]
  },
  {
   "cell_type": "code",
   "execution_count": null,
   "metadata": {},
   "outputs": [],
   "source": []
  }
 ],
 "metadata": {
  "kernelspec": {
   "display_name": "geometric",
   "language": "python",
   "name": "python3"
  },
  "language_info": {
   "codemirror_mode": {
    "name": "ipython",
    "version": 3
   },
   "file_extension": ".py",
   "mimetype": "text/x-python",
   "name": "python",
   "nbconvert_exporter": "python",
   "pygments_lexer": "ipython3",
   "version": "3.9.20"
  }
 },
 "nbformat": 4,
 "nbformat_minor": 2
}
