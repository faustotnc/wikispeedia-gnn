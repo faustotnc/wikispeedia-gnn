{
 "cells": [
  {
   "cell_type": "code",
   "execution_count": 11,
   "metadata": {},
   "outputs": [],
   "source": [
    "import torch\n",
    "import torch.nn.functional as F\n",
    "import pandas as pd\n",
    "import numpy as np\n",
    "import pickle\n",
    "from urllib.parse import unquote\n",
    "from torch.utils.data import Dataset, random_split\n",
    "from torch_geometric.data import Data, DataLoader\n",
    "from torch_geometric.nn import GCNConv, global_mean_pool, GraphNorm\n",
    "from tqdm import tqdm\n",
    "import random\n",
    "\n",
    "from torch_geometric.nn import TransformerConv, global_mean_pool"
   ]
  },
  {
   "cell_type": "markdown",
   "metadata": {},
   "source": [
    "# Load Data"
   ]
  },
  {
   "cell_type": "code",
   "execution_count": 12,
   "metadata": {},
   "outputs": [],
   "source": [
    "# Load text data\n",
    "data = pd.read_csv(f\"../../data/full_text_data.csv\")"
   ]
  },
  {
   "cell_type": "code",
   "execution_count": 13,
   "metadata": {},
   "outputs": [],
   "source": [
    "# Load links\n",
    "links = pd.read_csv(\"../../data/Wikispeedia/links.tsv\", sep=\"\\t\", names=[\"src\", \"tgt\"], skiprows=12)\n",
    "links[\"src\"] = links[\"src\"].map(lambda x: unquote(x))\n",
    "links[\"tgt\"] = links[\"tgt\"].map(lambda x: unquote(x))\n",
    "\n",
    "# Create adjacency matrix\n",
    "ordered_data_titles = data[\"title\"].tolist()\n",
    "src_indices = links[\"src\"].map(lambda x: ordered_data_titles.index(x))\n",
    "tgt_indices = links[\"tgt\"].map(lambda x: ordered_data_titles.index(x))\n",
    "A = torch.zeros((len(ordered_data_titles), len(ordered_data_titles)))\n",
    "A[src_indices, tgt_indices] = 1"
   ]
  },
  {
   "cell_type": "code",
   "execution_count": 14,
   "metadata": {},
   "outputs": [
    {
     "name": "stderr",
     "output_type": "stream",
     "text": [
      "/var/folders/kt/8729r9s16_15cc905qks8zl40000gn/T/ipykernel_59808/3991216429.py:6: DeprecationWarning: __array_wrap__ must accept context and return_scalar arguments (positionally) in the future. (Deprecated NumPy 2.0)\n",
      "  edge_features = A * coherence_graph\n"
     ]
    }
   ],
   "source": [
    "# Load coherence graph\n",
    "with open(\"../../data/coherence_graph.pkl\", 'rb') as handle:\n",
    "    coherence_graph = pickle.load(handle)\n",
    "\n",
    "# Combine coherence graph with base links\n",
    "edge_features = A * coherence_graph"
   ]
  },
  {
   "cell_type": "code",
   "execution_count": 15,
   "metadata": {},
   "outputs": [
    {
     "name": "stderr",
     "output_type": "stream",
     "text": [
      "/var/folders/kt/8729r9s16_15cc905qks8zl40000gn/T/ipykernel_59808/3588909332.py:6: UserWarning: To copy construct from a tensor, it is recommended to use sourceTensor.clone().detach() or sourceTensor.clone().detach().requires_grad_(True), rather than torch.tensor(sourceTensor).\n",
      "  node_static_embeddings = torch.tensor(node_static_embeddings, dtype=torch.float)\n"
     ]
    }
   ],
   "source": [
    "# Load node embeddings\n",
    "with open(\"../../data/gpt4_embeddings.pkl\", 'rb') as handle:\n",
    "    obj = pickle.load(handle)\n",
    "    node_static_embeddings = obj[\"embeddings\"]\n",
    "    del obj\n",
    "node_static_embeddings = torch.tensor(node_static_embeddings, dtype=torch.float)"
   ]
  },
  {
   "cell_type": "code",
   "execution_count": 16,
   "metadata": {},
   "outputs": [
    {
     "data": {
      "text/plain": [
       "{0.0, 1.0, 2.0, 3.0, 4.0}"
      ]
     },
     "execution_count": 16,
     "metadata": {},
     "output_type": "execute_result"
    }
   ],
   "source": [
    "# Load user-extracted paths\n",
    "paths_data = pd.read_csv(f\"../../data/paths_no_back_links.tsv\", sep=\"\\t\")\n",
    "paths_data = paths_data[~(paths_data[\"rating\"].isna())]\n",
    "\n",
    "# Filter paths with at least four distinct pages\n",
    "paths_data = paths_data[paths_data[\"path\"].apply(lambda x: len(set(x.split(\";\"))) >= 4)]\n",
    "\n",
    "# Map titles to indices\n",
    "title_to_index = {unquote(title): idx for idx, title in enumerate(data['title'])}\n",
    "paths = paths_data['path'].apply(lambda path: [title_to_index[unquote(title)] for title in path.split(';')]).tolist()\n",
    "ratings = (paths_data['rating'] - 1).tolist()  # 0-indexed ratings\n",
    "\n",
    "# Binary ratings\n",
    "# ratings = [1 if r > 1 else 0 for r in ratings]\n",
    "\n",
    "set(ratings)"
   ]
  },
  {
   "cell_type": "code",
   "execution_count": 17,
   "metadata": {},
   "outputs": [
    {
     "name": "stderr",
     "output_type": "stream",
     "text": [
      "/Users/jiahaoxu/Github/wikispeedia-gnn/.venv/lib/python3.9/site-packages/torch_geometric/deprecation.py:26: UserWarning: 'data.DataLoader' is deprecated, use 'loader.DataLoader' instead\n",
      "  warnings.warn(out)\n"
     ]
    }
   ],
   "source": [
    "class PathDataset(Dataset):\n",
    "    def __init__(self, paths, ratings, node_embeddings, edge_features):\n",
    "        self.paths = paths\n",
    "        self.ratings = ratings\n",
    "        self.node_embeddings = node_embeddings\n",
    "        self.edge_features = edge_features\n",
    "\n",
    "    def __len__(self):\n",
    "        return len(self.paths)\n",
    "\n",
    "    def __getitem__(self, idx):\n",
    "        path = self.paths[idx]\n",
    "        rating = self.ratings[idx]\n",
    "        nodes, edge_index, edge_weight = self.get_subgraph_edges(path)\n",
    "\n",
    "        x = self.node_embeddings[nodes]\n",
    "\n",
    "        data = Data(\n",
    "            x=x,\n",
    "            edge_index=edge_index,\n",
    "            edge_weight=edge_weight,\n",
    "            y=torch.tensor([rating], dtype=torch.long)\n",
    "        )\n",
    "        return data\n",
    "\n",
    "    def get_subgraph_edges(self, path):\n",
    "        nodes = list(set(path))\n",
    "        node_to_idx = {node: idx for idx, node in enumerate(nodes)}\n",
    "        edges = []\n",
    "        edge_weights = []\n",
    "        for i in nodes:\n",
    "            for j in nodes:\n",
    "                weight = self.edge_features[i, j]\n",
    "                if weight > 0:\n",
    "                    edges.append([node_to_idx[i], node_to_idx[j]])\n",
    "                    edge_weights.append(weight)\n",
    "        if edges:\n",
    "            edge_index = torch.tensor(edges, dtype=torch.long).t().contiguous()\n",
    "            edge_weight = torch.tensor(edge_weights, dtype=torch.float)\n",
    "        else:\n",
    "            edge_index = torch.empty((2, 0), dtype=torch.long)\n",
    "            edge_weight = torch.tensor([], dtype=torch.float)\n",
    "        return nodes, edge_index, edge_weight\n",
    "\n",
    "# Create dataset\n",
    "dataset = PathDataset(paths, ratings, node_static_embeddings, edge_features)\n",
    "\n",
    "# Split dataset\n",
    "train_ratio = 0.85\n",
    "val_ratio = 0.05\n",
    "test_ratio = 0.1\n",
    "total_size = len(dataset)\n",
    "train_size = int(train_ratio * total_size)\n",
    "val_size = int(val_ratio * total_size)\n",
    "test_size = total_size - train_size - val_size\n",
    "\n",
    "train_dataset, val_dataset, test_dataset = random_split(\n",
    "    dataset, [train_size, val_size, test_size], generator=torch.Generator().manual_seed(42)\n",
    ")\n",
    "\n",
    "# Create data loaders\n",
    "batch_size = 6\n",
    "train_loader = DataLoader(train_dataset, batch_size=batch_size, shuffle=True)\n",
    "val_loader = DataLoader(val_dataset, batch_size=batch_size)\n",
    "test_loader = DataLoader(test_dataset, batch_size=batch_size)"
   ]
  },
  {
   "cell_type": "code",
   "execution_count": 18,
   "metadata": {},
   "outputs": [
    {
     "data": {
      "text/plain": [
       "tensor([0.4479, 0.3379, 0.4016, 1.0386, 2.7740])"
      ]
     },
     "execution_count": 18,
     "metadata": {},
     "output_type": "execute_result"
    }
   ],
   "source": [
    "# Counts occurrences of each class\n",
    "class_counts = torch.bincount(\n",
    "    torch.tensor(ratings)[train_dataset.indices].to(torch.int64)\n",
    ")\n",
    "\n",
    "# Calculate weights as the inverse of class frequencies\n",
    "class_weights = 1.0 / class_counts.float()\n",
    "\n",
    "# Normalize the weights so that they sum to the number of classes\n",
    "class_weights = class_weights / class_weights.sum() * len(class_counts)\n",
    "\n",
    "class_weights"
   ]
  },
  {
   "cell_type": "markdown",
   "metadata": {},
   "source": [
    "#  Model"
   ]
  },
  {
   "cell_type": "code",
   "execution_count": 19,
   "metadata": {},
   "outputs": [],
   "source": [
    "import torch\n",
    "import torch.nn as nn\n",
    "import torch.nn.functional as F\n",
    "from torch_geometric.nn import TransformerConv, global_mean_pool, GraphNorm\n",
    "\n",
    "class GraphTransformerModelWithGRU(nn.Module):\n",
    "    def __init__(self, in_channels, hidden_channels, num_classes, heads=4, dropout=0.2, gru_hidden_size=64, gru_num_layers=1):\n",
    "        super(GraphTransformerModelWithGRU, self).__init__()\n",
    "        \n",
    "        # Transformer Convolutional Layers\n",
    "        self.conv1 = TransformerConv(\n",
    "            in_channels, hidden_channels // heads, heads=heads, edge_dim=1, dropout=dropout\n",
    "        )\n",
    "        self.norm1 = GraphNorm(hidden_channels)\n",
    "        \n",
    "        self.conv2 = TransformerConv(\n",
    "            hidden_channels, hidden_channels // heads, heads=heads, edge_dim=1, dropout=dropout\n",
    "        )\n",
    "        self.norm2 = GraphNorm(hidden_channels)\n",
    "        \n",
    "        # GRU Layer\n",
    "        self.gru = nn.GRU(\n",
    "            input_size=hidden_channels,\n",
    "            hidden_size=gru_hidden_size,\n",
    "            num_layers=gru_num_layers,\n",
    "            batch_first=True\n",
    "        )\n",
    "        \n",
    "        # Two MLP Layers\n",
    "        self.mlp1 = nn.Linear(gru_hidden_size, hidden_channels)\n",
    "        self.mlp2 = nn.Linear(hidden_channels, hidden_channels)\n",
    "        \n",
    "        # Classifier\n",
    "        self.classifier = nn.Linear(hidden_channels, num_classes)\n",
    "        \n",
    "        self.dropout = dropout\n",
    "\n",
    "    def forward(self, data):\n",
    "        x, edge_index, edge_weight, batch = data.x, data.edge_index, data.edge_weight, data.batch\n",
    "\n",
    "        # Reshape edge_weight to [num_edges, 1] if it exists\n",
    "        edge_attr = edge_weight.view(-1, 1) if edge_weight is not None else None\n",
    "\n",
    "        # First Transformer Conv Layer\n",
    "        x = self.conv1(x, edge_index, edge_attr)\n",
    "        x = self.norm1(x)\n",
    "        x = F.relu(x)\n",
    "        x = F.dropout(x, p=self.dropout, training=self.training)\n",
    "\n",
    "        # Second Transformer Conv Layer\n",
    "        x = self.conv2(x, edge_index, edge_attr)\n",
    "        x = self.norm2(x)\n",
    "        x = F.relu(x)\n",
    "\n",
    "        # Process graphs individually through GRU\n",
    "        graphs_embeddings = []\n",
    "        unique_graphs = batch.unique()\n",
    "        for graph_id in unique_graphs:\n",
    "            graph_mask = (batch == graph_id)\n",
    "            graph_node_embeddings = x[graph_mask].unsqueeze(0)\n",
    "            _, hidden_state = self.gru(graph_node_embeddings)\n",
    "            graph_embedding = hidden_state[-1, 0]\n",
    "            graphs_embeddings.append(graph_embedding)\n",
    "        \n",
    "        # Stack all graph embeddings\n",
    "        x = torch.stack(graphs_embeddings)\n",
    "        \n",
    "        # First MLP Layer\n",
    "        x = self.mlp1(x)\n",
    "        x = F.relu(x)\n",
    "        x = F.dropout(x, p=self.dropout, training=self.training)\n",
    "        \n",
    "        # Second MLP Layer\n",
    "        x = self.mlp2(x)\n",
    "        x = F.relu(x)\n",
    "        x = F.dropout(x, p=self.dropout, training=self.training)\n",
    "        \n",
    "        # Final Classifier\n",
    "        x = self.classifier(x)\n",
    "        \n",
    "        return x"
   ]
  },
  {
   "cell_type": "markdown",
   "metadata": {},
   "source": [
    "# Training"
   ]
  },
  {
   "cell_type": "code",
   "execution_count": 20,
   "metadata": {},
   "outputs": [
    {
     "name": "stderr",
     "output_type": "stream",
     "text": [
      "  0%|          | 0/3669 [00:00<?, ?it/s]/var/folders/kt/8729r9s16_15cc905qks8zl40000gn/T/ipykernel_59808/57342433.py:22: DeprecationWarning: an integer is required (got type float).  Implicit conversion to integers using __int__ is deprecated, and may be removed in a future version of Python.\n",
      "  y=torch.tensor([rating], dtype=torch.long)\n",
      "100%|██████████| 3669/3669 [06:32<00:00,  9.34it/s]\n"
     ]
    },
    {
     "name": "stdout",
     "output_type": "stream",
     "text": [
      "Epoch: 001, Loss: 1.5841, Val Acc: 0.3570\n"
     ]
    },
    {
     "name": "stderr",
     "output_type": "stream",
     "text": [
      "100%|██████████| 3669/3669 [07:01<00:00,  8.70it/s]\n"
     ]
    },
    {
     "name": "stdout",
     "output_type": "stream",
     "text": [
      "Epoch: 002, Loss: 1.4093, Val Acc: 0.3640\n"
     ]
    },
    {
     "name": "stderr",
     "output_type": "stream",
     "text": [
      "100%|██████████| 3669/3669 [07:05<00:00,  8.62it/s]\n"
     ]
    },
    {
     "name": "stdout",
     "output_type": "stream",
     "text": [
      "Epoch: 003, Loss: 1.3934, Val Acc: 0.3702\n"
     ]
    },
    {
     "name": "stderr",
     "output_type": "stream",
     "text": [
      "100%|██████████| 3669/3669 [07:09<00:00,  8.55it/s]\n"
     ]
    },
    {
     "name": "stdout",
     "output_type": "stream",
     "text": [
      "Epoch: 004, Loss: 1.4253, Val Acc: 0.3601\n"
     ]
    },
    {
     "name": "stderr",
     "output_type": "stream",
     "text": [
      "100%|██████████| 3669/3669 [07:16<00:00,  8.41it/s]\n"
     ]
    },
    {
     "name": "stdout",
     "output_type": "stream",
     "text": [
      "Epoch: 005, Loss: 1.4523, Val Acc: 0.3470\n"
     ]
    },
    {
     "name": "stderr",
     "output_type": "stream",
     "text": [
      "100%|██████████| 3669/3669 [07:38<00:00,  8.01it/s]\n"
     ]
    },
    {
     "name": "stdout",
     "output_type": "stream",
     "text": [
      "Epoch: 006, Loss: 1.4221, Val Acc: 0.3292\n"
     ]
    },
    {
     "name": "stderr",
     "output_type": "stream",
     "text": [
      "100%|██████████| 3669/3669 [07:30<00:00,  8.15it/s]\n"
     ]
    },
    {
     "name": "stdout",
     "output_type": "stream",
     "text": [
      "Epoch: 007, Loss: 1.4597, Val Acc: 0.4073\n"
     ]
    },
    {
     "name": "stderr",
     "output_type": "stream",
     "text": [
      "100%|██████████| 3669/3669 [07:37<00:00,  8.03it/s]\n"
     ]
    },
    {
     "name": "stdout",
     "output_type": "stream",
     "text": [
      "Epoch: 008, Loss: 1.4099, Val Acc: 0.4034\n"
     ]
    },
    {
     "name": "stderr",
     "output_type": "stream",
     "text": [
      "100%|██████████| 3669/3669 [07:39<00:00,  7.99it/s]\n"
     ]
    },
    {
     "name": "stdout",
     "output_type": "stream",
     "text": [
      "Epoch: 009, Loss: 1.4165, Val Acc: 0.2898\n"
     ]
    },
    {
     "name": "stderr",
     "output_type": "stream",
     "text": [
      "100%|██████████| 3669/3669 [07:26<00:00,  8.23it/s]\n"
     ]
    },
    {
     "name": "stdout",
     "output_type": "stream",
     "text": [
      "Epoch: 010, Loss: 1.5134, Val Acc: 0.3903\n"
     ]
    }
   ],
   "source": [
    "device = torch.device('cuda' if torch.cuda.is_available() else 'cpu')\n",
    "class_weights = class_weights.to(device)\n",
    "\n",
    "# Instantiate the updated model with GRU\n",
    "model = GraphTransformerModelWithGRU(\n",
    "    in_channels=node_static_embeddings.shape[1],\n",
    "    hidden_channels=512,\n",
    "    num_classes=5,  # Adjust based on your task\n",
    "    # heads=4,\n",
    "    dropout=0.2,\n",
    "    gru_hidden_size=512,  # Should align with model's hidden_channels if desired\n",
    "    gru_num_layers=3     # Number of GRU layers\n",
    ").to(device)\n",
    "\n",
    "optimizer = torch.optim.Adam(model.parameters(), lr=1e-3, weight_decay=5e-4)\n",
    "criterion = torch.nn.CrossEntropyLoss(weight=class_weights)\n",
    "\n",
    "def train():\n",
    "    model.train()\n",
    "    total_loss = 0\n",
    "    for data in tqdm(train_loader):\n",
    "        data = data.to(device)\n",
    "        optimizer.zero_grad()\n",
    "        out = model(data)\n",
    "        loss = criterion(out, data.y)\n",
    "        loss.backward()\n",
    "        optimizer.step()\n",
    "        total_loss += loss.item() * data.num_graphs\n",
    "    return total_loss / len(train_loader.dataset)\n",
    "\n",
    "def evaluate(loader):\n",
    "    model.eval()\n",
    "    correct = 0\n",
    "    total = 0\n",
    "    with torch.no_grad():\n",
    "        for data in loader:\n",
    "            data = data.to(device)\n",
    "            out = model(data)\n",
    "            pred = out.argmax(dim=1)\n",
    "            correct += (pred == data.y).sum().item()\n",
    "            total += data.num_graphs\n",
    "    return correct / total\n",
    "\n",
    "best_val_acc = 0\n",
    "for epoch in range(1, 11):\n",
    "    loss = train()\n",
    "    val_acc = evaluate(val_loader)\n",
    "    if val_acc > best_val_acc:\n",
    "        best_val_acc = val_acc\n",
    "        # Save the best model\n",
    "        torch.save(model.state_dict(), '.best_model.pth')\n",
    "    print(f'Epoch: {epoch:03d}, Loss: {loss:.4f}, Val Acc: {val_acc:.4f}')"
   ]
  },
  {
   "cell_type": "code",
   "execution_count": 21,
   "metadata": {},
   "outputs": [
    {
     "name": "stderr",
     "output_type": "stream",
     "text": [
      "/var/folders/kt/8729r9s16_15cc905qks8zl40000gn/T/ipykernel_59808/3427124251.py:2: FutureWarning: You are using `torch.load` with `weights_only=False` (the current default value), which uses the default pickle module implicitly. It is possible to construct malicious pickle data which will execute arbitrary code during unpickling (See https://github.com/pytorch/pytorch/blob/main/SECURITY.md#untrusted-models for more details). In a future release, the default value for `weights_only` will be flipped to `True`. This limits the functions that could be executed during unpickling. Arbitrary objects will no longer be allowed to be loaded via this mode unless they are explicitly allowlisted by the user via `torch.serialization.add_safe_globals`. We recommend you start setting `weights_only=True` for any use case where you don't have full control of the loaded file. Please open an issue on GitHub for any issues related to this experimental feature.\n",
      "  model.load_state_dict(torch.load('.best_model.pth'))\n",
      "/var/folders/kt/8729r9s16_15cc905qks8zl40000gn/T/ipykernel_59808/57342433.py:22: DeprecationWarning: an integer is required (got type float).  Implicit conversion to integers using __int__ is deprecated, and may be removed in a future version of Python.\n",
      "  y=torch.tensor([rating], dtype=torch.long)\n"
     ]
    },
    {
     "name": "stdout",
     "output_type": "stream",
     "text": [
      "Test Accuracy: 0.3988\n"
     ]
    }
   ],
   "source": [
    "# Load the best model\n",
    "model.load_state_dict(torch.load('.best_model.pth'))\n",
    "\n",
    "test_acc = evaluate(test_loader)\n",
    "print(f'Test Accuracy: {test_acc:.4f}')"
   ]
  },
  {
   "cell_type": "code",
   "execution_count": 22,
   "metadata": {},
   "outputs": [
    {
     "name": "stderr",
     "output_type": "stream",
     "text": [
      "/var/folders/kt/8729r9s16_15cc905qks8zl40000gn/T/ipykernel_59808/57342433.py:22: DeprecationWarning: an integer is required (got type float).  Implicit conversion to integers using __int__ is deprecated, and may be removed in a future version of Python.\n",
      "  y=torch.tensor([rating], dtype=torch.long)\n"
     ]
    },
    {
     "data": {
      "image/png": "[encoded data removed]",
      "text/plain": [
       "<Figure size 640x480 with 2 Axes>"
      ]
     },
     "metadata": {},
     "output_type": "display_data"
    }
   ],
   "source": [
    "from sklearn.metrics import confusion_matrix, ConfusionMatrixDisplay\n",
    "import matplotlib.pyplot as plt\n",
    "\n",
    "def conf_matrix(model, dataset_loader):\n",
    "    # Pass the testing loader through the model\n",
    "    all_preds = []\n",
    "    all_labels = []\n",
    "\n",
    "    model.eval()\n",
    "    with torch.no_grad():\n",
    "        for batch in dataset_loader:\n",
    "            batch = batch.to(device)  # Move batch to the same device as the model\n",
    "            logits = model(batch)  # Pass the entire batch to the model\n",
    "            preds = logits.argmax(dim=1).cpu().numpy()\n",
    "            labels = batch.y.cpu().numpy()\n",
    "            \n",
    "            all_preds.extend(preds)\n",
    "            all_labels.extend(labels)\n",
    "\n",
    "    # Compute confusion matrix\n",
    "    cm = confusion_matrix(all_labels, all_preds)\n",
    "    disp = ConfusionMatrixDisplay(confusion_matrix=cm)\n",
    "\n",
    "    # Plot confusion matrix\n",
    "    disp.plot(cmap=plt.cm.Blues)\n",
    "    plt.show()\n",
    "\n",
    "# Assuming your trained model is named 'model' and your DataLoader is 'test_loader'\n",
    "conf_matrix(model, test_loader)"
   ]
  },
  {
   "cell_type": "code",
   "execution_count": 23,
   "metadata": {},
   "outputs": [
    {
     "name": "stdout",
     "output_type": "stream",
     "text": [
      "learning_rate   = 5e-3\n",
      "weight_decay    = 5e-4\n",
      "num_epochs      = 10\n",
      "------\n",
      "<bound method Module.parameters of GraphTransformerModelWithGRU(\n",
      "  (conv1): TransformerConv(1536, 128, heads=4)\n",
      "  (norm1): GraphNorm(512)\n",
      "  (conv2): TransformerConv(512, 128, heads=4)\n",
      "  (norm2): GraphNorm(512)\n",
      "  (gru): GRU(512, 512, num_layers=3, batch_first=True)\n",
      "  (mlp1): Linear(in_features=512, out_features=512, bias=True)\n",
      "  (mlp2): Linear(in_features=512, out_features=512, bias=True)\n",
      "  (classifier): Linear(in_features=512, out_features=5, bias=True)\n",
      ")>\n"
     ]
    }
   ],
   "source": [
    "# Function to print the hyperparameters\n",
    "def print_hyperparameters():\n",
    "    print(\"learning_rate   =\", \"5e-3\")\n",
    "    print(\"weight_decay    =\", \"5e-4\")\n",
    "    print(\"num_epochs      =\", 10)\n",
    "    print(\"------\")\n",
    "    # print(\"dropout            =\", dropout)\n",
    "\n",
    "# Call the function to print the hyperparameters\n",
    "print_hyperparameters()\n",
    "print(model.parameters)"
   ]
  }
 ],
 "metadata": {
  "kernelspec": {
   "display_name": ".venv",
   "language": "python",
   "name": "python3"
  },
  "language_info": {
   "codemirror_mode": {
    "name": "ipython",
    "version": 3
   },
   "file_extension": ".py",
   "mimetype": "text/x-python",
   "name": "python",
   "nbconvert_exporter": "python",
   "pygments_lexer": "ipython3",
   "version": "3.9.6"
  }
 },
 "nbformat": 4,
 "nbformat_minor": 4
}
