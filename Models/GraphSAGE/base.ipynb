{
 "cells": [
  {
   "cell_type": "code",
   "execution_count": 1,
   "metadata": {},
   "outputs": [
    {
     "name": "stderr",
     "output_type": "stream",
     "text": [
      "/Users/faustogerman/miniforge3/envs/geometric/lib/python3.9/site-packages/tqdm/auto.py:21: TqdmWarning: IProgress not found. Please update jupyter and ipywidgets. See https://ipywidgets.readthedocs.io/en/stable/user_install.html\n",
      "  from .autonotebook import tqdm as notebook_tqdm\n"
     ]
    }
   ],
   "source": [
    "import torch\n",
    "import torch_scatter\n",
    "import pickle\n",
    "import random\n",
    "import datetime\n",
    "\n",
    "import numpy as np\n",
    "import pandas as pd\n",
    "import torch.nn as nn\n",
    "import torch.nn.functional as F\n",
    "import lightning as L\n",
    "\n",
    "from urllib.parse import unquote\n",
    "from torch.optim.lr_scheduler import ReduceLROnPlateau\n",
    "from lightning.pytorch.loggers import WandbLogger\n",
    "from torch.utils.data import Dataset, random_split\n",
    "from dataclasses import dataclass\n",
    "from torch_geometric.data import Data\n",
    "from torch_geometric.loader import DataLoader\n",
    "from torch_geometric.nn import global_mean_pool, GraphNorm, LayerNorm\n",
    "from torch_geometric.nn.models import GraphSAGE"
   ]
  },
  {
   "cell_type": "markdown",
   "metadata": {},
   "source": [
    "### Load the text data"
   ]
  },
  {
   "cell_type": "code",
   "execution_count": 2,
   "metadata": {},
   "outputs": [],
   "source": [
    "# Load text data\n",
    "data = pd.read_csv(f\"../../data/full_text_data.csv\")"
   ]
  },
  {
   "cell_type": "markdown",
   "metadata": {},
   "source": [
    "### Load the links"
   ]
  },
  {
   "cell_type": "code",
   "execution_count": 3,
   "metadata": {},
   "outputs": [],
   "source": [
    "# Load links\n",
    "links = pd.read_csv(\"../../data/Wikispeedia/links.tsv\", sep=\"\\t\", names=[\"src\", \"tgt\"], skiprows=12)\n",
    "links[\"src\"] = links[\"src\"].map(lambda x: unquote(x))\n",
    "links[\"tgt\"] = links[\"tgt\"].map(lambda x: unquote(x))\n",
    "\n",
    "# Create adjacency matrix\n",
    "ordered_data_titles = data[\"title\"].tolist()\n",
    "src_indices = links[\"src\"].map(lambda x: ordered_data_titles.index(x))\n",
    "tgt_indices = links[\"tgt\"].map(lambda x: ordered_data_titles.index(x))\n",
    "A = torch.zeros((len(ordered_data_titles), len(ordered_data_titles)))\n",
    "A[src_indices, tgt_indices] = 1"
   ]
  },
  {
   "cell_type": "code",
   "execution_count": 4,
   "metadata": {},
   "outputs": [],
   "source": [
    "# Load coherence graph\n",
    "with open(\"../../data/coherence_graph.pkl\", 'rb') as handle:\n",
    "    coherence_graph = pickle.load(handle)\n",
    "\n",
    "# Combine coherence graph with base links\n",
    "edge_features = A * coherence_graph"
   ]
  },
  {
   "cell_type": "code",
   "execution_count": 5,
   "metadata": {},
   "outputs": [
    {
     "name": "stderr",
     "output_type": "stream",
     "text": [
      "/var/folders/ww/02m6b2_s1bl0sbzz4jq19n500000gn/T/ipykernel_18252/2880839170.py:6: UserWarning: To copy construct from a tensor, it is recommended to use sourceTensor.clone().detach() or sourceTensor.clone().detach().requires_grad_(True), rather than torch.tensor(sourceTensor).\n",
      "  node_static_embeddings = torch.tensor(node_static_embeddings, dtype=torch.float)\n"
     ]
    },
    {
     "data": {
      "text/plain": [
       "tensor([[ 0.0038,  0.0096,  0.0519,  ..., -0.0275,  0.0512, -0.0136],\n",
       "        [-0.0361,  0.0142,  0.0874,  ..., -0.0140, -0.0216,  0.0194],\n",
       "        [ 0.0341,  0.0069,  0.0078,  ...,  0.0070,  0.0373, -0.0153],\n",
       "        ...,\n",
       "        [-0.0165,  0.0102,  0.0054,  ...,  0.0072,  0.0459, -0.0378],\n",
       "        [-0.0212,  0.0331,  0.0266,  ..., -0.0187,  0.0237, -0.0141],\n",
       "        [ 0.0375,  0.0523,  0.0282,  ...,  0.0183, -0.0107, -0.0030]])"
      ]
     },
     "execution_count": 5,
     "metadata": {},
     "output_type": "execute_result"
    }
   ],
   "source": [
    "# Load node embeddings\n",
    "with open(\"../../data/gpt4_embeddings.pkl\", 'rb') as handle:\n",
    "    obj = pickle.load(handle)\n",
    "    node_static_embeddings = obj[\"embeddings\"]\n",
    "    del obj\n",
    "node_static_embeddings = torch.tensor(node_static_embeddings, dtype=torch.float)\n",
    "node_static_embeddings"
   ]
  },
  {
   "cell_type": "markdown",
   "metadata": {},
   "source": [
    "### Load the User-Extracted Paths"
   ]
  },
  {
   "cell_type": "code",
   "execution_count": 6,
   "metadata": {},
   "outputs": [],
   "source": [
    "# Load user-extracted paths\n",
    "paths_data = pd.read_csv(f\"../../data/paths_no_back_links.tsv\", sep=\"\\t\")\n",
    "paths_data = paths_data[~(paths_data[\"rating\"].isna())]\n",
    "\n",
    "# Filter paths with at least four distinct pages\n",
    "# paths_data = paths_data[paths_data[\"path\"].apply(lambda x: len(set(x.split(\";\"))) >= 4)]\n",
    "\n",
    "# Map titles to indices\n",
    "title_to_index = {unquote(title): idx for idx, title in enumerate(data['title'])}\n",
    "paths = paths_data['path'].apply(lambda path: [title_to_index[unquote(title)] for title in path.split(';')]).tolist()\n",
    "ratings = (paths_data['rating'] - 1).tolist()  # 0-indexed ratings"
   ]
  },
  {
   "cell_type": "code",
   "execution_count": 7,
   "metadata": {},
   "outputs": [
    {
     "data": {
      "text/plain": [
       "<Axes: >"
      ]
     },
     "execution_count": 7,
     "metadata": {},
     "output_type": "execute_result"
    },
    {
     "data": {
      "image/png": "[encoded data removed]",
      "text/plain": [
       "<Figure size 640x480 with 1 Axes>"
      ]
     },
     "metadata": {},
     "output_type": "display_data"
    }
   ],
   "source": [
    "paths_data[\"rating\"].hist()"
   ]
  },
  {
   "cell_type": "code",
   "execution_count": 8,
   "metadata": {},
   "outputs": [],
   "source": [
    "class PathDataset(Dataset):\n",
    "    def __init__(self, paths, ratings, node_embeddings, edge_features):\n",
    "        self.paths = paths\n",
    "        self.ratings = ratings\n",
    "        self.node_embeddings = node_embeddings\n",
    "        self.edge_features = edge_features\n",
    "\n",
    "    def __len__(self):\n",
    "        return len(self.paths)\n",
    "\n",
    "    def __getitem__(self, idx):\n",
    "        path = self.paths[idx]\n",
    "        rating = self.ratings[idx]\n",
    "        nodes, edge_index, edge_weight = self.get_subgraph_edges(path)\n",
    "\n",
    "        x = self.node_embeddings[nodes]\n",
    "\n",
    "        data = Data(\n",
    "            x=x,\n",
    "            edge_index=edge_index,\n",
    "            edge_weight=edge_weight,\n",
    "            y=torch.tensor([rating]).to(torch.long)\n",
    "        )\n",
    "        return data\n",
    "\n",
    "    def get_subgraph_edges(self, path):\n",
    "        nodes = list(set(path))\n",
    "        node_to_idx = {node: idx for idx, node in enumerate(nodes)}\n",
    "        edges = []\n",
    "        edge_weights = []\n",
    "        for i in nodes:\n",
    "            for j in nodes:\n",
    "                weight = self.edge_features[i, j]\n",
    "                if weight > 0:\n",
    "                    edges.append([node_to_idx[i], node_to_idx[j]])\n",
    "                    edge_weights.append(weight)\n",
    "        if edges:\n",
    "            edge_index = torch.tensor(edges, dtype=torch.long).t().contiguous()\n",
    "            edge_weight = torch.tensor(edge_weights, dtype=torch.float)\n",
    "        else:\n",
    "            edge_index = torch.empty((2, 0), dtype=torch.long)\n",
    "            edge_weight = torch.tensor([], dtype=torch.float)\n",
    "        return nodes, edge_index, edge_weight\n",
    "\n",
    "# Create dataset\n",
    "dataset = PathDataset(paths, ratings, node_static_embeddings, edge_features)\n",
    "\n",
    "# Split dataset\n",
    "train_ratio = 0.85\n",
    "val_ratio = 0.05\n",
    "test_ratio = 0.1\n",
    "total_size = len(dataset)\n",
    "train_size = int(train_ratio * total_size)\n",
    "val_size = int(val_ratio * total_size)\n",
    "test_size = total_size - train_size - val_size\n",
    "\n",
    "train_dataset, val_dataset, test_dataset = random_split(\n",
    "    dataset, [train_size, val_size, test_size], generator=torch.Generator().manual_seed(42)\n",
    ")\n",
    "\n",
    "# Create data loaders\n",
    "batch_size = 6\n",
    "train_loader = DataLoader(train_dataset, batch_size=batch_size, shuffle=True)\n",
    "val_loader = DataLoader(val_dataset, batch_size=batch_size)\n",
    "test_loader = DataLoader(test_dataset, batch_size=batch_size)"
   ]
  },
  {
   "cell_type": "markdown",
   "metadata": {},
   "source": [
    "#### Map the Path Titles to Node Indices"
   ]
  },
  {
   "cell_type": "code",
   "execution_count": 9,
   "metadata": {},
   "outputs": [
    {
     "data": {
      "text/plain": [
       "tensor([0.3694, 0.3559, 0.4319, 1.1350, 2.7078])"
      ]
     },
     "execution_count": 9,
     "metadata": {},
     "output_type": "execute_result"
    }
   ],
   "source": [
    "# Counts occurrences of each class\n",
    "class_counts = torch.bincount(\n",
    "    torch.tensor(ratings)[train_dataset.indices].to(torch.int64)\n",
    ")\n",
    "\n",
    "# Calculate weights as the inverse of class frequencies\n",
    "class_weights = 1.0 / class_counts.float()\n",
    "\n",
    "# Normalize the weights so that they sum to the number of classes\n",
    "class_weights = class_weights / class_weights.sum() * len(class_counts)\n",
    "\n",
    "class_weights"
   ]
  },
  {
   "cell_type": "markdown",
   "metadata": {},
   "source": [
    "#### Class Weights for Imbalanced Training"
   ]
  },
  {
   "cell_type": "code",
   "execution_count": 10,
   "metadata": {},
   "outputs": [],
   "source": [
    "from sklearn.metrics import confusion_matrix, ConfusionMatrixDisplay\n",
    "import matplotlib.pyplot as plt\n",
    "\n",
    "def conf_matrix(model, dataset_loader):\n",
    "    # Pass the testing loader through the model\n",
    "    all_preds = []\n",
    "    all_labels = []\n",
    "\n",
    "    model.eval()\n",
    "    with torch.no_grad():\n",
    "        for batch in dataset_loader:\n",
    "            logits = model(batch.x, batch.edge_index, batch.batch)\n",
    "            preds = logits.argmax(dim=1).cpu().numpy()\n",
    "            labels = batch.y.cpu().numpy()\n",
    "            \n",
    "            all_preds.extend(preds)\n",
    "            all_labels.extend(labels)\n",
    "\n",
    "    # Compute confusion matrix\n",
    "    cm = confusion_matrix(all_labels, all_preds)\n",
    "    disp = ConfusionMatrixDisplay(confusion_matrix=cm)\n",
    "\n",
    "    # Plot confusion matrix\n",
    "    disp.plot(cmap=plt.cm.Blues)\n",
    "    plt.show()"
   ]
  },
  {
   "cell_type": "markdown",
   "metadata": {},
   "source": [
    "## The Model"
   ]
  },
  {
   "cell_type": "code",
   "execution_count": 11,
   "metadata": {},
   "outputs": [],
   "source": [
    "class Model(nn.Module):\n",
    "    def __init__(self, node_in_feats, hidden_feats, num_classes, dropout=0.0, bias=True):\n",
    "        super(Model, self).__init__()\n",
    "        self.sage = GraphSAGE(\n",
    "            in_channels=node_in_feats,\n",
    "            hidden_channels=hidden_feats,\n",
    "            num_layers=1,\n",
    "            dropout=dropout,\n",
    "            bias=bias\n",
    "        )\n",
    "\n",
    "        self.classifier_head = nn.Sequential(\n",
    "            nn.Linear(hidden_feats, hidden_feats),\n",
    "            nn.ReLU(),\n",
    "            nn.Linear(hidden_feats, num_classes)\n",
    "        )\n",
    "\n",
    "    def forward(self, node_features, edge_index, batch_mask):\n",
    "        sage_out = self.sage(node_features, edge_index)\n",
    "        pooled_features = global_mean_pool(sage_out, batch_mask)\n",
    "        return self.classifier_head(pooled_features)"
   ]
  },
  {
   "cell_type": "code",
   "execution_count": 12,
   "metadata": {},
   "outputs": [],
   "source": [
    "MODEL = Model(\n",
    "    node_static_embeddings.shape[1],\n",
    "    hidden_feats=512,  # Hidden layer size for GraphSAGE\n",
    "    num_classes=5,  # Number of classes\n",
    ")"
   ]
  },
  {
   "cell_type": "code",
   "execution_count": 13,
   "metadata": {},
   "outputs": [
    {
     "data": {
      "image/png": "[encoded data removed]",
      "text/plain": [
       "<Figure size 640x480 with 2 Axes>"
      ]
     },
     "metadata": {},
     "output_type": "display_data"
    }
   ],
   "source": [
    "conf_matrix(MODEL, test_loader)"
   ]
  },
  {
   "cell_type": "markdown",
   "metadata": {},
   "source": [
    "## Training the Model"
   ]
  },
  {
   "cell_type": "code",
   "execution_count": 14,
   "metadata": {},
   "outputs": [],
   "source": [
    "class LitModel(L.LightningModule):\n",
    "    def __init__(self, model, config):\n",
    "        super().__init__()\n",
    "        self.model = model\n",
    "        self.config = config\n",
    "\n",
    "    def training_step(self, batch, batch_idx):\n",
    "        logits = self.do_forward(batch)\n",
    "        loss = self.compute_loss(logits, batch.y)\n",
    "\n",
    "        loss = self.compute_loss(logits, batch.y)\n",
    "        acc = self.compute_accuracy(logits, batch.y)\n",
    "\n",
    "        # Log training loss and accuracy\n",
    "        self.log(\"training_loss\", loss, on_step=True, on_epoch=True, logger=True, batch_size=batch_size)\n",
    "        self.log(\"training_accuracy\", acc, on_step=True, on_epoch=True, logger=True, batch_size=batch_size)\n",
    "\n",
    "        return loss\n",
    "\n",
    "    def test_step(self, batch):\n",
    "        logits = self.do_forward(batch)\n",
    "\n",
    "        loss = self.compute_loss(logits, batch.y)\n",
    "        acc = self.compute_accuracy(logits, batch.y)\n",
    "\n",
    "        self.log(\"test_loss\", loss, on_step=True, on_epoch=True, batch_size=batch_size)\n",
    "        self.log(\"test_accuracy\", acc, on_step=True, on_epoch=True, batch_size=batch_size)\n",
    "\n",
    "    def validation_step(self, batch, batch_idx):\n",
    "        logits = self.do_forward(batch)\n",
    "\n",
    "        loss = self.compute_loss(logits, batch.y)\n",
    "        acc = self.compute_accuracy(logits, batch.y)\n",
    "\n",
    "        # Log validation loss and accuracy\n",
    "        self.log(\"validation_loss\", loss, on_step=True, on_epoch=True, logger=True, batch_size=batch_size)\n",
    "        self.log(\"validation_accuracy\", acc, on_step=True, on_epoch=True, logger=True, batch_size=batch_size)\n",
    "\n",
    "    def configure_optimizers(self):\n",
    "        optimizer = torch.optim.AdamW(\n",
    "            params=self.model.parameters(),\n",
    "            lr=self.config.learning_rate,\n",
    "            weight_decay=self.config.weight_decay,\n",
    "            betas=(self.config.beta1, self.config.beta2),\n",
    "        )\n",
    "\n",
    "        return {\n",
    "            \"optimizer\": optimizer,\n",
    "            \"lr_scheduler\": {\n",
    "                \"scheduler\": ReduceLROnPlateau(optimizer),\n",
    "                \"interval\": \"epoch\",\n",
    "                \"frequency\": 1,\n",
    "                \"monitor\": \"validation_loss\",\n",
    "                \"strict\": True,\n",
    "            }\n",
    "        }\n",
    "\n",
    "    def do_forward(self, batch):\n",
    "        \"\"\"This is a custom method not associated with Lightning\"\"\"\n",
    "        return self.model(\n",
    "            node_features=batch.x,\n",
    "            edge_index=batch.edge_index,\n",
    "            batch_mask=batch.batch\n",
    "        )\n",
    "\n",
    "    def compute_loss(self, logits, targets):\n",
    "        \"\"\"This is a custom method not associated with Lightning\"\"\"\n",
    "        targets = targets.type(torch.long)\n",
    "        return F.cross_entropy(logits, targets, weight=class_weights)\n",
    "\n",
    "    def compute_accuracy(self, logits, targets):\n",
    "        \"\"\"This is a custom method not associated with Lightning\"\"\"\n",
    "        return (logits.argmax(1) == targets).float().mean()"
   ]
  },
  {
   "cell_type": "code",
   "execution_count": 15,
   "metadata": {},
   "outputs": [],
   "source": [
    "@dataclass\n",
    "class ModelConfig:\n",
    "    learning_rate: float = 1e-3\n",
    "    weight_decay: float = 5e-4\n",
    "    beta1: float = 0.9\n",
    "    beta2: float = 0.999\n",
    "    grad_clip: float = None\n",
    "    num_epochs: int = 6\n",
    "    log_interval: int = 1\n",
    "    grad_accumulation: int = 1\n",
    "    wandb_project: str = \"wikispeedia_v3\"\n",
    "\n",
    "\n",
    "config = ModelConfig()"
   ]
  },
  {
   "cell_type": "code",
   "execution_count": 16,
   "metadata": {},
   "outputs": [
    {
     "name": "stderr",
     "output_type": "stream",
     "text": [
      "\u001b[34m\u001b[1mwandb\u001b[0m: Using wandb-core as the SDK backend. Please refer to https://wandb.me/wandb-core for more information.\n",
      "\u001b[34m\u001b[1mwandb\u001b[0m: Currently logged in as: \u001b[33mfaustotnc\u001b[0m. Use \u001b[1m`wandb login --relogin`\u001b[0m to force relogin\n"
     ]
    },
    {
     "data": {
      "text/html": [
       "Tracking run with wandb version 0.18.5"
      ],
      "text/plain": [
       "<IPython.core.display.HTML object>"
      ]
     },
     "metadata": {},
     "output_type": "display_data"
    },
    {
     "data": {
      "text/html": [
       "Run data is saved locally in <code>./wandb/run-20241202_121117-2od1xml6</code>"
      ],
      "text/plain": [
       "<IPython.core.display.HTML object>"
      ]
     },
     "metadata": {},
     "output_type": "display_data"
    },
    {
     "data": {
      "text/html": [
       "Syncing run <strong><a href='https://wandb.ai/faustotnc/wikispeedia_v3/runs/2od1xml6' target=\"_blank\">Dec-02-24 @ 12:11 PM</a></strong> to <a href='https://wandb.ai/faustotnc/wikispeedia_v3' target=\"_blank\">Weights & Biases</a> (<a href='https://wandb.me/run' target=\"_blank\">docs</a>)<br/>"
      ],
      "text/plain": [
       "<IPython.core.display.HTML object>"
      ]
     },
     "metadata": {},
     "output_type": "display_data"
    },
    {
     "data": {
      "text/html": [
       " View project at <a href='https://wandb.ai/faustotnc/wikispeedia_v3' target=\"_blank\">https://wandb.ai/faustotnc/wikispeedia_v3</a>"
      ],
      "text/plain": [
       "<IPython.core.display.HTML object>"
      ]
     },
     "metadata": {},
     "output_type": "display_data"
    },
    {
     "data": {
      "text/html": [
       " View run at <a href='https://wandb.ai/faustotnc/wikispeedia_v3/runs/2od1xml6' target=\"_blank\">https://wandb.ai/faustotnc/wikispeedia_v3/runs/2od1xml6</a>"
      ],
      "text/plain": [
       "<IPython.core.display.HTML object>"
      ]
     },
     "metadata": {},
     "output_type": "display_data"
    },
    {
     "name": "stderr",
     "output_type": "stream",
     "text": [
      "\u001b[34m\u001b[1mwandb\u001b[0m: logging graph, to disable use `wandb.watch(log_graph=False)`\n",
      "GPU available: True (mps), used: False\n",
      "TPU available: False, using: 0 TPU cores\n",
      "HPU available: False, using: 0 HPUs\n",
      "/Users/faustogerman/miniforge3/envs/geometric/lib/python3.9/site-packages/lightning/pytorch/trainer/setup.py:177: GPU available but not used. You can set it by doing `Trainer(accelerator='gpu')`.\n",
      "\n",
      "  | Name  | Type  | Params | Mode\n",
      "---------------------------------------\n",
      "0 | model | Model | 1.8 M  | eval\n",
      "---------------------------------------\n",
      "1.8 M     Trainable params\n",
      "0         Non-trainable params\n",
      "1.8 M     Total params\n",
      "7.354     Total estimated model params size (MB)\n",
      "0         Modules in train mode\n",
      "16        Modules in eval mode\n"
     ]
    },
    {
     "name": "stdout",
     "output_type": "stream",
     "text": [
      "                                                                           "
     ]
    },
    {
     "name": "stderr",
     "output_type": "stream",
     "text": [
      "/Users/faustogerman/miniforge3/envs/geometric/lib/python3.9/site-packages/lightning/pytorch/trainer/connectors/data_connector.py:424: The 'val_dataloader' does not have many workers which may be a bottleneck. Consider increasing the value of the `num_workers` argument` to `num_workers=9` in the `DataLoader` to improve performance.\n",
      "/Users/faustogerman/miniforge3/envs/geometric/lib/python3.9/site-packages/lightning/pytorch/trainer/connectors/data_connector.py:424: The 'train_dataloader' does not have many workers which may be a bottleneck. Consider increasing the value of the `num_workers` argument` to `num_workers=9` in the `DataLoader` to improve performance.\n"
     ]
    },
    {
     "name": "stdout",
     "output_type": "stream",
     "text": [
      "Epoch 5: 100%|██████████| 4038/4038 [00:52<00:00, 77.45it/s, v_num=xml6]"
     ]
    },
    {
     "name": "stderr",
     "output_type": "stream",
     "text": [
      "`Trainer.fit` stopped: `max_epochs=6` reached.\n"
     ]
    },
    {
     "name": "stdout",
     "output_type": "stream",
     "text": [
      "Epoch 5: 100%|██████████| 4038/4038 [00:52<00:00, 77.45it/s, v_num=xml6]"
     ]
    },
    {
     "name": "stderr",
     "output_type": "stream",
     "text": [
      "FIT Profiler Report\n",
      "\n",
      "--------------------------------------------------------------------------------------------------------------------------------------------------------------------------------------------------------------------------------------------------------------------------\n",
      "|  Action                                                                                                                                                         \t|  Mean duration (s)\t|  Num calls      \t|  Total time (s) \t|  Percentage %   \t|\n",
      "--------------------------------------------------------------------------------------------------------------------------------------------------------------------------------------------------------------------------------------------------------------------------\n",
      "|  Total                                                                                                                                                          \t|  -              \t|  912621         \t|  307.39         \t|  100 %          \t|\n",
      "--------------------------------------------------------------------------------------------------------------------------------------------------------------------------------------------------------------------------------------------------------------------------\n",
      "|  run_training_epoch                                                                                                                                             \t|  51.218         \t|  6              \t|  307.31         \t|  99.974         \t|\n",
      "|  run_training_batch                                                                                                                                             \t|  0.0062696      \t|  24228          \t|  151.9          \t|  49.416         \t|\n",
      "|  [LightningModule]LitModel.optimizer_step                                                                                                                       \t|  0.0062118      \t|  24228          \t|  150.5          \t|  48.96          \t|\n",
      "|  [_TrainingEpochLoop].train_dataloader_next                                                                                                                     \t|  0.0031103      \t|  24228          \t|  75.357         \t|  24.515         \t|\n",
      "|  [Strategy]SingleDeviceStrategy.training_step                                                                                                                   \t|  0.0023387      \t|  24228          \t|  56.661         \t|  18.433         \t|\n",
      "|  [Callback]TQDMProgressBar.on_train_batch_end                                                                                                                   \t|  0.0014556      \t|  24228          \t|  35.266         \t|  11.473         \t|\n",
      "|  [Strategy]SingleDeviceStrategy.backward                                                                                                                        \t|  0.0011555      \t|  24228          \t|  27.995         \t|  9.1073         \t|\n",
      "|  [_EvaluationLoop].val_next                                                                                                                                     \t|  0.0030109      \t|  2858           \t|  8.6051         \t|  2.7994         \t|\n",
      "|  [LightningModule]LitModel.optimizer_zero_grad                                                                                                                  \t|  0.00027743     \t|  24228          \t|  6.7216         \t|  2.1867         \t|\n",
      "|  [Strategy]SingleDeviceStrategy.validation_step                                                                                                                 \t|  0.0022372      \t|  2858           \t|  6.3939         \t|  2.08           \t|\n",
      "|  [Callback]TQDMProgressBar.on_validation_batch_end                                                                                                              \t|  0.0015654      \t|  2858           \t|  4.4739         \t|  1.4554         \t|\n",
      "|  [Callback]ModelCheckpoint{'monitor': None, 'mode': 'min', 'every_n_train_steps': 0, 'every_n_epochs': 1, 'train_time_interval': None}.on_validation_end        \t|  0.24161        \t|  13             \t|  3.1409         \t|  1.0218         \t|\n",
      "|  [Strategy]SingleDeviceStrategy.batch_to_device                                                                                                                 \t|  4.0486e-05     \t|  27086          \t|  1.0966         \t|  0.35674        \t|\n",
      "|  [LightningModule]LitModel.transfer_batch_to_device                                                                                                             \t|  2.2159e-05     \t|  27086          \t|  0.60021        \t|  0.19526        \t|\n",
      "|  [Callback]ModelCheckpoint{'monitor': None, 'mode': 'min', 'every_n_train_steps': 0, 'every_n_epochs': 1, 'train_time_interval': None}.on_train_batch_end       \t|  1.8521e-05     \t|  24228          \t|  0.44872        \t|  0.14598        \t|\n",
      "|  [LightningModule]LitModel.configure_gradient_clipping                                                                                                          \t|  1.2059e-05     \t|  24228          \t|  0.29217        \t|  0.095048       \t|\n",
      "|  [Callback]ModelSummary.on_train_batch_end                                                                                                                      \t|  3.667e-06      \t|  24228          \t|  0.088844       \t|  0.028903       \t|\n",
      "|  [Callback]TQDMProgressBar.on_validation_batch_start                                                                                                            \t|  1.3674e-05     \t|  2858           \t|  0.03908        \t|  0.012714       \t|\n",
      "|  [Callback]TQDMProgressBar.on_before_zero_grad                                                                                                                  \t|  1.5941e-06     \t|  24228          \t|  0.038621       \t|  0.012564       \t|\n",
      "|  [Callback]TQDMProgressBar.on_after_backward                                                                                                                    \t|  1.5793e-06     \t|  24228          \t|  0.038264       \t|  0.012448       \t|\n",
      "|  [LightningModule]LitModel.on_before_batch_transfer                                                                                                             \t|  1.2693e-06     \t|  27086          \t|  0.034379       \t|  0.011184       \t|\n",
      "|  [Callback]TQDMProgressBar.on_train_batch_start                                                                                                                 \t|  1.1753e-06     \t|  24228          \t|  0.028474       \t|  0.0092632      \t|\n",
      "|  [Callback]TQDMProgressBar.on_before_backward                                                                                                                   \t|  1.1274e-06     \t|  24228          \t|  0.027314       \t|  0.0088859      \t|\n",
      "|  [Callback]TQDMProgressBar.on_before_optimizer_step                                                                                                             \t|  1.1079e-06     \t|  24228          \t|  0.026843       \t|  0.0087325      \t|\n",
      "|  [Callback]TQDMProgressBar.on_validation_end                                                                                                                    \t|  0.0017195      \t|  13             \t|  0.022354       \t|  0.0072721      \t|\n",
      "|  [LightningModule]LitModel.on_train_batch_end                                                                                                                   \t|  9.1062e-07     \t|  24228          \t|  0.022063       \t|  0.0071774      \t|\n",
      "|  [Callback]TQDMProgressBar.on_validation_start                                                                                                                  \t|  0.0016462      \t|  13             \t|  0.0214         \t|  0.0069618      \t|\n",
      "|  [Callback]TQDMProgressBar.on_sanity_check_start                                                                                                                \t|  0.021241       \t|  1              \t|  0.021241       \t|  0.0069102      \t|\n",
      "|  [Callback]ModelCheckpoint{'monitor': None, 'mode': 'min', 'every_n_train_steps': 0, 'every_n_epochs': 1, 'train_time_interval': None}.on_before_backward       \t|  8.0736e-07     \t|  24228          \t|  0.019561       \t|  0.0063635      \t|\n",
      "|  [Callback]ModelSummary.on_before_zero_grad                                                                                                                     \t|  8.0602e-07     \t|  24228          \t|  0.019528       \t|  0.0063529      \t|\n",
      "|  [LightningModule]LitModel.on_before_zero_grad                                                                                                                  \t|  7.3623e-07     \t|  24228          \t|  0.017837       \t|  0.0058029      \t|\n",
      "|  [Callback]ModelCheckpoint{'monitor': None, 'mode': 'min', 'every_n_train_steps': 0, 'every_n_epochs': 1, 'train_time_interval': None}.on_before_zero_grad      \t|  7.1171e-07     \t|  24228          \t|  0.017243       \t|  0.0056096      \t|\n",
      "|  [Callback]ModelSummary.on_train_batch_start                                                                                                                    \t|  7.0756e-07     \t|  24228          \t|  0.017143       \t|  0.0055769      \t|\n",
      "|  [Callback]ModelSummary.on_after_backward                                                                                                                       \t|  6.8931e-07     \t|  24228          \t|  0.016701       \t|  0.0054331      \t|\n",
      "|  [Strategy]SingleDeviceStrategy.on_train_batch_start                                                                                                            \t|  6.8462e-07     \t|  24228          \t|  0.016587       \t|  0.005396       \t|\n",
      "|  [Callback]ModelCheckpoint{'monitor': None, 'mode': 'min', 'every_n_train_steps': 0, 'every_n_epochs': 1, 'train_time_interval': None}.on_after_backward        \t|  6.7805e-07     \t|  24228          \t|  0.016428       \t|  0.0053443      \t|\n",
      "|  [LightningModule]LitModel.on_after_backward                                                                                                                    \t|  6.6698e-07     \t|  24228          \t|  0.01616        \t|  0.005257       \t|\n",
      "|  [LightningModule]LitModel.on_after_batch_transfer                                                                                                              \t|  5.8492e-07     \t|  27086          \t|  0.015843       \t|  0.0051541      \t|\n",
      "|  [Callback]ModelSummary.on_before_backward                                                                                                                      \t|  6.5029e-07     \t|  24228          \t|  0.015755       \t|  0.0051255      \t|\n",
      "|  [Callback]ModelCheckpoint{'monitor': None, 'mode': 'min', 'every_n_train_steps': 0, 'every_n_epochs': 1, 'train_time_interval': None}.on_train_batch_start     \t|  6.4929e-07     \t|  24228          \t|  0.015731       \t|  0.0051176      \t|\n",
      "|  [LightningModule]LitModel.on_before_backward                                                                                                                   \t|  6.4023e-07     \t|  24228          \t|  0.015511       \t|  0.0050462      \t|\n",
      "|  [Callback]ModelSummary.on_before_optimizer_step                                                                                                                \t|  6.3674e-07     \t|  24228          \t|  0.015427       \t|  0.0050187      \t|\n",
      "|  [LightningModule]LitModel.on_train_batch_start                                                                                                                 \t|  6.3191e-07     \t|  24228          \t|  0.01531        \t|  0.0049806      \t|\n",
      "|  [Callback]ModelCheckpoint{'monitor': None, 'mode': 'min', 'every_n_train_steps': 0, 'every_n_epochs': 1, 'train_time_interval': None}.on_before_optimizer_step \t|  6.0132e-07     \t|  24228          \t|  0.014569       \t|  0.0047395      \t|\n",
      "|  [LightningModule]LitModel.on_before_optimizer_step                                                                                                             \t|  4.6886e-07     \t|  24228          \t|  0.01136        \t|  0.0036955      \t|\n",
      "|  [Callback]ModelSummary.on_validation_batch_end                                                                                                                 \t|  3.7515e-06     \t|  2858           \t|  0.010722       \t|  0.003488       \t|\n",
      "|  [Callback]TQDMProgressBar.on_train_epoch_end                                                                                                                   \t|  0.00095301     \t|  6              \t|  0.0057181      \t|  0.0018602      \t|\n",
      "|  [Callback]TQDMProgressBar.on_train_epoch_start                                                                                                                 \t|  0.00089676     \t|  6              \t|  0.0053806      \t|  0.0017504      \t|\n",
      "|  [LightningModule]LitModel.on_validation_model_zero_grad                                                                                                        \t|  0.00040583     \t|  12             \t|  0.0048699      \t|  0.0015843      \t|\n",
      "|  [Callback]ModelSummary.on_validation_batch_start                                                                                                               \t|  1.0233e-06     \t|  2858           \t|  0.0029247      \t|  0.00095146     \t|\n",
      "|  [Callback]ModelCheckpoint{'monitor': None, 'mode': 'min', 'every_n_train_steps': 0, 'every_n_epochs': 1, 'train_time_interval': None}.on_validation_batch_end  \t|  8.9574e-07     \t|  2858           \t|  0.00256        \t|  0.00083282     \t|\n",
      "|  [LightningModule]LitModel.on_validation_batch_end                                                                                                              \t|  8.7909e-07     \t|  2858           \t|  0.0025125      \t|  0.00081735     \t|\n",
      "|  [LightningModule]LitModel.on_validation_batch_start                                                                                                            \t|  6.6768e-07     \t|  2858           \t|  0.0019082      \t|  0.00062078     \t|\n",
      "|  [Callback]ModelCheckpoint{'monitor': None, 'mode': 'min', 'every_n_train_steps': 0, 'every_n_epochs': 1, 'train_time_interval': None}.on_validation_batch_start\t|  6.6413e-07     \t|  2858           \t|  0.0018981      \t|  0.00061749     \t|\n",
      "|  [Callback]TQDMProgressBar.on_train_start                                                                                                                       \t|  0.0012995      \t|  1              \t|  0.0012995      \t|  0.00042274     \t|\n",
      "|  [Callback]TQDMProgressBar.on_train_end                                                                                                                         \t|  0.0011423      \t|  1              \t|  0.0011423      \t|  0.0003716      \t|\n",
      "|  [LightningModule]LitModel.on_validation_model_eval                                                                                                             \t|  7.4481e-05     \t|  13             \t|  0.00096825     \t|  0.00031499     \t|\n",
      "|  [Callback]ModelSummary.on_fit_start                                                                                                                            \t|  0.00070546     \t|  1              \t|  0.00070546     \t|  0.0002295      \t|\n",
      "|  [Callback]ModelCheckpoint{'monitor': None, 'mode': 'min', 'every_n_train_steps': 0, 'every_n_epochs': 1, 'train_time_interval': None}.setup                    \t|  0.00032663     \t|  1              \t|  0.00032663     \t|  0.00010626     \t|\n",
      "|  [LightningModule]LitModel.lr_scheduler_step                                                                                                                    \t|  4.7917e-05     \t|  6              \t|  0.0002875      \t|  9.3529e-05     \t|\n",
      "|  [LightningModule]LitModel.configure_optimizers                                                                                                                 \t|  0.00020883     \t|  1              \t|  0.00020883     \t|  6.7937e-05     \t|\n",
      "|  [Callback]ModelCheckpoint{'monitor': None, 'mode': 'min', 'every_n_train_steps': 0, 'every_n_epochs': 1, 'train_time_interval': None}.on_train_epoch_end       \t|  1.475e-05      \t|  6              \t|  8.85e-05       \t|  2.8791e-05     \t|\n",
      "|  [Callback]TQDMProgressBar.on_validation_epoch_start                                                                                                            \t|  4.3879e-06     \t|  13             \t|  5.7043e-05     \t|  1.8557e-05     \t|\n",
      "|  [Callback]TQDMProgressBar.on_save_checkpoint                                                                                                                   \t|  3.4685e-06     \t|  12             \t|  4.1622e-05     \t|  1.354e-05      \t|\n",
      "|  [Callback]ModelSummary.on_validation_end                                                                                                                       \t|  2.9358e-06     \t|  13             \t|  3.8165e-05     \t|  1.2416e-05     \t|\n",
      "|  [Callback]ModelSummary.on_validation_start                                                                                                                     \t|  2.9102e-06     \t|  13             \t|  3.7833e-05     \t|  1.2308e-05     \t|\n",
      "|  [Callback]ModelSummary.on_sanity_check_start                                                                                                                   \t|  3.2e-05        \t|  1              \t|  3.2e-05        \t|  1.041e-05      \t|\n",
      "|  [Callback]TQDMProgressBar.on_validation_epoch_end                                                                                                              \t|  1.9585e-06     \t|  13             \t|  2.546e-05      \t|  8.2826e-06     \t|\n",
      "|  [LightningModule]LitModel.on_validation_end                                                                                                                    \t|  1.7468e-06     \t|  13             \t|  2.2708e-05     \t|  7.3873e-06     \t|\n",
      "|  [Callback]ModelSummary.on_train_epoch_start                                                                                                                    \t|  3.1597e-06     \t|  6              \t|  1.8958e-05     \t|  6.1674e-06     \t|\n",
      "|  [Callback]ModelSummary.on_train_epoch_end                                                                                                                      \t|  2.5557e-06     \t|  6              \t|  1.5334e-05     \t|  4.9884e-06     \t|\n",
      "|  [Strategy]SingleDeviceStrategy.on_validation_end                                                                                                               \t|  1.0225e-06     \t|  13             \t|  1.3293e-05     \t|  4.3245e-06     \t|\n",
      "|  [Callback]TQDMProgressBar.teardown                                                                                                                             \t|  1.1916e-05     \t|  1              \t|  1.1916e-05     \t|  3.8765e-06     \t|\n",
      "|  [Callback]ModelSummary.on_save_checkpoint                                                                                                                      \t|  9.1325e-07     \t|  12             \t|  1.0959e-05     \t|  3.5652e-06     \t|\n",
      "|  [LightningModule]LitModel.on_validation_start                                                                                                                  \t|  7.6277e-07     \t|  13             \t|  9.916e-06      \t|  3.2259e-06     \t|\n",
      "|  [LightningModule]LitModel.on_validation_epoch_end                                                                                                              \t|  7.5338e-07     \t|  13             \t|  9.794e-06      \t|  3.1862e-06     \t|\n",
      "|  [Callback]ModelCheckpoint{'monitor': None, 'mode': 'min', 'every_n_train_steps': 0, 'every_n_epochs': 1, 'train_time_interval': None}.on_validation_start      \t|  7.2123e-07     \t|  13             \t|  9.376e-06      \t|  3.0502e-06     \t|\n",
      "|  [Callback]ModelSummary.on_validation_epoch_end                                                                                                                 \t|  7.0531e-07     \t|  13             \t|  9.169e-06      \t|  2.9828e-06     \t|\n",
      "|  [Callback]ModelSummary.on_validation_epoch_start                                                                                                               \t|  6.8277e-07     \t|  13             \t|  8.876e-06      \t|  2.8875e-06     \t|\n",
      "|  [Strategy]SingleDeviceStrategy.on_validation_start                                                                                                             \t|  6.3469e-07     \t|  13             \t|  8.251e-06      \t|  2.6842e-06     \t|\n",
      "|  [Callback]ModelCheckpoint{'monitor': None, 'mode': 'min', 'every_n_train_steps': 0, 'every_n_epochs': 1, 'train_time_interval': None}.on_validation_epoch_end  \t|  6.3454e-07     \t|  13             \t|  8.249e-06      \t|  2.6836e-06     \t|\n",
      "|  [LightningModule]LitModel.on_validation_epoch_start                                                                                                            \t|  5.8638e-07     \t|  13             \t|  7.623e-06      \t|  2.4799e-06     \t|\n",
      "|  [Callback]ModelCheckpoint{'monitor': None, 'mode': 'min', 'every_n_train_steps': 0, 'every_n_epochs': 1, 'train_time_interval': None}.on_validation_epoch_start\t|  5.6415e-07     \t|  13             \t|  7.334e-06      \t|  2.3859e-06     \t|\n",
      "|  [Callback]ModelCheckpoint{'monitor': None, 'mode': 'min', 'every_n_train_steps': 0, 'every_n_epochs': 1, 'train_time_interval': None}.on_save_checkpoint       \t|  6.0758e-07     \t|  12             \t|  7.291e-06      \t|  2.3719e-06     \t|\n",
      "|  [Callback]TQDMProgressBar.on_fit_end                                                                                                                           \t|  7.125e-06      \t|  1              \t|  7.125e-06      \t|  2.3179e-06     \t|\n",
      "|  [LightningModule]LitModel.on_train_epoch_end                                                                                                                   \t|  1.1252e-06     \t|  6              \t|  6.751e-06      \t|  2.1962e-06     \t|\n",
      "|  [Callback]ModelSummary.on_train_end                                                                                                                            \t|  6.333e-06      \t|  1              \t|  6.333e-06      \t|  2.0602e-06     \t|\n",
      "|  [LightningModule]LitModel.on_save_checkpoint                                                                                                                   \t|  5.07e-07       \t|  12             \t|  6.084e-06      \t|  1.9792e-06     \t|\n",
      "|  [Callback]ModelCheckpoint{'monitor': None, 'mode': 'min', 'every_n_train_steps': 0, 'every_n_epochs': 1, 'train_time_interval': None}.on_train_epoch_start     \t|  9.0267e-07     \t|  6              \t|  5.416e-06      \t|  1.7619e-06     \t|\n",
      "|  [Callback]TQDMProgressBar.setup                                                                                                                                \t|  5.042e-06      \t|  1              \t|  5.042e-06      \t|  1.6403e-06     \t|\n",
      "|  [Callback]TQDMProgressBar.on_sanity_check_end                                                                                                                  \t|  4.875e-06      \t|  1              \t|  4.875e-06      \t|  1.5859e-06     \t|\n",
      "|  [LightningModule]LitModel.on_train_epoch_start                                                                                                                 \t|  7.1533e-07     \t|  6              \t|  4.292e-06      \t|  1.3963e-06     \t|\n",
      "|  [Callback]ModelCheckpoint{'monitor': None, 'mode': 'min', 'every_n_train_steps': 0, 'every_n_epochs': 1, 'train_time_interval': None}.on_fit_start             \t|  3.583e-06      \t|  1              \t|  3.583e-06      \t|  1.1656e-06     \t|\n",
      "|  [LightningModule]LitModel.setup                                                                                                                                \t|  3.541e-06      \t|  1              \t|  3.541e-06      \t|  1.152e-06      \t|\n",
      "|  [LightningModule]LitModel.on_fit_end                                                                                                                           \t|  3.333e-06      \t|  1              \t|  3.333e-06      \t|  1.0843e-06     \t|\n",
      "|  [LightningModule]LitModel.on_train_start                                                                                                                       \t|  2.833e-06      \t|  1              \t|  2.833e-06      \t|  9.2163e-07     \t|\n",
      "|  [LightningModule]LitModel.on_fit_start                                                                                                                         \t|  2.416e-06      \t|  1              \t|  2.416e-06      \t|  7.8597e-07     \t|\n",
      "|  [LightningModule]LitModel.configure_callbacks                                                                                                                  \t|  1.958e-06      \t|  1              \t|  1.958e-06      \t|  6.3697e-07     \t|\n",
      "|  [Callback]ModelSummary.on_train_start                                                                                                                          \t|  1.583e-06      \t|  1              \t|  1.583e-06      \t|  5.1498e-07     \t|\n",
      "|  [Callback]ModelCheckpoint{'monitor': None, 'mode': 'min', 'every_n_train_steps': 0, 'every_n_epochs': 1, 'train_time_interval': None}.on_train_end             \t|  1.5e-06        \t|  1              \t|  1.5e-06        \t|  4.8798e-07     \t|\n",
      "|  [Callback]TQDMProgressBar.on_fit_start                                                                                                                         \t|  1.25e-06       \t|  1              \t|  1.25e-06       \t|  4.0665e-07     \t|\n",
      "|  [Callback]ModelCheckpoint{'monitor': None, 'mode': 'min', 'every_n_train_steps': 0, 'every_n_epochs': 1, 'train_time_interval': None}.on_train_start           \t|  1.208e-06      \t|  1              \t|  1.208e-06      \t|  3.9299e-07     \t|\n",
      "|  [Callback]ModelSummary.on_sanity_check_end                                                                                                                     \t|  1.042e-06      \t|  1              \t|  1.042e-06      \t|  3.3898e-07     \t|\n",
      "|  [LightningModule]LitModel.on_train_end                                                                                                                         \t|  1e-06          \t|  1              \t|  1e-06          \t|  3.2532e-07     \t|\n",
      "|  [Callback]ModelCheckpoint{'monitor': None, 'mode': 'min', 'every_n_train_steps': 0, 'every_n_epochs': 1, 'train_time_interval': None}.on_fit_end               \t|  1e-06          \t|  1              \t|  1e-06          \t|  3.2532e-07     \t|\n",
      "|  [LightningModule]LitModel.teardown                                                                                                                             \t|  1e-06          \t|  1              \t|  1e-06          \t|  3.2532e-07     \t|\n",
      "|  [Callback]ModelSummary.teardown                                                                                                                                \t|  9.17e-07       \t|  1              \t|  9.17e-07       \t|  2.9832e-07     \t|\n",
      "|  [Callback]ModelCheckpoint{'monitor': None, 'mode': 'min', 'every_n_train_steps': 0, 'every_n_epochs': 1, 'train_time_interval': None}.on_sanity_check_start    \t|  9.16e-07       \t|  1              \t|  9.16e-07       \t|  2.9799e-07     \t|\n",
      "|  [Callback]ModelSummary.on_fit_end                                                                                                                              \t|  8.75e-07       \t|  1              \t|  8.75e-07       \t|  2.8465e-07     \t|\n",
      "|  [Callback]ModelCheckpoint{'monitor': None, 'mode': 'min', 'every_n_train_steps': 0, 'every_n_epochs': 1, 'train_time_interval': None}.teardown                 \t|  8.75e-07       \t|  1              \t|  8.75e-07       \t|  2.8465e-07     \t|\n",
      "|  [Callback]ModelSummary.setup                                                                                                                                   \t|  8.33e-07       \t|  1              \t|  8.33e-07       \t|  2.7099e-07     \t|\n",
      "|  [Strategy]SingleDeviceStrategy.on_train_end                                                                                                                    \t|  7.92e-07       \t|  1              \t|  7.92e-07       \t|  2.5765e-07     \t|\n",
      "|  [Callback]ModelCheckpoint{'monitor': None, 'mode': 'min', 'every_n_train_steps': 0, 'every_n_epochs': 1, 'train_time_interval': None}.on_sanity_check_end      \t|  7.92e-07       \t|  1              \t|  7.92e-07       \t|  2.5765e-07     \t|\n",
      "|  [Strategy]SingleDeviceStrategy.on_train_start                                                                                                                  \t|  5e-07          \t|  1              \t|  5e-07          \t|  1.6266e-07     \t|\n",
      "--------------------------------------------------------------------------------------------------------------------------------------------------------------------------------------------------------------------------------------------------------------------------\n",
      "\n"
     ]
    },
    {
     "name": "stdout",
     "output_type": "stream",
     "text": [
      "\n"
     ]
    }
   ],
   "source": [
    "# model\n",
    "transformer = LitModel(MODEL, config)\n",
    "\n",
    "# logging\n",
    "wandb_logger = WandbLogger(\n",
    "    project=config.wandb_project,\n",
    "    name=datetime.datetime.now().strftime(\"%b-%d-%y @ %I:%M %p\"),\n",
    "    log_model=\"all\",\n",
    "    config=config\n",
    ")\n",
    "\n",
    "wandb_logger.watch(MODEL, log=\"all\")\n",
    "\n",
    "# Define the trainer\n",
    "trainer = L.Trainer(\n",
    "    default_root_dir=\"some/path/\",\n",
    "    max_epochs=config.num_epochs,\n",
    "    val_check_interval=0.5,\n",
    "    log_every_n_steps=config.log_interval,\n",
    "    accumulate_grad_batches=config.grad_accumulation,\n",
    "    gradient_clip_val=config.grad_clip,\n",
    "    profiler=\"simple\",\n",
    "    logger=wandb_logger,\n",
    "    # NOTE: Should be commented out if using GPU. There may be bugs related\n",
    "    # to tensor device placements, since I have not tested this on GPU.\n",
    "    accelerator=\"cpu\",\n",
    ")\n",
    "\n",
    "# train model\n",
    "trainer.fit(\n",
    "    model=transformer,\n",
    "    train_dataloaders=train_loader,\n",
    "    val_dataloaders=val_loader\n",
    ")"
   ]
  },
  {
   "cell_type": "code",
   "execution_count": 17,
   "metadata": {},
   "outputs": [
    {
     "data": {
      "image/png": "[encoded data removed]",
      "text/plain": [
       "<Figure size 640x480 with 2 Axes>"
      ]
     },
     "metadata": {},
     "output_type": "display_data"
    }
   ],
   "source": [
    "conf_matrix(MODEL, test_loader)"
   ]
  },
  {
   "cell_type": "code",
   "execution_count": null,
   "metadata": {},
   "outputs": [],
   "source": []
  }
 ],
 "metadata": {
  "kernelspec": {
   "display_name": ".venv",
   "language": "python",
   "name": "python3"
  },
  "language_info": {
   "codemirror_mode": {
    "name": "ipython",
    "version": 3
   },
   "file_extension": ".py",
   "mimetype": "text/x-python",
   "name": "python",
   "nbconvert_exporter": "python",
   "pygments_lexer": "ipython3",
   "version": "3.9.6"
  }
 },
 "nbformat": 4,
 "nbformat_minor": 2
}
